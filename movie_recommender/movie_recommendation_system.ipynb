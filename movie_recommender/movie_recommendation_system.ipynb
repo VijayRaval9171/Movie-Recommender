{
 "cells": [
  {
   "cell_type": "code",
   "execution_count": 1,
   "id": "e45775c2",
   "metadata": {
    "id": "e45775c2"
   },
   "outputs": [],
   "source": [
    "import pandas as pd\n",
    "import numpy as np\n",
    "import matplotlib.pyplot as plt\n",
    "import seaborn as sns\n",
    "import warnings\n",
    "warnings.filterwarnings('ignore')"
   ]
  },
  {
   "cell_type": "code",
   "execution_count": 2,
   "id": "9bd63451",
   "metadata": {
    "id": "9bd63451"
   },
   "outputs": [],
   "source": [
    "data=pd.read_csv(\"top_1000_imdb_movies.csv\")"
   ]
  },
  {
   "cell_type": "code",
   "execution_count": 3,
   "id": "a75cf57a",
   "metadata": {
    "colab": {
     "base_uri": "https://localhost:8080/",
     "height": 414
    },
    "id": "a75cf57a",
    "outputId": "5e1f3ce8-a9cd-48ce-bce5-420157058e96"
   },
   "outputs": [
    {
     "data": {
      "text/html": [
       "<div>\n",
       "<style scoped>\n",
       "    .dataframe tbody tr th:only-of-type {\n",
       "        vertical-align: middle;\n",
       "    }\n",
       "\n",
       "    .dataframe tbody tr th {\n",
       "        vertical-align: top;\n",
       "    }\n",
       "\n",
       "    .dataframe thead th {\n",
       "        text-align: right;\n",
       "    }\n",
       "</style>\n",
       "<table border=\"1\" class=\"dataframe\">\n",
       "  <thead>\n",
       "    <tr style=\"text-align: right;\">\n",
       "      <th></th>\n",
       "      <th>movie_name</th>\n",
       "      <th>year</th>\n",
       "      <th>rating</th>\n",
       "      <th>certificate</th>\n",
       "      <th>gross_income</th>\n",
       "      <th>votes</th>\n",
       "      <th>runtime</th>\n",
       "      <th>genre</th>\n",
       "      <th>description</th>\n",
       "      <th>directors</th>\n",
       "      <th>stars</th>\n",
       "      <th>movie_id</th>\n",
       "    </tr>\n",
       "  </thead>\n",
       "  <tbody>\n",
       "    <tr>\n",
       "      <th>0</th>\n",
       "      <td>The Shawshank Redemption</td>\n",
       "      <td>(1994)</td>\n",
       "      <td>9.3</td>\n",
       "      <td>A</td>\n",
       "      <td>$28.34M</td>\n",
       "      <td>2,836,049</td>\n",
       "      <td>142 min</td>\n",
       "      <td>Drama</td>\n",
       "      <td>Over the course of several years, two convicts...</td>\n",
       "      <td>Frank Darabont</td>\n",
       "      <td>Stars:Tim Robbins, Morgan Freeman, Bob Gu...</td>\n",
       "      <td>tt0111161</td>\n",
       "    </tr>\n",
       "    <tr>\n",
       "      <th>1</th>\n",
       "      <td>The Dark Knight</td>\n",
       "      <td>(2008)</td>\n",
       "      <td>9.0</td>\n",
       "      <td>UA</td>\n",
       "      <td>$534.86M</td>\n",
       "      <td>2,817,468</td>\n",
       "      <td>152 min</td>\n",
       "      <td>Action, Crime, Drama</td>\n",
       "      <td>When the menace known as the Joker wreaks havo...</td>\n",
       "      <td>Christopher Nolan</td>\n",
       "      <td>Stars:Christian Bale, Heath Ledger, Aaron...</td>\n",
       "      <td>tt0468569</td>\n",
       "    </tr>\n",
       "    <tr>\n",
       "      <th>2</th>\n",
       "      <td>Inception</td>\n",
       "      <td>(2010)</td>\n",
       "      <td>8.8</td>\n",
       "      <td>UA</td>\n",
       "      <td>$292.58M</td>\n",
       "      <td>2,500,792</td>\n",
       "      <td>148 min</td>\n",
       "      <td>Action, Adventure, Sci-Fi</td>\n",
       "      <td>A thief who steals corporate secrets through t...</td>\n",
       "      <td>Christopher Nolan</td>\n",
       "      <td>Stars:Leonardo DiCaprio, Joseph Gordon-Le...</td>\n",
       "      <td>tt1375666</td>\n",
       "    </tr>\n",
       "    <tr>\n",
       "      <th>3</th>\n",
       "      <td>Fight Club</td>\n",
       "      <td>(1999)</td>\n",
       "      <td>8.8</td>\n",
       "      <td>A</td>\n",
       "      <td>$37.03M</td>\n",
       "      <td>2,271,737</td>\n",
       "      <td>139 min</td>\n",
       "      <td>Drama</td>\n",
       "      <td>An insomniac office worker and a devil-may-car...</td>\n",
       "      <td>David Fincher</td>\n",
       "      <td>Stars:Brad Pitt, Edward Norton, Meat Loaf...</td>\n",
       "      <td>tt0137523</td>\n",
       "    </tr>\n",
       "    <tr>\n",
       "      <th>4</th>\n",
       "      <td>Pulp Fiction</td>\n",
       "      <td>(1994)</td>\n",
       "      <td>8.9</td>\n",
       "      <td>A</td>\n",
       "      <td>$107.93M</td>\n",
       "      <td>2,175,614</td>\n",
       "      <td>154 min</td>\n",
       "      <td>Crime, Drama</td>\n",
       "      <td>The lives of two mob hitmen, a boxer, a gangst...</td>\n",
       "      <td>Quentin Tarantino</td>\n",
       "      <td>Stars:John Travolta, Uma Thurman, Samuel ...</td>\n",
       "      <td>tt0110912</td>\n",
       "    </tr>\n",
       "  </tbody>\n",
       "</table>\n",
       "</div>"
      ],
      "text/plain": [
       "                 movie_name    year  rating certificate gross_income  \\\n",
       "0  The Shawshank Redemption  (1994)     9.3           A      $28.34M   \n",
       "1           The Dark Knight  (2008)     9.0          UA     $534.86M   \n",
       "2                 Inception  (2010)     8.8          UA     $292.58M   \n",
       "3                Fight Club  (1999)     8.8           A      $37.03M   \n",
       "4              Pulp Fiction  (1994)     8.9           A     $107.93M   \n",
       "\n",
       "       votes  runtime                                  genre  \\\n",
       "0  2,836,049  142 min                      Drama               \n",
       "1  2,817,468  152 min       Action, Crime, Drama               \n",
       "2  2,500,792  148 min  Action, Adventure, Sci-Fi               \n",
       "3  2,271,737  139 min                      Drama               \n",
       "4  2,175,614  154 min               Crime, Drama               \n",
       "\n",
       "                                         description          directors  \\\n",
       "0  Over the course of several years, two convicts...     Frank Darabont   \n",
       "1  When the menace known as the Joker wreaks havo...  Christopher Nolan   \n",
       "2  A thief who steals corporate secrets through t...  Christopher Nolan   \n",
       "3  An insomniac office worker and a devil-may-car...      David Fincher   \n",
       "4  The lives of two mob hitmen, a boxer, a gangst...  Quentin Tarantino   \n",
       "\n",
       "                                               stars   movie_id  \n",
       "0       Stars:Tim Robbins, Morgan Freeman, Bob Gu...  tt0111161  \n",
       "1       Stars:Christian Bale, Heath Ledger, Aaron...  tt0468569  \n",
       "2       Stars:Leonardo DiCaprio, Joseph Gordon-Le...  tt1375666  \n",
       "3       Stars:Brad Pitt, Edward Norton, Meat Loaf...  tt0137523  \n",
       "4       Stars:John Travolta, Uma Thurman, Samuel ...  tt0110912  "
      ]
     },
     "execution_count": 3,
     "metadata": {},
     "output_type": "execute_result"
    }
   ],
   "source": [
    "data.head()"
   ]
  },
  {
   "cell_type": "code",
   "execution_count": 4,
   "id": "0df878f0",
   "metadata": {
    "colab": {
     "base_uri": "https://localhost:8080/"
    },
    "id": "0df878f0",
    "outputId": "cf945d45-9903-44ba-a8e9-2cdf81bc0c31"
   },
   "outputs": [
    {
     "data": {
      "text/plain": [
       "(10000, 12)"
      ]
     },
     "execution_count": 4,
     "metadata": {},
     "output_type": "execute_result"
    }
   ],
   "source": [
    "data.shape"
   ]
  },
  {
   "cell_type": "code",
   "execution_count": 5,
   "id": "ad7b1736",
   "metadata": {
    "colab": {
     "base_uri": "https://localhost:8080/"
    },
    "id": "ad7b1736",
    "outputId": "38010e08-0862-48a6-c208-8eda9017d789",
    "scrolled": true
   },
   "outputs": [
    {
     "name": "stdout",
     "output_type": "stream",
     "text": [
      "<class 'pandas.core.frame.DataFrame'>\n",
      "RangeIndex: 10000 entries, 0 to 9999\n",
      "Data columns (total 12 columns):\n",
      " #   Column        Non-Null Count  Dtype  \n",
      "---  ------        --------------  -----  \n",
      " 0   movie_name    10000 non-null  object \n",
      " 1   year          10000 non-null  object \n",
      " 2   rating        10000 non-null  float64\n",
      " 3   certificate   10000 non-null  object \n",
      " 4   gross_income  10000 non-null  object \n",
      " 5   votes         10000 non-null  object \n",
      " 6   runtime       10000 non-null  object \n",
      " 7   genre         10000 non-null  object \n",
      " 8   description   10000 non-null  object \n",
      " 9   directors     10000 non-null  object \n",
      " 10  stars         9998 non-null   object \n",
      " 11  movie_id      10000 non-null  object \n",
      "dtypes: float64(1), object(11)\n",
      "memory usage: 937.6+ KB\n"
     ]
    }
   ],
   "source": [
    "data.info()"
   ]
  },
  {
   "cell_type": "code",
   "execution_count": 6,
   "id": "d9c091f8",
   "metadata": {},
   "outputs": [],
   "source": [
    "data = data.reindex(['movie_id', 'movie_name', 'year', 'rating', 'certificate', 'gross_income', 'votes', 'runtime', 'genre', 'description', 'directors', 'stars'], axis=1)"
   ]
  },
  {
   "cell_type": "code",
   "execution_count": 7,
   "id": "a6676a12",
   "metadata": {},
   "outputs": [
    {
     "data": {
      "text/html": [
       "<div>\n",
       "<style scoped>\n",
       "    .dataframe tbody tr th:only-of-type {\n",
       "        vertical-align: middle;\n",
       "    }\n",
       "\n",
       "    .dataframe tbody tr th {\n",
       "        vertical-align: top;\n",
       "    }\n",
       "\n",
       "    .dataframe thead th {\n",
       "        text-align: right;\n",
       "    }\n",
       "</style>\n",
       "<table border=\"1\" class=\"dataframe\">\n",
       "  <thead>\n",
       "    <tr style=\"text-align: right;\">\n",
       "      <th></th>\n",
       "      <th>movie_id</th>\n",
       "      <th>movie_name</th>\n",
       "      <th>year</th>\n",
       "      <th>rating</th>\n",
       "      <th>certificate</th>\n",
       "      <th>gross_income</th>\n",
       "      <th>votes</th>\n",
       "      <th>runtime</th>\n",
       "      <th>genre</th>\n",
       "      <th>description</th>\n",
       "      <th>directors</th>\n",
       "      <th>stars</th>\n",
       "    </tr>\n",
       "  </thead>\n",
       "  <tbody>\n",
       "    <tr>\n",
       "      <th>0</th>\n",
       "      <td>tt0111161</td>\n",
       "      <td>The Shawshank Redemption</td>\n",
       "      <td>(1994)</td>\n",
       "      <td>9.3</td>\n",
       "      <td>A</td>\n",
       "      <td>$28.34M</td>\n",
       "      <td>2,836,049</td>\n",
       "      <td>142 min</td>\n",
       "      <td>Drama</td>\n",
       "      <td>Over the course of several years, two convicts...</td>\n",
       "      <td>Frank Darabont</td>\n",
       "      <td>Stars:Tim Robbins, Morgan Freeman, Bob Gu...</td>\n",
       "    </tr>\n",
       "    <tr>\n",
       "      <th>1</th>\n",
       "      <td>tt0468569</td>\n",
       "      <td>The Dark Knight</td>\n",
       "      <td>(2008)</td>\n",
       "      <td>9.0</td>\n",
       "      <td>UA</td>\n",
       "      <td>$534.86M</td>\n",
       "      <td>2,817,468</td>\n",
       "      <td>152 min</td>\n",
       "      <td>Action, Crime, Drama</td>\n",
       "      <td>When the menace known as the Joker wreaks havo...</td>\n",
       "      <td>Christopher Nolan</td>\n",
       "      <td>Stars:Christian Bale, Heath Ledger, Aaron...</td>\n",
       "    </tr>\n",
       "    <tr>\n",
       "      <th>2</th>\n",
       "      <td>tt1375666</td>\n",
       "      <td>Inception</td>\n",
       "      <td>(2010)</td>\n",
       "      <td>8.8</td>\n",
       "      <td>UA</td>\n",
       "      <td>$292.58M</td>\n",
       "      <td>2,500,792</td>\n",
       "      <td>148 min</td>\n",
       "      <td>Action, Adventure, Sci-Fi</td>\n",
       "      <td>A thief who steals corporate secrets through t...</td>\n",
       "      <td>Christopher Nolan</td>\n",
       "      <td>Stars:Leonardo DiCaprio, Joseph Gordon-Le...</td>\n",
       "    </tr>\n",
       "    <tr>\n",
       "      <th>3</th>\n",
       "      <td>tt0137523</td>\n",
       "      <td>Fight Club</td>\n",
       "      <td>(1999)</td>\n",
       "      <td>8.8</td>\n",
       "      <td>A</td>\n",
       "      <td>$37.03M</td>\n",
       "      <td>2,271,737</td>\n",
       "      <td>139 min</td>\n",
       "      <td>Drama</td>\n",
       "      <td>An insomniac office worker and a devil-may-car...</td>\n",
       "      <td>David Fincher</td>\n",
       "      <td>Stars:Brad Pitt, Edward Norton, Meat Loaf...</td>\n",
       "    </tr>\n",
       "    <tr>\n",
       "      <th>4</th>\n",
       "      <td>tt0110912</td>\n",
       "      <td>Pulp Fiction</td>\n",
       "      <td>(1994)</td>\n",
       "      <td>8.9</td>\n",
       "      <td>A</td>\n",
       "      <td>$107.93M</td>\n",
       "      <td>2,175,614</td>\n",
       "      <td>154 min</td>\n",
       "      <td>Crime, Drama</td>\n",
       "      <td>The lives of two mob hitmen, a boxer, a gangst...</td>\n",
       "      <td>Quentin Tarantino</td>\n",
       "      <td>Stars:John Travolta, Uma Thurman, Samuel ...</td>\n",
       "    </tr>\n",
       "  </tbody>\n",
       "</table>\n",
       "</div>"
      ],
      "text/plain": [
       "    movie_id                movie_name    year  rating certificate  \\\n",
       "0  tt0111161  The Shawshank Redemption  (1994)     9.3           A   \n",
       "1  tt0468569           The Dark Knight  (2008)     9.0          UA   \n",
       "2  tt1375666                 Inception  (2010)     8.8          UA   \n",
       "3  tt0137523                Fight Club  (1999)     8.8           A   \n",
       "4  tt0110912              Pulp Fiction  (1994)     8.9           A   \n",
       "\n",
       "  gross_income      votes  runtime                                  genre  \\\n",
       "0      $28.34M  2,836,049  142 min                      Drama               \n",
       "1     $534.86M  2,817,468  152 min       Action, Crime, Drama               \n",
       "2     $292.58M  2,500,792  148 min  Action, Adventure, Sci-Fi               \n",
       "3      $37.03M  2,271,737  139 min                      Drama               \n",
       "4     $107.93M  2,175,614  154 min               Crime, Drama               \n",
       "\n",
       "                                         description          directors  \\\n",
       "0  Over the course of several years, two convicts...     Frank Darabont   \n",
       "1  When the menace known as the Joker wreaks havo...  Christopher Nolan   \n",
       "2  A thief who steals corporate secrets through t...  Christopher Nolan   \n",
       "3  An insomniac office worker and a devil-may-car...      David Fincher   \n",
       "4  The lives of two mob hitmen, a boxer, a gangst...  Quentin Tarantino   \n",
       "\n",
       "                                               stars  \n",
       "0       Stars:Tim Robbins, Morgan Freeman, Bob Gu...  \n",
       "1       Stars:Christian Bale, Heath Ledger, Aaron...  \n",
       "2       Stars:Leonardo DiCaprio, Joseph Gordon-Le...  \n",
       "3       Stars:Brad Pitt, Edward Norton, Meat Loaf...  \n",
       "4       Stars:John Travolta, Uma Thurman, Samuel ...  "
      ]
     },
     "execution_count": 7,
     "metadata": {},
     "output_type": "execute_result"
    }
   ],
   "source": [
    "data.head()"
   ]
  },
  {
   "cell_type": "code",
   "execution_count": 8,
   "id": "57d540b4",
   "metadata": {
    "id": "57d540b4"
   },
   "outputs": [],
   "source": [
    "data['stars'].fillna('Not Available', inplace=True)"
   ]
  },
  {
   "cell_type": "code",
   "execution_count": 9,
   "id": "d271a246",
   "metadata": {
    "colab": {
     "base_uri": "https://localhost:8080/"
    },
    "id": "d271a246",
    "outputId": "a8f71b69-de4b-490a-d4d9-3d59568a1531"
   },
   "outputs": [
    {
     "name": "stdout",
     "output_type": "stream",
     "text": [
      "<class 'pandas.core.frame.DataFrame'>\n",
      "RangeIndex: 10000 entries, 0 to 9999\n",
      "Data columns (total 12 columns):\n",
      " #   Column        Non-Null Count  Dtype  \n",
      "---  ------        --------------  -----  \n",
      " 0   movie_id      10000 non-null  object \n",
      " 1   movie_name    10000 non-null  object \n",
      " 2   year          10000 non-null  object \n",
      " 3   rating        10000 non-null  float64\n",
      " 4   certificate   10000 non-null  object \n",
      " 5   gross_income  10000 non-null  object \n",
      " 6   votes         10000 non-null  object \n",
      " 7   runtime       10000 non-null  object \n",
      " 8   genre         10000 non-null  object \n",
      " 9   description   10000 non-null  object \n",
      " 10  directors     10000 non-null  object \n",
      " 11  stars         10000 non-null  object \n",
      "dtypes: float64(1), object(11)\n",
      "memory usage: 937.6+ KB\n"
     ]
    }
   ],
   "source": [
    "data.info()"
   ]
  },
  {
   "cell_type": "code",
   "execution_count": 10,
   "id": "1e5b2d20",
   "metadata": {
    "colab": {
     "base_uri": "https://localhost:8080/"
    },
    "id": "1e5b2d20",
    "outputId": "8440d512-4870-46e5-f02f-9f2c87de1fa2"
   },
   "outputs": [
    {
     "data": {
      "text/plain": [
       "movie_id           0\n",
       "movie_name         0\n",
       "year               0\n",
       "rating             0\n",
       "certificate        0\n",
       "gross_income    2432\n",
       "votes           2432\n",
       "runtime            0\n",
       "genre              0\n",
       "description        0\n",
       "directors          0\n",
       "stars              0\n",
       "dtype: int64"
      ]
     },
     "execution_count": 10,
     "metadata": {},
     "output_type": "execute_result"
    }
   ],
   "source": [
    "zero_values = (data =='0').sum()\n",
    "zero_values"
   ]
  },
  {
   "cell_type": "code",
   "execution_count": 11,
   "id": "68132fc7",
   "metadata": {
    "colab": {
     "base_uri": "https://localhost:8080/"
    },
    "id": "68132fc7",
    "outputId": "8adb75b9-5e6c-4159-bad3-e94782ad3c4f"
   },
   "outputs": [
    {
     "data": {
      "text/plain": [
       "movie_id        0\n",
       "movie_name      0\n",
       "year            0\n",
       "rating          0\n",
       "certificate     0\n",
       "gross_income    0\n",
       "votes           0\n",
       "runtime         0\n",
       "genre           0\n",
       "description     0\n",
       "directors       0\n",
       "stars           0\n",
       "dtype: int64"
      ]
     },
     "execution_count": 11,
     "metadata": {},
     "output_type": "execute_result"
    }
   ],
   "source": [
    "null_values=(data=='null').sum()\n",
    "null_values"
   ]
  },
  {
   "cell_type": "code",
   "execution_count": 12,
   "id": "5633e403",
   "metadata": {
    "colab": {
     "base_uri": "https://localhost:8080/"
    },
    "id": "5633e403",
    "outputId": "77758281-39c5-4ae7-a09a-fb5c177511c3"
   },
   "outputs": [
    {
     "data": {
      "text/plain": [
       "movie_id           0\n",
       "movie_name         0\n",
       "year               0\n",
       "rating             0\n",
       "certificate     2451\n",
       "gross_income       0\n",
       "votes              0\n",
       "runtime            0\n",
       "genre              0\n",
       "description        0\n",
       "directors          0\n",
       "stars              0\n",
       "dtype: int64"
      ]
     },
     "execution_count": 12,
     "metadata": {},
     "output_type": "execute_result"
    }
   ],
   "source": [
    "not_rated=(data=='Not Rated').sum()\n",
    "not_rated"
   ]
  },
  {
   "cell_type": "code",
   "execution_count": 13,
   "id": "d2b78b79",
   "metadata": {
    "colab": {
     "base_uri": "https://localhost:8080/"
    },
    "id": "d2b78b79",
    "outputId": "4f6aeccf-2983-42c6-ed04-cd91017e845c"
   },
   "outputs": [
    {
     "data": {
      "text/plain": [
       "movie_id        0\n",
       "movie_name      0\n",
       "year            0\n",
       "rating          0\n",
       "certificate     6\n",
       "gross_income    0\n",
       "votes           0\n",
       "runtime         0\n",
       "genre           0\n",
       "description     0\n",
       "directors       0\n",
       "stars           0\n",
       "dtype: int64"
      ]
     },
     "execution_count": 13,
     "metadata": {},
     "output_type": "execute_result"
    }
   ],
   "source": [
    "not_rated=(data=='Unrated').sum()\n",
    "not_rated"
   ]
  },
  {
   "cell_type": "code",
   "execution_count": 14,
   "id": "cc1a3831",
   "metadata": {
    "id": "cc1a3831"
   },
   "outputs": [],
   "source": [
    "# as we observe there is nul values in the votes and gross_income , we wiill drop them\n",
    "#the certificate columns while scrapping for the empty ones we hv given 'not rated' so we will elimate that rows"
   ]
  },
  {
   "cell_type": "code",
   "execution_count": 15,
   "id": "813bf029",
   "metadata": {
    "colab": {
     "base_uri": "https://localhost:8080/",
     "height": 1000
    },
    "id": "813bf029",
    "outputId": "840927b0-81c0-45cc-a5a3-3a1ecbcac4c6"
   },
   "outputs": [
    {
     "data": {
      "text/html": [
       "<div>\n",
       "<style scoped>\n",
       "    .dataframe tbody tr th:only-of-type {\n",
       "        vertical-align: middle;\n",
       "    }\n",
       "\n",
       "    .dataframe tbody tr th {\n",
       "        vertical-align: top;\n",
       "    }\n",
       "\n",
       "    .dataframe thead th {\n",
       "        text-align: right;\n",
       "    }\n",
       "</style>\n",
       "<table border=\"1\" class=\"dataframe\">\n",
       "  <thead>\n",
       "    <tr style=\"text-align: right;\">\n",
       "      <th></th>\n",
       "      <th>movie_id</th>\n",
       "      <th>movie_name</th>\n",
       "      <th>year</th>\n",
       "      <th>rating</th>\n",
       "      <th>certificate</th>\n",
       "      <th>gross_income</th>\n",
       "      <th>votes</th>\n",
       "      <th>runtime</th>\n",
       "      <th>genre</th>\n",
       "      <th>description</th>\n",
       "      <th>directors</th>\n",
       "      <th>stars</th>\n",
       "    </tr>\n",
       "  </thead>\n",
       "  <tbody>\n",
       "    <tr>\n",
       "      <th>0</th>\n",
       "      <td>tt0111161</td>\n",
       "      <td>The Shawshank Redemption</td>\n",
       "      <td>(1994)</td>\n",
       "      <td>9.3</td>\n",
       "      <td>A</td>\n",
       "      <td>$28.34M</td>\n",
       "      <td>2,836,049</td>\n",
       "      <td>142 min</td>\n",
       "      <td>Drama</td>\n",
       "      <td>Over the course of several years, two convicts...</td>\n",
       "      <td>Frank Darabont</td>\n",
       "      <td>Stars:Tim Robbins, Morgan Freeman, Bob Gu...</td>\n",
       "    </tr>\n",
       "    <tr>\n",
       "      <th>1</th>\n",
       "      <td>tt0468569</td>\n",
       "      <td>The Dark Knight</td>\n",
       "      <td>(2008)</td>\n",
       "      <td>9.0</td>\n",
       "      <td>UA</td>\n",
       "      <td>$534.86M</td>\n",
       "      <td>2,817,468</td>\n",
       "      <td>152 min</td>\n",
       "      <td>Action, Crime, Drama</td>\n",
       "      <td>When the menace known as the Joker wreaks havo...</td>\n",
       "      <td>Christopher Nolan</td>\n",
       "      <td>Stars:Christian Bale, Heath Ledger, Aaron...</td>\n",
       "    </tr>\n",
       "    <tr>\n",
       "      <th>2</th>\n",
       "      <td>tt1375666</td>\n",
       "      <td>Inception</td>\n",
       "      <td>(2010)</td>\n",
       "      <td>8.8</td>\n",
       "      <td>UA</td>\n",
       "      <td>$292.58M</td>\n",
       "      <td>2,500,792</td>\n",
       "      <td>148 min</td>\n",
       "      <td>Action, Adventure, Sci-Fi</td>\n",
       "      <td>A thief who steals corporate secrets through t...</td>\n",
       "      <td>Christopher Nolan</td>\n",
       "      <td>Stars:Leonardo DiCaprio, Joseph Gordon-Le...</td>\n",
       "    </tr>\n",
       "    <tr>\n",
       "      <th>3</th>\n",
       "      <td>tt0137523</td>\n",
       "      <td>Fight Club</td>\n",
       "      <td>(1999)</td>\n",
       "      <td>8.8</td>\n",
       "      <td>A</td>\n",
       "      <td>$37.03M</td>\n",
       "      <td>2,271,737</td>\n",
       "      <td>139 min</td>\n",
       "      <td>Drama</td>\n",
       "      <td>An insomniac office worker and a devil-may-car...</td>\n",
       "      <td>David Fincher</td>\n",
       "      <td>Stars:Brad Pitt, Edward Norton, Meat Loaf...</td>\n",
       "    </tr>\n",
       "    <tr>\n",
       "      <th>4</th>\n",
       "      <td>tt0110912</td>\n",
       "      <td>Pulp Fiction</td>\n",
       "      <td>(1994)</td>\n",
       "      <td>8.9</td>\n",
       "      <td>A</td>\n",
       "      <td>$107.93M</td>\n",
       "      <td>2,175,614</td>\n",
       "      <td>154 min</td>\n",
       "      <td>Crime, Drama</td>\n",
       "      <td>The lives of two mob hitmen, a boxer, a gangst...</td>\n",
       "      <td>Quentin Tarantino</td>\n",
       "      <td>Stars:John Travolta, Uma Thurman, Samuel ...</td>\n",
       "    </tr>\n",
       "    <tr>\n",
       "      <th>...</th>\n",
       "      <td>...</td>\n",
       "      <td>...</td>\n",
       "      <td>...</td>\n",
       "      <td>...</td>\n",
       "      <td>...</td>\n",
       "      <td>...</td>\n",
       "      <td>...</td>\n",
       "      <td>...</td>\n",
       "      <td>...</td>\n",
       "      <td>...</td>\n",
       "      <td>...</td>\n",
       "      <td>...</td>\n",
       "    </tr>\n",
       "    <tr>\n",
       "      <th>9995</th>\n",
       "      <td>tt0120142</td>\n",
       "      <td>The Sixth Man</td>\n",
       "      <td>(1997)</td>\n",
       "      <td>5.6</td>\n",
       "      <td>PG-13</td>\n",
       "      <td>$14.71M</td>\n",
       "      <td>6,237</td>\n",
       "      <td>107 min</td>\n",
       "      <td>Comedy, Drama, Fantasy</td>\n",
       "      <td>A college athlete returns from the dead to hel...</td>\n",
       "      <td>Randall Miller</td>\n",
       "      <td>Stars:Marlon Wayans, Kadeem Hardison, Dav...</td>\n",
       "    </tr>\n",
       "    <tr>\n",
       "      <th>9996</th>\n",
       "      <td>tt1156173</td>\n",
       "      <td>Vincere</td>\n",
       "      <td>(2009)</td>\n",
       "      <td>6.8</td>\n",
       "      <td>Not Rated</td>\n",
       "      <td>$0.62M</td>\n",
       "      <td>5,849</td>\n",
       "      <td>128 min</td>\n",
       "      <td>Biography, Drama, Romance</td>\n",
       "      <td>The story of Mussolini's secret lover, Ida Dal...</td>\n",
       "      <td>Marco Bellocchio</td>\n",
       "      <td>Stars:Giovanna Mezzogiorno, Filippo Timi,...</td>\n",
       "    </tr>\n",
       "    <tr>\n",
       "      <th>9997</th>\n",
       "      <td>tt0036818</td>\n",
       "      <td>Die Feuerzangenbowle</td>\n",
       "      <td>(1944)</td>\n",
       "      <td>7.7</td>\n",
       "      <td>Not Rated</td>\n",
       "      <td>0</td>\n",
       "      <td>0</td>\n",
       "      <td>97 min</td>\n",
       "      <td>Comedy, Family</td>\n",
       "      <td>A successful writer, home-schooled in his yout...</td>\n",
       "      <td>Helmut Weiss</td>\n",
       "      <td>Stars:Heinz Rühmann, Karin Himboldt, Hild...</td>\n",
       "    </tr>\n",
       "    <tr>\n",
       "      <th>9998</th>\n",
       "      <td>tt0120683</td>\n",
       "      <td>Gloria</td>\n",
       "      <td>(1999)</td>\n",
       "      <td>5.1</td>\n",
       "      <td>A</td>\n",
       "      <td>$4.16M</td>\n",
       "      <td>6,148</td>\n",
       "      <td>108 min</td>\n",
       "      <td>Crime, Drama, Thriller</td>\n",
       "      <td>After serving three years in prison covering f...</td>\n",
       "      <td>Sidney Lumet</td>\n",
       "      <td>Stars:Sharon Stone, Jean-Luke Figueroa, J...</td>\n",
       "    </tr>\n",
       "    <tr>\n",
       "      <th>9999</th>\n",
       "      <td>tt1660379</td>\n",
       "      <td>L'Apollonide (Souvenirs de la maison close)</td>\n",
       "      <td>(2011)</td>\n",
       "      <td>6.7</td>\n",
       "      <td>Not Rated</td>\n",
       "      <td>$0.02M</td>\n",
       "      <td>7,597</td>\n",
       "      <td>122 min</td>\n",
       "      <td>Drama</td>\n",
       "      <td>At an elegant Parisian bordello at the dawn of...</td>\n",
       "      <td>Bertrand Bonello</td>\n",
       "      <td>Stars:Noémie Lvovsky, Hafsia Herzi, Célin...</td>\n",
       "    </tr>\n",
       "  </tbody>\n",
       "</table>\n",
       "<p>10000 rows × 12 columns</p>\n",
       "</div>"
      ],
      "text/plain": [
       "       movie_id                                   movie_name    year  rating  \\\n",
       "0     tt0111161                     The Shawshank Redemption  (1994)     9.3   \n",
       "1     tt0468569                              The Dark Knight  (2008)     9.0   \n",
       "2     tt1375666                                    Inception  (2010)     8.8   \n",
       "3     tt0137523                                   Fight Club  (1999)     8.8   \n",
       "4     tt0110912                                 Pulp Fiction  (1994)     8.9   \n",
       "...         ...                                          ...     ...     ...   \n",
       "9995  tt0120142                                The Sixth Man  (1997)     5.6   \n",
       "9996  tt1156173                                      Vincere  (2009)     6.8   \n",
       "9997  tt0036818                         Die Feuerzangenbowle  (1944)     7.7   \n",
       "9998  tt0120683                                       Gloria  (1999)     5.1   \n",
       "9999  tt1660379  L'Apollonide (Souvenirs de la maison close)  (2011)     6.7   \n",
       "\n",
       "     certificate gross_income      votes  runtime  \\\n",
       "0              A      $28.34M  2,836,049  142 min   \n",
       "1             UA     $534.86M  2,817,468  152 min   \n",
       "2             UA     $292.58M  2,500,792  148 min   \n",
       "3              A      $37.03M  2,271,737  139 min   \n",
       "4              A     $107.93M  2,175,614  154 min   \n",
       "...          ...          ...        ...      ...   \n",
       "9995       PG-13      $14.71M      6,237  107 min   \n",
       "9996   Not Rated       $0.62M      5,849  128 min   \n",
       "9997   Not Rated            0          0   97 min   \n",
       "9998           A       $4.16M      6,148  108 min   \n",
       "9999   Not Rated       $0.02M      7,597  122 min   \n",
       "\n",
       "                                      genre  \\\n",
       "0                         Drama               \n",
       "1          Action, Crime, Drama               \n",
       "2     Action, Adventure, Sci-Fi               \n",
       "3                         Drama               \n",
       "4                  Crime, Drama               \n",
       "...                                     ...   \n",
       "9995     Comedy, Drama, Fantasy               \n",
       "9996  Biography, Drama, Romance               \n",
       "9997             Comedy, Family               \n",
       "9998     Crime, Drama, Thriller               \n",
       "9999                      Drama               \n",
       "\n",
       "                                            description          directors  \\\n",
       "0     Over the course of several years, two convicts...     Frank Darabont   \n",
       "1     When the menace known as the Joker wreaks havo...  Christopher Nolan   \n",
       "2     A thief who steals corporate secrets through t...  Christopher Nolan   \n",
       "3     An insomniac office worker and a devil-may-car...      David Fincher   \n",
       "4     The lives of two mob hitmen, a boxer, a gangst...  Quentin Tarantino   \n",
       "...                                                 ...                ...   \n",
       "9995  A college athlete returns from the dead to hel...     Randall Miller   \n",
       "9996  The story of Mussolini's secret lover, Ida Dal...   Marco Bellocchio   \n",
       "9997  A successful writer, home-schooled in his yout...       Helmut Weiss   \n",
       "9998  After serving three years in prison covering f...       Sidney Lumet   \n",
       "9999  At an elegant Parisian bordello at the dawn of...   Bertrand Bonello   \n",
       "\n",
       "                                                  stars  \n",
       "0          Stars:Tim Robbins, Morgan Freeman, Bob Gu...  \n",
       "1          Stars:Christian Bale, Heath Ledger, Aaron...  \n",
       "2          Stars:Leonardo DiCaprio, Joseph Gordon-Le...  \n",
       "3          Stars:Brad Pitt, Edward Norton, Meat Loaf...  \n",
       "4          Stars:John Travolta, Uma Thurman, Samuel ...  \n",
       "...                                                 ...  \n",
       "9995       Stars:Marlon Wayans, Kadeem Hardison, Dav...  \n",
       "9996       Stars:Giovanna Mezzogiorno, Filippo Timi,...  \n",
       "9997       Stars:Heinz Rühmann, Karin Himboldt, Hild...  \n",
       "9998       Stars:Sharon Stone, Jean-Luke Figueroa, J...  \n",
       "9999       Stars:Noémie Lvovsky, Hafsia Herzi, Célin...  \n",
       "\n",
       "[10000 rows x 12 columns]"
      ]
     },
     "execution_count": 15,
     "metadata": {},
     "output_type": "execute_result"
    }
   ],
   "source": [
    "df=data.copy()\n",
    "df"
   ]
  },
  {
   "cell_type": "code",
   "execution_count": 16,
   "id": "e7c51b21",
   "metadata": {
    "colab": {
     "base_uri": "https://localhost:8080/"
    },
    "id": "e7c51b21",
    "outputId": "8f229d6d-eaa7-4cf4-dd04-7c7cd288089a"
   },
   "outputs": [
    {
     "data": {
      "text/plain": [
       "(7568, 12)"
      ]
     },
     "execution_count": 16,
     "metadata": {},
     "output_type": "execute_result"
    }
   ],
   "source": [
    "df = df[(df['gross_income'] != '0') & (df['votes'] != '0')]\n",
    "df.reset_index(drop=True, inplace=True)\n",
    "df.shape"
   ]
  },
  {
   "cell_type": "code",
   "execution_count": 17,
   "id": "0170016b",
   "metadata": {
    "colab": {
     "base_uri": "https://localhost:8080/"
    },
    "id": "0170016b",
    "outputId": "3cd575c0-1292-451a-9fa1-912ae11427d8"
   },
   "outputs": [
    {
     "data": {
      "text/plain": [
       "(6428, 12)"
      ]
     },
     "execution_count": 17,
     "metadata": {},
     "output_type": "execute_result"
    }
   ],
   "source": [
    "df = df[(df['certificate'] != 'Unrated') & (df['certificate'] != 'Not Rated')]\n",
    "df.reset_index(drop=True, inplace=True)\n",
    "df.shape"
   ]
  },
  {
   "cell_type": "code",
   "execution_count": 18,
   "id": "6c10c725",
   "metadata": {
    "colab": {
     "base_uri": "https://localhost:8080/",
     "height": 414
    },
    "id": "6c10c725",
    "outputId": "b8539cf9-249c-4164-9ecd-04eb1806db09"
   },
   "outputs": [
    {
     "data": {
      "text/html": [
       "<div>\n",
       "<style scoped>\n",
       "    .dataframe tbody tr th:only-of-type {\n",
       "        vertical-align: middle;\n",
       "    }\n",
       "\n",
       "    .dataframe tbody tr th {\n",
       "        vertical-align: top;\n",
       "    }\n",
       "\n",
       "    .dataframe thead th {\n",
       "        text-align: right;\n",
       "    }\n",
       "</style>\n",
       "<table border=\"1\" class=\"dataframe\">\n",
       "  <thead>\n",
       "    <tr style=\"text-align: right;\">\n",
       "      <th></th>\n",
       "      <th>movie_id</th>\n",
       "      <th>movie_name</th>\n",
       "      <th>year</th>\n",
       "      <th>rating</th>\n",
       "      <th>certificate</th>\n",
       "      <th>gross_income</th>\n",
       "      <th>votes</th>\n",
       "      <th>runtime</th>\n",
       "      <th>genre</th>\n",
       "      <th>description</th>\n",
       "      <th>directors</th>\n",
       "      <th>stars</th>\n",
       "    </tr>\n",
       "  </thead>\n",
       "  <tbody>\n",
       "    <tr>\n",
       "      <th>0</th>\n",
       "      <td>tt0111161</td>\n",
       "      <td>The Shawshank Redemption</td>\n",
       "      <td>(1994)</td>\n",
       "      <td>9.3</td>\n",
       "      <td>A</td>\n",
       "      <td>$28.34M</td>\n",
       "      <td>2,836,049</td>\n",
       "      <td>142 min</td>\n",
       "      <td>Drama</td>\n",
       "      <td>Over the course of several years, two convicts...</td>\n",
       "      <td>Frank Darabont</td>\n",
       "      <td>Stars:Tim Robbins, Morgan Freeman, Bob Gu...</td>\n",
       "    </tr>\n",
       "    <tr>\n",
       "      <th>1</th>\n",
       "      <td>tt0468569</td>\n",
       "      <td>The Dark Knight</td>\n",
       "      <td>(2008)</td>\n",
       "      <td>9.0</td>\n",
       "      <td>UA</td>\n",
       "      <td>$534.86M</td>\n",
       "      <td>2,817,468</td>\n",
       "      <td>152 min</td>\n",
       "      <td>Action, Crime, Drama</td>\n",
       "      <td>When the menace known as the Joker wreaks havo...</td>\n",
       "      <td>Christopher Nolan</td>\n",
       "      <td>Stars:Christian Bale, Heath Ledger, Aaron...</td>\n",
       "    </tr>\n",
       "    <tr>\n",
       "      <th>2</th>\n",
       "      <td>tt1375666</td>\n",
       "      <td>Inception</td>\n",
       "      <td>(2010)</td>\n",
       "      <td>8.8</td>\n",
       "      <td>UA</td>\n",
       "      <td>$292.58M</td>\n",
       "      <td>2,500,792</td>\n",
       "      <td>148 min</td>\n",
       "      <td>Action, Adventure, Sci-Fi</td>\n",
       "      <td>A thief who steals corporate secrets through t...</td>\n",
       "      <td>Christopher Nolan</td>\n",
       "      <td>Stars:Leonardo DiCaprio, Joseph Gordon-Le...</td>\n",
       "    </tr>\n",
       "    <tr>\n",
       "      <th>3</th>\n",
       "      <td>tt0137523</td>\n",
       "      <td>Fight Club</td>\n",
       "      <td>(1999)</td>\n",
       "      <td>8.8</td>\n",
       "      <td>A</td>\n",
       "      <td>$37.03M</td>\n",
       "      <td>2,271,737</td>\n",
       "      <td>139 min</td>\n",
       "      <td>Drama</td>\n",
       "      <td>An insomniac office worker and a devil-may-car...</td>\n",
       "      <td>David Fincher</td>\n",
       "      <td>Stars:Brad Pitt, Edward Norton, Meat Loaf...</td>\n",
       "    </tr>\n",
       "    <tr>\n",
       "      <th>4</th>\n",
       "      <td>tt0110912</td>\n",
       "      <td>Pulp Fiction</td>\n",
       "      <td>(1994)</td>\n",
       "      <td>8.9</td>\n",
       "      <td>A</td>\n",
       "      <td>$107.93M</td>\n",
       "      <td>2,175,614</td>\n",
       "      <td>154 min</td>\n",
       "      <td>Crime, Drama</td>\n",
       "      <td>The lives of two mob hitmen, a boxer, a gangst...</td>\n",
       "      <td>Quentin Tarantino</td>\n",
       "      <td>Stars:John Travolta, Uma Thurman, Samuel ...</td>\n",
       "    </tr>\n",
       "  </tbody>\n",
       "</table>\n",
       "</div>"
      ],
      "text/plain": [
       "    movie_id                movie_name    year  rating certificate  \\\n",
       "0  tt0111161  The Shawshank Redemption  (1994)     9.3           A   \n",
       "1  tt0468569           The Dark Knight  (2008)     9.0          UA   \n",
       "2  tt1375666                 Inception  (2010)     8.8          UA   \n",
       "3  tt0137523                Fight Club  (1999)     8.8           A   \n",
       "4  tt0110912              Pulp Fiction  (1994)     8.9           A   \n",
       "\n",
       "  gross_income      votes  runtime                                  genre  \\\n",
       "0      $28.34M  2,836,049  142 min                      Drama               \n",
       "1     $534.86M  2,817,468  152 min       Action, Crime, Drama               \n",
       "2     $292.58M  2,500,792  148 min  Action, Adventure, Sci-Fi               \n",
       "3      $37.03M  2,271,737  139 min                      Drama               \n",
       "4     $107.93M  2,175,614  154 min               Crime, Drama               \n",
       "\n",
       "                                         description          directors  \\\n",
       "0  Over the course of several years, two convicts...     Frank Darabont   \n",
       "1  When the menace known as the Joker wreaks havo...  Christopher Nolan   \n",
       "2  A thief who steals corporate secrets through t...  Christopher Nolan   \n",
       "3  An insomniac office worker and a devil-may-car...      David Fincher   \n",
       "4  The lives of two mob hitmen, a boxer, a gangst...  Quentin Tarantino   \n",
       "\n",
       "                                               stars  \n",
       "0       Stars:Tim Robbins, Morgan Freeman, Bob Gu...  \n",
       "1       Stars:Christian Bale, Heath Ledger, Aaron...  \n",
       "2       Stars:Leonardo DiCaprio, Joseph Gordon-Le...  \n",
       "3       Stars:Brad Pitt, Edward Norton, Meat Loaf...  \n",
       "4       Stars:John Travolta, Uma Thurman, Samuel ...  "
      ]
     },
     "execution_count": 18,
     "metadata": {},
     "output_type": "execute_result"
    }
   ],
   "source": [
    "df.head()"
   ]
  },
  {
   "cell_type": "code",
   "execution_count": 19,
   "id": "54cf9823",
   "metadata": {
    "colab": {
     "base_uri": "https://localhost:8080/"
    },
    "id": "54cf9823",
    "outputId": "b46b8a4e-7894-4da3-e523-708d28175430"
   },
   "outputs": [
    {
     "name": "stdout",
     "output_type": "stream",
     "text": [
      "<class 'pandas.core.frame.DataFrame'>\n",
      "RangeIndex: 6428 entries, 0 to 6427\n",
      "Data columns (total 12 columns):\n",
      " #   Column        Non-Null Count  Dtype  \n",
      "---  ------        --------------  -----  \n",
      " 0   movie_id      6428 non-null   object \n",
      " 1   movie_name    6428 non-null   object \n",
      " 2   year          6428 non-null   object \n",
      " 3   rating        6428 non-null   float64\n",
      " 4   certificate   6428 non-null   object \n",
      " 5   gross_income  6428 non-null   object \n",
      " 6   votes         6428 non-null   object \n",
      " 7   runtime       6428 non-null   object \n",
      " 8   genre         6428 non-null   object \n",
      " 9   description   6428 non-null   object \n",
      " 10  directors     6428 non-null   object \n",
      " 11  stars         6428 non-null   object \n",
      "dtypes: float64(1), object(11)\n",
      "memory usage: 602.8+ KB\n"
     ]
    }
   ],
   "source": [
    "df.info()"
   ]
  },
  {
   "cell_type": "code",
   "execution_count": 20,
   "id": "dd0a2aac",
   "metadata": {
    "colab": {
     "base_uri": "https://localhost:8080/"
    },
    "id": "dd0a2aac",
    "outputId": "0bbd8691-b08e-446e-ba7c-3d949a7e9cf4"
   },
   "outputs": [
    {
     "data": {
      "text/plain": [
       "274"
      ]
     },
     "execution_count": 20,
     "metadata": {},
     "output_type": "execute_result"
    }
   ],
   "source": [
    "df.duplicated().sum()"
   ]
  },
  {
   "cell_type": "code",
   "execution_count": 21,
   "id": "e97c0a4c",
   "metadata": {
    "colab": {
     "base_uri": "https://localhost:8080/",
     "height": 909
    },
    "id": "e97c0a4c",
    "outputId": "d4581be0-e545-46d8-a14d-38256659873a"
   },
   "outputs": [
    {
     "data": {
      "text/html": [
       "<div>\n",
       "<style scoped>\n",
       "    .dataframe tbody tr th:only-of-type {\n",
       "        vertical-align: middle;\n",
       "    }\n",
       "\n",
       "    .dataframe tbody tr th {\n",
       "        vertical-align: top;\n",
       "    }\n",
       "\n",
       "    .dataframe thead th {\n",
       "        text-align: right;\n",
       "    }\n",
       "</style>\n",
       "<table border=\"1\" class=\"dataframe\">\n",
       "  <thead>\n",
       "    <tr style=\"text-align: right;\">\n",
       "      <th></th>\n",
       "      <th>movie_id</th>\n",
       "      <th>movie_name</th>\n",
       "      <th>year</th>\n",
       "      <th>rating</th>\n",
       "      <th>certificate</th>\n",
       "      <th>gross_income</th>\n",
       "      <th>votes</th>\n",
       "      <th>runtime</th>\n",
       "      <th>genre</th>\n",
       "      <th>description</th>\n",
       "      <th>directors</th>\n",
       "      <th>stars</th>\n",
       "    </tr>\n",
       "  </thead>\n",
       "  <tbody>\n",
       "    <tr>\n",
       "      <th>100</th>\n",
       "      <td>tt0111161</td>\n",
       "      <td>The Shawshank Redemption</td>\n",
       "      <td>(1994)</td>\n",
       "      <td>9.3</td>\n",
       "      <td>A</td>\n",
       "      <td>$28.34M</td>\n",
       "      <td>2,836,049</td>\n",
       "      <td>142 min</td>\n",
       "      <td>Drama</td>\n",
       "      <td>Over the course of several years, two convicts...</td>\n",
       "      <td>Frank Darabont</td>\n",
       "      <td>Stars:Tim Robbins, Morgan Freeman, Bob Gu...</td>\n",
       "    </tr>\n",
       "    <tr>\n",
       "      <th>101</th>\n",
       "      <td>tt0468569</td>\n",
       "      <td>The Dark Knight</td>\n",
       "      <td>(2008)</td>\n",
       "      <td>9.0</td>\n",
       "      <td>UA</td>\n",
       "      <td>$534.86M</td>\n",
       "      <td>2,817,468</td>\n",
       "      <td>152 min</td>\n",
       "      <td>Action, Crime, Drama</td>\n",
       "      <td>When the menace known as the Joker wreaks havo...</td>\n",
       "      <td>Christopher Nolan</td>\n",
       "      <td>Stars:Christian Bale, Heath Ledger, Aaron...</td>\n",
       "    </tr>\n",
       "    <tr>\n",
       "      <th>102</th>\n",
       "      <td>tt1375666</td>\n",
       "      <td>Inception</td>\n",
       "      <td>(2010)</td>\n",
       "      <td>8.8</td>\n",
       "      <td>UA</td>\n",
       "      <td>$292.58M</td>\n",
       "      <td>2,500,792</td>\n",
       "      <td>148 min</td>\n",
       "      <td>Action, Adventure, Sci-Fi</td>\n",
       "      <td>A thief who steals corporate secrets through t...</td>\n",
       "      <td>Christopher Nolan</td>\n",
       "      <td>Stars:Leonardo DiCaprio, Joseph Gordon-Le...</td>\n",
       "    </tr>\n",
       "    <tr>\n",
       "      <th>103</th>\n",
       "      <td>tt0137523</td>\n",
       "      <td>Fight Club</td>\n",
       "      <td>(1999)</td>\n",
       "      <td>8.8</td>\n",
       "      <td>A</td>\n",
       "      <td>$37.03M</td>\n",
       "      <td>2,271,737</td>\n",
       "      <td>139 min</td>\n",
       "      <td>Drama</td>\n",
       "      <td>An insomniac office worker and a devil-may-car...</td>\n",
       "      <td>David Fincher</td>\n",
       "      <td>Stars:Brad Pitt, Edward Norton, Meat Loaf...</td>\n",
       "    </tr>\n",
       "    <tr>\n",
       "      <th>104</th>\n",
       "      <td>tt0110912</td>\n",
       "      <td>Pulp Fiction</td>\n",
       "      <td>(1994)</td>\n",
       "      <td>8.9</td>\n",
       "      <td>A</td>\n",
       "      <td>$107.93M</td>\n",
       "      <td>2,175,614</td>\n",
       "      <td>154 min</td>\n",
       "      <td>Crime, Drama</td>\n",
       "      <td>The lives of two mob hitmen, a boxer, a gangst...</td>\n",
       "      <td>Quentin Tarantino</td>\n",
       "      <td>Stars:John Travolta, Uma Thurman, Samuel ...</td>\n",
       "    </tr>\n",
       "    <tr>\n",
       "      <th>...</th>\n",
       "      <td>...</td>\n",
       "      <td>...</td>\n",
       "      <td>...</td>\n",
       "      <td>...</td>\n",
       "      <td>...</td>\n",
       "      <td>...</td>\n",
       "      <td>...</td>\n",
       "      <td>...</td>\n",
       "      <td>...</td>\n",
       "      <td>...</td>\n",
       "      <td>...</td>\n",
       "      <td>...</td>\n",
       "    </tr>\n",
       "    <tr>\n",
       "      <th>5725</th>\n",
       "      <td>tt0093044</td>\n",
       "      <td>The Fourth Protocol</td>\n",
       "      <td>(1987)</td>\n",
       "      <td>6.5</td>\n",
       "      <td>A</td>\n",
       "      <td>$12.42M</td>\n",
       "      <td>10,759</td>\n",
       "      <td>119 min</td>\n",
       "      <td>Thriller</td>\n",
       "      <td>John Preston is a British Agent with the task ...</td>\n",
       "      <td>John Mackenzie</td>\n",
       "      <td>Stars:Michael Caine, Pierce Brosnan, Ned ...</td>\n",
       "    </tr>\n",
       "    <tr>\n",
       "      <th>5726</th>\n",
       "      <td>tt1710417</td>\n",
       "      <td>Lola Versus</td>\n",
       "      <td>(2012)</td>\n",
       "      <td>5.5</td>\n",
       "      <td>R</td>\n",
       "      <td>$0.25M</td>\n",
       "      <td>8,945</td>\n",
       "      <td>87 min</td>\n",
       "      <td>Comedy</td>\n",
       "      <td>Dumped by her boyfriend just three weeks befor...</td>\n",
       "      <td>Daryl Wein</td>\n",
       "      <td>Stars:Greta Gerwig, Zoe Lister-Jones, Ham...</td>\n",
       "    </tr>\n",
       "    <tr>\n",
       "      <th>5727</th>\n",
       "      <td>tt0092115</td>\n",
       "      <td>Troll</td>\n",
       "      <td>(1986)</td>\n",
       "      <td>4.6</td>\n",
       "      <td>UA</td>\n",
       "      <td>$5.45M</td>\n",
       "      <td>11,305</td>\n",
       "      <td>82 min</td>\n",
       "      <td>Comedy, Fantasy, Horror</td>\n",
       "      <td>A wicked troll king in search of a mystical ri...</td>\n",
       "      <td>John Carl Buechler</td>\n",
       "      <td>Stars:Michael Moriarty, Shelley Hack, Noa...</td>\n",
       "    </tr>\n",
       "    <tr>\n",
       "      <th>5728</th>\n",
       "      <td>tt1278379</td>\n",
       "      <td>Jack Goes Boating</td>\n",
       "      <td>(2010)</td>\n",
       "      <td>6.3</td>\n",
       "      <td>R</td>\n",
       "      <td>$0.54M</td>\n",
       "      <td>8,666</td>\n",
       "      <td>91 min</td>\n",
       "      <td>Drama, Romance</td>\n",
       "      <td>A limo driver's blind date sparks a tale of lo...</td>\n",
       "      <td>Philip Seymour Hoffman</td>\n",
       "      <td>Stars:Philip Seymour Hoffman, Amy Ryan, J...</td>\n",
       "    </tr>\n",
       "    <tr>\n",
       "      <th>5729</th>\n",
       "      <td>tt0097967</td>\n",
       "      <td>Next of Kin</td>\n",
       "      <td>(1989)</td>\n",
       "      <td>5.8</td>\n",
       "      <td>UA</td>\n",
       "      <td>$15.94M</td>\n",
       "      <td>12,401</td>\n",
       "      <td>108 min</td>\n",
       "      <td>Action, Crime, Drama</td>\n",
       "      <td>Truman, a Chicago cop, sets out to find the ki...</td>\n",
       "      <td>John Irvin</td>\n",
       "      <td>Stars:Patrick Swayze, Liam Neeson, Adam B...</td>\n",
       "    </tr>\n",
       "  </tbody>\n",
       "</table>\n",
       "<p>274 rows × 12 columns</p>\n",
       "</div>"
      ],
      "text/plain": [
       "       movie_id                movie_name    year  rating certificate  \\\n",
       "100   tt0111161  The Shawshank Redemption  (1994)     9.3           A   \n",
       "101   tt0468569           The Dark Knight  (2008)     9.0          UA   \n",
       "102   tt1375666                 Inception  (2010)     8.8          UA   \n",
       "103   tt0137523                Fight Club  (1999)     8.8           A   \n",
       "104   tt0110912              Pulp Fiction  (1994)     8.9           A   \n",
       "...         ...                       ...     ...     ...         ...   \n",
       "5725  tt0093044       The Fourth Protocol  (1987)     6.5           A   \n",
       "5726  tt1710417               Lola Versus  (2012)     5.5           R   \n",
       "5727  tt0092115                     Troll  (1986)     4.6          UA   \n",
       "5728  tt1278379         Jack Goes Boating  (2010)     6.3           R   \n",
       "5729  tt0097967               Next of Kin  (1989)     5.8          UA   \n",
       "\n",
       "     gross_income      votes  runtime                                  genre  \\\n",
       "100       $28.34M  2,836,049  142 min                      Drama               \n",
       "101      $534.86M  2,817,468  152 min       Action, Crime, Drama               \n",
       "102      $292.58M  2,500,792  148 min  Action, Adventure, Sci-Fi               \n",
       "103       $37.03M  2,271,737  139 min                      Drama               \n",
       "104      $107.93M  2,175,614  154 min               Crime, Drama               \n",
       "...           ...        ...      ...                                    ...   \n",
       "5725      $12.42M     10,759  119 min                   Thriller               \n",
       "5726       $0.25M      8,945   87 min                     Comedy               \n",
       "5727       $5.45M     11,305   82 min    Comedy, Fantasy, Horror               \n",
       "5728       $0.54M      8,666   91 min             Drama, Romance               \n",
       "5729      $15.94M     12,401  108 min       Action, Crime, Drama               \n",
       "\n",
       "                                            description  \\\n",
       "100   Over the course of several years, two convicts...   \n",
       "101   When the menace known as the Joker wreaks havo...   \n",
       "102   A thief who steals corporate secrets through t...   \n",
       "103   An insomniac office worker and a devil-may-car...   \n",
       "104   The lives of two mob hitmen, a boxer, a gangst...   \n",
       "...                                                 ...   \n",
       "5725  John Preston is a British Agent with the task ...   \n",
       "5726  Dumped by her boyfriend just three weeks befor...   \n",
       "5727  A wicked troll king in search of a mystical ri...   \n",
       "5728  A limo driver's blind date sparks a tale of lo...   \n",
       "5729  Truman, a Chicago cop, sets out to find the ki...   \n",
       "\n",
       "                   directors  \\\n",
       "100           Frank Darabont   \n",
       "101        Christopher Nolan   \n",
       "102        Christopher Nolan   \n",
       "103            David Fincher   \n",
       "104        Quentin Tarantino   \n",
       "...                      ...   \n",
       "5725          John Mackenzie   \n",
       "5726              Daryl Wein   \n",
       "5727      John Carl Buechler   \n",
       "5728  Philip Seymour Hoffman   \n",
       "5729              John Irvin   \n",
       "\n",
       "                                                  stars  \n",
       "100        Stars:Tim Robbins, Morgan Freeman, Bob Gu...  \n",
       "101        Stars:Christian Bale, Heath Ledger, Aaron...  \n",
       "102        Stars:Leonardo DiCaprio, Joseph Gordon-Le...  \n",
       "103        Stars:Brad Pitt, Edward Norton, Meat Loaf...  \n",
       "104        Stars:John Travolta, Uma Thurman, Samuel ...  \n",
       "...                                                 ...  \n",
       "5725       Stars:Michael Caine, Pierce Brosnan, Ned ...  \n",
       "5726       Stars:Greta Gerwig, Zoe Lister-Jones, Ham...  \n",
       "5727       Stars:Michael Moriarty, Shelley Hack, Noa...  \n",
       "5728       Stars:Philip Seymour Hoffman, Amy Ryan, J...  \n",
       "5729       Stars:Patrick Swayze, Liam Neeson, Adam B...  \n",
       "\n",
       "[274 rows x 12 columns]"
      ]
     },
     "execution_count": 21,
     "metadata": {},
     "output_type": "execute_result"
    }
   ],
   "source": [
    "df[df.duplicated()]"
   ]
  },
  {
   "cell_type": "code",
   "execution_count": 22,
   "id": "9f77c662",
   "metadata": {
    "id": "9f77c662"
   },
   "outputs": [],
   "source": [
    "# there are duplicate vlaues in our dataset , we simply drop the rows"
   ]
  },
  {
   "cell_type": "code",
   "execution_count": 23,
   "id": "8dcc017b",
   "metadata": {
    "id": "8dcc017b"
   },
   "outputs": [],
   "source": [
    "df=df.drop_duplicates()"
   ]
  },
  {
   "cell_type": "code",
   "execution_count": 24,
   "id": "1e4bd3f3",
   "metadata": {
    "colab": {
     "base_uri": "https://localhost:8080/",
     "height": 927
    },
    "id": "1e4bd3f3",
    "outputId": "6bc0e1c3-f03b-4d78-d429-17df36f8b657",
    "scrolled": true
   },
   "outputs": [
    {
     "data": {
      "text/html": [
       "<div>\n",
       "<style scoped>\n",
       "    .dataframe tbody tr th:only-of-type {\n",
       "        vertical-align: middle;\n",
       "    }\n",
       "\n",
       "    .dataframe tbody tr th {\n",
       "        vertical-align: top;\n",
       "    }\n",
       "\n",
       "    .dataframe thead th {\n",
       "        text-align: right;\n",
       "    }\n",
       "</style>\n",
       "<table border=\"1\" class=\"dataframe\">\n",
       "  <thead>\n",
       "    <tr style=\"text-align: right;\">\n",
       "      <th></th>\n",
       "      <th>movie_id</th>\n",
       "      <th>movie_name</th>\n",
       "      <th>year</th>\n",
       "      <th>rating</th>\n",
       "      <th>certificate</th>\n",
       "      <th>gross_income</th>\n",
       "      <th>votes</th>\n",
       "      <th>runtime</th>\n",
       "      <th>genre</th>\n",
       "      <th>description</th>\n",
       "      <th>directors</th>\n",
       "      <th>stars</th>\n",
       "    </tr>\n",
       "  </thead>\n",
       "  <tbody>\n",
       "    <tr>\n",
       "      <th>0</th>\n",
       "      <td>tt0111161</td>\n",
       "      <td>The Shawshank Redemption</td>\n",
       "      <td>(1994)</td>\n",
       "      <td>9.3</td>\n",
       "      <td>A</td>\n",
       "      <td>$28.34M</td>\n",
       "      <td>2,836,049</td>\n",
       "      <td>142 min</td>\n",
       "      <td>Drama</td>\n",
       "      <td>Over the course of several years, two convicts...</td>\n",
       "      <td>Frank Darabont</td>\n",
       "      <td>Stars:Tim Robbins, Morgan Freeman, Bob Gu...</td>\n",
       "    </tr>\n",
       "    <tr>\n",
       "      <th>1</th>\n",
       "      <td>tt0468569</td>\n",
       "      <td>The Dark Knight</td>\n",
       "      <td>(2008)</td>\n",
       "      <td>9.0</td>\n",
       "      <td>UA</td>\n",
       "      <td>$534.86M</td>\n",
       "      <td>2,817,468</td>\n",
       "      <td>152 min</td>\n",
       "      <td>Action, Crime, Drama</td>\n",
       "      <td>When the menace known as the Joker wreaks havo...</td>\n",
       "      <td>Christopher Nolan</td>\n",
       "      <td>Stars:Christian Bale, Heath Ledger, Aaron...</td>\n",
       "    </tr>\n",
       "    <tr>\n",
       "      <th>2</th>\n",
       "      <td>tt1375666</td>\n",
       "      <td>Inception</td>\n",
       "      <td>(2010)</td>\n",
       "      <td>8.8</td>\n",
       "      <td>UA</td>\n",
       "      <td>$292.58M</td>\n",
       "      <td>2,500,792</td>\n",
       "      <td>148 min</td>\n",
       "      <td>Action, Adventure, Sci-Fi</td>\n",
       "      <td>A thief who steals corporate secrets through t...</td>\n",
       "      <td>Christopher Nolan</td>\n",
       "      <td>Stars:Leonardo DiCaprio, Joseph Gordon-Le...</td>\n",
       "    </tr>\n",
       "    <tr>\n",
       "      <th>3</th>\n",
       "      <td>tt0137523</td>\n",
       "      <td>Fight Club</td>\n",
       "      <td>(1999)</td>\n",
       "      <td>8.8</td>\n",
       "      <td>A</td>\n",
       "      <td>$37.03M</td>\n",
       "      <td>2,271,737</td>\n",
       "      <td>139 min</td>\n",
       "      <td>Drama</td>\n",
       "      <td>An insomniac office worker and a devil-may-car...</td>\n",
       "      <td>David Fincher</td>\n",
       "      <td>Stars:Brad Pitt, Edward Norton, Meat Loaf...</td>\n",
       "    </tr>\n",
       "    <tr>\n",
       "      <th>4</th>\n",
       "      <td>tt0110912</td>\n",
       "      <td>Pulp Fiction</td>\n",
       "      <td>(1994)</td>\n",
       "      <td>8.9</td>\n",
       "      <td>A</td>\n",
       "      <td>$107.93M</td>\n",
       "      <td>2,175,614</td>\n",
       "      <td>154 min</td>\n",
       "      <td>Crime, Drama</td>\n",
       "      <td>The lives of two mob hitmen, a boxer, a gangst...</td>\n",
       "      <td>Quentin Tarantino</td>\n",
       "      <td>Stars:John Travolta, Uma Thurman, Samuel ...</td>\n",
       "    </tr>\n",
       "    <tr>\n",
       "      <th>...</th>\n",
       "      <td>...</td>\n",
       "      <td>...</td>\n",
       "      <td>...</td>\n",
       "      <td>...</td>\n",
       "      <td>...</td>\n",
       "      <td>...</td>\n",
       "      <td>...</td>\n",
       "      <td>...</td>\n",
       "      <td>...</td>\n",
       "      <td>...</td>\n",
       "      <td>...</td>\n",
       "      <td>...</td>\n",
       "    </tr>\n",
       "    <tr>\n",
       "      <th>6423</th>\n",
       "      <td>tt0115738</td>\n",
       "      <td>Box of Moonlight</td>\n",
       "      <td>(1996)</td>\n",
       "      <td>7.1</td>\n",
       "      <td>R</td>\n",
       "      <td>$0.72M</td>\n",
       "      <td>5,972</td>\n",
       "      <td>112 min</td>\n",
       "      <td>Comedy, Drama</td>\n",
       "      <td>An engineer finds his first gray hair, takes 6...</td>\n",
       "      <td>Tom DiCillo</td>\n",
       "      <td>Stars:John Turturro, Sam Rockwell, Cather...</td>\n",
       "    </tr>\n",
       "    <tr>\n",
       "      <th>6424</th>\n",
       "      <td>tt0086998</td>\n",
       "      <td>Breakin'</td>\n",
       "      <td>(1984)</td>\n",
       "      <td>5.8</td>\n",
       "      <td>U</td>\n",
       "      <td>$38.68M</td>\n",
       "      <td>7,102</td>\n",
       "      <td>87 min</td>\n",
       "      <td>Comedy, Drama, Music</td>\n",
       "      <td>A struggling young jazz dancer meets up with t...</td>\n",
       "      <td>Joel Silberg</td>\n",
       "      <td>Stars:Lucinda Dickey, Adolfo Quinones, Mi...</td>\n",
       "    </tr>\n",
       "    <tr>\n",
       "      <th>6425</th>\n",
       "      <td>tt0092997</td>\n",
       "      <td>Extreme Prejudice</td>\n",
       "      <td>(1987)</td>\n",
       "      <td>6.6</td>\n",
       "      <td>A</td>\n",
       "      <td>$11.31M</td>\n",
       "      <td>8,535</td>\n",
       "      <td>105 min</td>\n",
       "      <td>Action, Crime, Drama</td>\n",
       "      <td>A Texas Ranger and a ruthless narcotics kingpi...</td>\n",
       "      <td>Walter Hill</td>\n",
       "      <td>Stars:Nick Nolte, Powers Boothe, Michael ...</td>\n",
       "    </tr>\n",
       "    <tr>\n",
       "      <th>6426</th>\n",
       "      <td>tt0120142</td>\n",
       "      <td>The Sixth Man</td>\n",
       "      <td>(1997)</td>\n",
       "      <td>5.6</td>\n",
       "      <td>PG-13</td>\n",
       "      <td>$14.71M</td>\n",
       "      <td>6,237</td>\n",
       "      <td>107 min</td>\n",
       "      <td>Comedy, Drama, Fantasy</td>\n",
       "      <td>A college athlete returns from the dead to hel...</td>\n",
       "      <td>Randall Miller</td>\n",
       "      <td>Stars:Marlon Wayans, Kadeem Hardison, Dav...</td>\n",
       "    </tr>\n",
       "    <tr>\n",
       "      <th>6427</th>\n",
       "      <td>tt0120683</td>\n",
       "      <td>Gloria</td>\n",
       "      <td>(1999)</td>\n",
       "      <td>5.1</td>\n",
       "      <td>A</td>\n",
       "      <td>$4.16M</td>\n",
       "      <td>6,148</td>\n",
       "      <td>108 min</td>\n",
       "      <td>Crime, Drama, Thriller</td>\n",
       "      <td>After serving three years in prison covering f...</td>\n",
       "      <td>Sidney Lumet</td>\n",
       "      <td>Stars:Sharon Stone, Jean-Luke Figueroa, J...</td>\n",
       "    </tr>\n",
       "  </tbody>\n",
       "</table>\n",
       "<p>6154 rows × 12 columns</p>\n",
       "</div>"
      ],
      "text/plain": [
       "       movie_id                movie_name    year  rating certificate  \\\n",
       "0     tt0111161  The Shawshank Redemption  (1994)     9.3           A   \n",
       "1     tt0468569           The Dark Knight  (2008)     9.0          UA   \n",
       "2     tt1375666                 Inception  (2010)     8.8          UA   \n",
       "3     tt0137523                Fight Club  (1999)     8.8           A   \n",
       "4     tt0110912              Pulp Fiction  (1994)     8.9           A   \n",
       "...         ...                       ...     ...     ...         ...   \n",
       "6423  tt0115738          Box of Moonlight  (1996)     7.1           R   \n",
       "6424  tt0086998                  Breakin'  (1984)     5.8           U   \n",
       "6425  tt0092997         Extreme Prejudice  (1987)     6.6           A   \n",
       "6426  tt0120142             The Sixth Man  (1997)     5.6       PG-13   \n",
       "6427  tt0120683                    Gloria  (1999)     5.1           A   \n",
       "\n",
       "     gross_income      votes  runtime                                  genre  \\\n",
       "0         $28.34M  2,836,049  142 min                      Drama               \n",
       "1        $534.86M  2,817,468  152 min       Action, Crime, Drama               \n",
       "2        $292.58M  2,500,792  148 min  Action, Adventure, Sci-Fi               \n",
       "3         $37.03M  2,271,737  139 min                      Drama               \n",
       "4        $107.93M  2,175,614  154 min               Crime, Drama               \n",
       "...           ...        ...      ...                                    ...   \n",
       "6423       $0.72M      5,972  112 min              Comedy, Drama               \n",
       "6424      $38.68M      7,102   87 min       Comedy, Drama, Music               \n",
       "6425      $11.31M      8,535  105 min       Action, Crime, Drama               \n",
       "6426      $14.71M      6,237  107 min     Comedy, Drama, Fantasy               \n",
       "6427       $4.16M      6,148  108 min     Crime, Drama, Thriller               \n",
       "\n",
       "                                            description          directors  \\\n",
       "0     Over the course of several years, two convicts...     Frank Darabont   \n",
       "1     When the menace known as the Joker wreaks havo...  Christopher Nolan   \n",
       "2     A thief who steals corporate secrets through t...  Christopher Nolan   \n",
       "3     An insomniac office worker and a devil-may-car...      David Fincher   \n",
       "4     The lives of two mob hitmen, a boxer, a gangst...  Quentin Tarantino   \n",
       "...                                                 ...                ...   \n",
       "6423  An engineer finds his first gray hair, takes 6...        Tom DiCillo   \n",
       "6424  A struggling young jazz dancer meets up with t...       Joel Silberg   \n",
       "6425  A Texas Ranger and a ruthless narcotics kingpi...        Walter Hill   \n",
       "6426  A college athlete returns from the dead to hel...     Randall Miller   \n",
       "6427  After serving three years in prison covering f...       Sidney Lumet   \n",
       "\n",
       "                                                  stars  \n",
       "0          Stars:Tim Robbins, Morgan Freeman, Bob Gu...  \n",
       "1          Stars:Christian Bale, Heath Ledger, Aaron...  \n",
       "2          Stars:Leonardo DiCaprio, Joseph Gordon-Le...  \n",
       "3          Stars:Brad Pitt, Edward Norton, Meat Loaf...  \n",
       "4          Stars:John Travolta, Uma Thurman, Samuel ...  \n",
       "...                                                 ...  \n",
       "6423       Stars:John Turturro, Sam Rockwell, Cather...  \n",
       "6424       Stars:Lucinda Dickey, Adolfo Quinones, Mi...  \n",
       "6425       Stars:Nick Nolte, Powers Boothe, Michael ...  \n",
       "6426       Stars:Marlon Wayans, Kadeem Hardison, Dav...  \n",
       "6427       Stars:Sharon Stone, Jean-Luke Figueroa, J...  \n",
       "\n",
       "[6154 rows x 12 columns]"
      ]
     },
     "execution_count": 24,
     "metadata": {},
     "output_type": "execute_result"
    }
   ],
   "source": [
    "df"
   ]
  },
  {
   "cell_type": "code",
   "execution_count": 25,
   "id": "ed51a0f7",
   "metadata": {
    "colab": {
     "base_uri": "https://localhost:8080/",
     "height": 53
    },
    "id": "ed51a0f7",
    "outputId": "e43af34b-30a2-4e52-b126-9070555602a8"
   },
   "outputs": [
    {
     "data": {
      "text/html": [
       "<div>\n",
       "<style scoped>\n",
       "    .dataframe tbody tr th:only-of-type {\n",
       "        vertical-align: middle;\n",
       "    }\n",
       "\n",
       "    .dataframe tbody tr th {\n",
       "        vertical-align: top;\n",
       "    }\n",
       "\n",
       "    .dataframe thead th {\n",
       "        text-align: right;\n",
       "    }\n",
       "</style>\n",
       "<table border=\"1\" class=\"dataframe\">\n",
       "  <thead>\n",
       "    <tr style=\"text-align: right;\">\n",
       "      <th></th>\n",
       "      <th>movie_id</th>\n",
       "      <th>movie_name</th>\n",
       "      <th>year</th>\n",
       "      <th>rating</th>\n",
       "      <th>certificate</th>\n",
       "      <th>gross_income</th>\n",
       "      <th>votes</th>\n",
       "      <th>runtime</th>\n",
       "      <th>genre</th>\n",
       "      <th>description</th>\n",
       "      <th>directors</th>\n",
       "      <th>stars</th>\n",
       "    </tr>\n",
       "  </thead>\n",
       "  <tbody>\n",
       "  </tbody>\n",
       "</table>\n",
       "</div>"
      ],
      "text/plain": [
       "Empty DataFrame\n",
       "Columns: [movie_id, movie_name, year, rating, certificate, gross_income, votes, runtime, genre, description, directors, stars]\n",
       "Index: []"
      ]
     },
     "execution_count": 25,
     "metadata": {},
     "output_type": "execute_result"
    }
   ],
   "source": [
    "df[df.duplicated()]"
   ]
  },
  {
   "cell_type": "code",
   "execution_count": 26,
   "id": "816bbb17",
   "metadata": {
    "colab": {
     "base_uri": "https://localhost:8080/",
     "height": 300
    },
    "id": "816bbb17",
    "outputId": "46b723a8-e15e-4038-d5bb-d6da6fec0c5d"
   },
   "outputs": [
    {
     "data": {
      "text/html": [
       "<div>\n",
       "<style scoped>\n",
       "    .dataframe tbody tr th:only-of-type {\n",
       "        vertical-align: middle;\n",
       "    }\n",
       "\n",
       "    .dataframe tbody tr th {\n",
       "        vertical-align: top;\n",
       "    }\n",
       "\n",
       "    .dataframe thead th {\n",
       "        text-align: right;\n",
       "    }\n",
       "</style>\n",
       "<table border=\"1\" class=\"dataframe\">\n",
       "  <thead>\n",
       "    <tr style=\"text-align: right;\">\n",
       "      <th></th>\n",
       "      <th>rating</th>\n",
       "    </tr>\n",
       "  </thead>\n",
       "  <tbody>\n",
       "    <tr>\n",
       "      <th>count</th>\n",
       "      <td>6154.000000</td>\n",
       "    </tr>\n",
       "    <tr>\n",
       "      <th>mean</th>\n",
       "      <td>6.498505</td>\n",
       "    </tr>\n",
       "    <tr>\n",
       "      <th>std</th>\n",
       "      <td>0.966377</td>\n",
       "    </tr>\n",
       "    <tr>\n",
       "      <th>min</th>\n",
       "      <td>1.300000</td>\n",
       "    </tr>\n",
       "    <tr>\n",
       "      <th>25%</th>\n",
       "      <td>5.900000</td>\n",
       "    </tr>\n",
       "    <tr>\n",
       "      <th>50%</th>\n",
       "      <td>6.600000</td>\n",
       "    </tr>\n",
       "    <tr>\n",
       "      <th>75%</th>\n",
       "      <td>7.200000</td>\n",
       "    </tr>\n",
       "    <tr>\n",
       "      <th>max</th>\n",
       "      <td>9.300000</td>\n",
       "    </tr>\n",
       "  </tbody>\n",
       "</table>\n",
       "</div>"
      ],
      "text/plain": [
       "            rating\n",
       "count  6154.000000\n",
       "mean      6.498505\n",
       "std       0.966377\n",
       "min       1.300000\n",
       "25%       5.900000\n",
       "50%       6.600000\n",
       "75%       7.200000\n",
       "max       9.300000"
      ]
     },
     "execution_count": 26,
     "metadata": {},
     "output_type": "execute_result"
    }
   ],
   "source": [
    "df.describe()"
   ]
  },
  {
   "cell_type": "code",
   "execution_count": 27,
   "id": "d441dd6d",
   "metadata": {
    "colab": {
     "base_uri": "https://localhost:8080/",
     "height": 394
    },
    "id": "d441dd6d",
    "outputId": "85b0e213-8bc1-44c7-eaa9-b61a330b1a21"
   },
   "outputs": [
    {
     "data": {
      "text/html": [
       "<div>\n",
       "<style scoped>\n",
       "    .dataframe tbody tr th:only-of-type {\n",
       "        vertical-align: middle;\n",
       "    }\n",
       "\n",
       "    .dataframe tbody tr th {\n",
       "        vertical-align: top;\n",
       "    }\n",
       "\n",
       "    .dataframe thead th {\n",
       "        text-align: right;\n",
       "    }\n",
       "</style>\n",
       "<table border=\"1\" class=\"dataframe\">\n",
       "  <thead>\n",
       "    <tr style=\"text-align: right;\">\n",
       "      <th></th>\n",
       "      <th>count</th>\n",
       "      <th>unique</th>\n",
       "      <th>top</th>\n",
       "      <th>freq</th>\n",
       "      <th>mean</th>\n",
       "      <th>std</th>\n",
       "      <th>min</th>\n",
       "      <th>25%</th>\n",
       "      <th>50%</th>\n",
       "      <th>75%</th>\n",
       "      <th>max</th>\n",
       "    </tr>\n",
       "  </thead>\n",
       "  <tbody>\n",
       "    <tr>\n",
       "      <th>movie_id</th>\n",
       "      <td>6154</td>\n",
       "      <td>6154</td>\n",
       "      <td>tt0111161</td>\n",
       "      <td>1</td>\n",
       "      <td>NaN</td>\n",
       "      <td>NaN</td>\n",
       "      <td>NaN</td>\n",
       "      <td>NaN</td>\n",
       "      <td>NaN</td>\n",
       "      <td>NaN</td>\n",
       "      <td>NaN</td>\n",
       "    </tr>\n",
       "    <tr>\n",
       "      <th>movie_name</th>\n",
       "      <td>6154</td>\n",
       "      <td>6052</td>\n",
       "      <td>The Jungle Book</td>\n",
       "      <td>3</td>\n",
       "      <td>NaN</td>\n",
       "      <td>NaN</td>\n",
       "      <td>NaN</td>\n",
       "      <td>NaN</td>\n",
       "      <td>NaN</td>\n",
       "      <td>NaN</td>\n",
       "      <td>NaN</td>\n",
       "    </tr>\n",
       "    <tr>\n",
       "      <th>year</th>\n",
       "      <td>6154</td>\n",
       "      <td>126</td>\n",
       "      <td>(2007)</td>\n",
       "      <td>252</td>\n",
       "      <td>NaN</td>\n",
       "      <td>NaN</td>\n",
       "      <td>NaN</td>\n",
       "      <td>NaN</td>\n",
       "      <td>NaN</td>\n",
       "      <td>NaN</td>\n",
       "      <td>NaN</td>\n",
       "    </tr>\n",
       "    <tr>\n",
       "      <th>rating</th>\n",
       "      <td>6154.0</td>\n",
       "      <td>NaN</td>\n",
       "      <td>NaN</td>\n",
       "      <td>NaN</td>\n",
       "      <td>6.498505</td>\n",
       "      <td>0.966377</td>\n",
       "      <td>1.3</td>\n",
       "      <td>5.9</td>\n",
       "      <td>6.6</td>\n",
       "      <td>7.2</td>\n",
       "      <td>9.3</td>\n",
       "    </tr>\n",
       "    <tr>\n",
       "      <th>certificate</th>\n",
       "      <td>6154</td>\n",
       "      <td>21</td>\n",
       "      <td>R</td>\n",
       "      <td>1626</td>\n",
       "      <td>NaN</td>\n",
       "      <td>NaN</td>\n",
       "      <td>NaN</td>\n",
       "      <td>NaN</td>\n",
       "      <td>NaN</td>\n",
       "      <td>NaN</td>\n",
       "      <td>NaN</td>\n",
       "    </tr>\n",
       "    <tr>\n",
       "      <th>gross_income</th>\n",
       "      <td>6154</td>\n",
       "      <td>3785</td>\n",
       "      <td>$0.01M</td>\n",
       "      <td>70</td>\n",
       "      <td>NaN</td>\n",
       "      <td>NaN</td>\n",
       "      <td>NaN</td>\n",
       "      <td>NaN</td>\n",
       "      <td>NaN</td>\n",
       "      <td>NaN</td>\n",
       "      <td>NaN</td>\n",
       "    </tr>\n",
       "    <tr>\n",
       "      <th>votes</th>\n",
       "      <td>6154</td>\n",
       "      <td>5994</td>\n",
       "      <td>8,044</td>\n",
       "      <td>3</td>\n",
       "      <td>NaN</td>\n",
       "      <td>NaN</td>\n",
       "      <td>NaN</td>\n",
       "      <td>NaN</td>\n",
       "      <td>NaN</td>\n",
       "      <td>NaN</td>\n",
       "      <td>NaN</td>\n",
       "    </tr>\n",
       "    <tr>\n",
       "      <th>runtime</th>\n",
       "      <td>6154</td>\n",
       "      <td>140</td>\n",
       "      <td>97 min</td>\n",
       "      <td>180</td>\n",
       "      <td>NaN</td>\n",
       "      <td>NaN</td>\n",
       "      <td>NaN</td>\n",
       "      <td>NaN</td>\n",
       "      <td>NaN</td>\n",
       "      <td>NaN</td>\n",
       "      <td>NaN</td>\n",
       "    </tr>\n",
       "    <tr>\n",
       "      <th>genre</th>\n",
       "      <td>6154</td>\n",
       "      <td>356</td>\n",
       "      <td>Comedy, Drama, Romance</td>\n",
       "      <td>370</td>\n",
       "      <td>NaN</td>\n",
       "      <td>NaN</td>\n",
       "      <td>NaN</td>\n",
       "      <td>NaN</td>\n",
       "      <td>NaN</td>\n",
       "      <td>NaN</td>\n",
       "      <td>NaN</td>\n",
       "    </tr>\n",
       "    <tr>\n",
       "      <th>description</th>\n",
       "      <td>6154</td>\n",
       "      <td>6154</td>\n",
       "      <td>Over the course of several years, two convicts...</td>\n",
       "      <td>1</td>\n",
       "      <td>NaN</td>\n",
       "      <td>NaN</td>\n",
       "      <td>NaN</td>\n",
       "      <td>NaN</td>\n",
       "      <td>NaN</td>\n",
       "      <td>NaN</td>\n",
       "      <td>NaN</td>\n",
       "    </tr>\n",
       "    <tr>\n",
       "      <th>directors</th>\n",
       "      <td>6154</td>\n",
       "      <td>2614</td>\n",
       "      <td>Woody Allen</td>\n",
       "      <td>32</td>\n",
       "      <td>NaN</td>\n",
       "      <td>NaN</td>\n",
       "      <td>NaN</td>\n",
       "      <td>NaN</td>\n",
       "      <td>NaN</td>\n",
       "      <td>NaN</td>\n",
       "      <td>NaN</td>\n",
       "    </tr>\n",
       "    <tr>\n",
       "      <th>stars</th>\n",
       "      <td>6154</td>\n",
       "      <td>6123</td>\n",
       "      <td>Stars:William Shatner, Leonard Nimoy, DeF...</td>\n",
       "      <td>6</td>\n",
       "      <td>NaN</td>\n",
       "      <td>NaN</td>\n",
       "      <td>NaN</td>\n",
       "      <td>NaN</td>\n",
       "      <td>NaN</td>\n",
       "      <td>NaN</td>\n",
       "      <td>NaN</td>\n",
       "    </tr>\n",
       "  </tbody>\n",
       "</table>\n",
       "</div>"
      ],
      "text/plain": [
       "               count unique  \\\n",
       "movie_id        6154   6154   \n",
       "movie_name      6154   6052   \n",
       "year            6154    126   \n",
       "rating        6154.0    NaN   \n",
       "certificate     6154     21   \n",
       "gross_income    6154   3785   \n",
       "votes           6154   5994   \n",
       "runtime         6154    140   \n",
       "genre           6154    356   \n",
       "description     6154   6154   \n",
       "directors       6154   2614   \n",
       "stars           6154   6123   \n",
       "\n",
       "                                                            top  freq  \\\n",
       "movie_id                                              tt0111161     1   \n",
       "movie_name                                      The Jungle Book     3   \n",
       "year                                                     (2007)   252   \n",
       "rating                                                      NaN   NaN   \n",
       "certificate                                                   R  1626   \n",
       "gross_income                                             $0.01M    70   \n",
       "votes                                                     8,044     3   \n",
       "runtime                                                  97 min   180   \n",
       "genre                        Comedy, Drama, Romance               370   \n",
       "description   Over the course of several years, two convicts...     1   \n",
       "directors                                           Woody Allen    32   \n",
       "stars              Stars:William Shatner, Leonard Nimoy, DeF...     6   \n",
       "\n",
       "                  mean       std  min  25%  50%  75%  max  \n",
       "movie_id           NaN       NaN  NaN  NaN  NaN  NaN  NaN  \n",
       "movie_name         NaN       NaN  NaN  NaN  NaN  NaN  NaN  \n",
       "year               NaN       NaN  NaN  NaN  NaN  NaN  NaN  \n",
       "rating        6.498505  0.966377  1.3  5.9  6.6  7.2  9.3  \n",
       "certificate        NaN       NaN  NaN  NaN  NaN  NaN  NaN  \n",
       "gross_income       NaN       NaN  NaN  NaN  NaN  NaN  NaN  \n",
       "votes              NaN       NaN  NaN  NaN  NaN  NaN  NaN  \n",
       "runtime            NaN       NaN  NaN  NaN  NaN  NaN  NaN  \n",
       "genre              NaN       NaN  NaN  NaN  NaN  NaN  NaN  \n",
       "description        NaN       NaN  NaN  NaN  NaN  NaN  NaN  \n",
       "directors          NaN       NaN  NaN  NaN  NaN  NaN  NaN  \n",
       "stars              NaN       NaN  NaN  NaN  NaN  NaN  NaN  "
      ]
     },
     "execution_count": 27,
     "metadata": {},
     "output_type": "execute_result"
    }
   ],
   "source": [
    "df.describe(include='all').T\n",
    "\n"
   ]
  },
  {
   "cell_type": "code",
   "execution_count": 28,
   "id": "4bb046c1",
   "metadata": {
    "colab": {
     "base_uri": "https://localhost:8080/",
     "height": 1000
    },
    "id": "4bb046c1",
    "outputId": "a1b2c3d3-9de3-4893-cc06-3918ff7da87b"
   },
   "outputs": [
    {
     "data": {
      "text/html": [
       "<div>\n",
       "<style scoped>\n",
       "    .dataframe tbody tr th:only-of-type {\n",
       "        vertical-align: middle;\n",
       "    }\n",
       "\n",
       "    .dataframe tbody tr th {\n",
       "        vertical-align: top;\n",
       "    }\n",
       "\n",
       "    .dataframe thead th {\n",
       "        text-align: right;\n",
       "    }\n",
       "</style>\n",
       "<table border=\"1\" class=\"dataframe\">\n",
       "  <thead>\n",
       "    <tr style=\"text-align: right;\">\n",
       "      <th></th>\n",
       "      <th>movie_id</th>\n",
       "      <th>movie_name</th>\n",
       "      <th>year</th>\n",
       "      <th>rating</th>\n",
       "      <th>certificate</th>\n",
       "      <th>gross_income</th>\n",
       "      <th>votes</th>\n",
       "      <th>runtime</th>\n",
       "      <th>genre</th>\n",
       "      <th>description</th>\n",
       "      <th>directors</th>\n",
       "      <th>stars</th>\n",
       "    </tr>\n",
       "  </thead>\n",
       "  <tbody>\n",
       "    <tr>\n",
       "      <th>0</th>\n",
       "      <td>tt0111161</td>\n",
       "      <td>The Shawshank Redemption</td>\n",
       "      <td>(1994)</td>\n",
       "      <td>9.3</td>\n",
       "      <td>A</td>\n",
       "      <td>$28.34M</td>\n",
       "      <td>2,836,049</td>\n",
       "      <td>142 min</td>\n",
       "      <td>Drama</td>\n",
       "      <td>Over the course of several years, two convicts...</td>\n",
       "      <td>Frank Darabont</td>\n",
       "      <td>Tim Robbins, Morgan Freeman, Bob Gunton, ...</td>\n",
       "    </tr>\n",
       "    <tr>\n",
       "      <th>1</th>\n",
       "      <td>tt0468569</td>\n",
       "      <td>The Dark Knight</td>\n",
       "      <td>(2008)</td>\n",
       "      <td>9.0</td>\n",
       "      <td>UA</td>\n",
       "      <td>$534.86M</td>\n",
       "      <td>2,817,468</td>\n",
       "      <td>152 min</td>\n",
       "      <td>Action, Crime, Drama</td>\n",
       "      <td>When the menace known as the Joker wreaks havo...</td>\n",
       "      <td>Christopher Nolan</td>\n",
       "      <td>Christian Bale, Heath Ledger, Aaron Eckha...</td>\n",
       "    </tr>\n",
       "    <tr>\n",
       "      <th>2</th>\n",
       "      <td>tt1375666</td>\n",
       "      <td>Inception</td>\n",
       "      <td>(2010)</td>\n",
       "      <td>8.8</td>\n",
       "      <td>UA</td>\n",
       "      <td>$292.58M</td>\n",
       "      <td>2,500,792</td>\n",
       "      <td>148 min</td>\n",
       "      <td>Action, Adventure, Sci-Fi</td>\n",
       "      <td>A thief who steals corporate secrets through t...</td>\n",
       "      <td>Christopher Nolan</td>\n",
       "      <td>Leonardo DiCaprio, Joseph Gordon-Levitt, ...</td>\n",
       "    </tr>\n",
       "    <tr>\n",
       "      <th>3</th>\n",
       "      <td>tt0137523</td>\n",
       "      <td>Fight Club</td>\n",
       "      <td>(1999)</td>\n",
       "      <td>8.8</td>\n",
       "      <td>A</td>\n",
       "      <td>$37.03M</td>\n",
       "      <td>2,271,737</td>\n",
       "      <td>139 min</td>\n",
       "      <td>Drama</td>\n",
       "      <td>An insomniac office worker and a devil-may-car...</td>\n",
       "      <td>David Fincher</td>\n",
       "      <td>Brad Pitt, Edward Norton, Meat Loaf, Zach...</td>\n",
       "    </tr>\n",
       "    <tr>\n",
       "      <th>4</th>\n",
       "      <td>tt0110912</td>\n",
       "      <td>Pulp Fiction</td>\n",
       "      <td>(1994)</td>\n",
       "      <td>8.9</td>\n",
       "      <td>A</td>\n",
       "      <td>$107.93M</td>\n",
       "      <td>2,175,614</td>\n",
       "      <td>154 min</td>\n",
       "      <td>Crime, Drama</td>\n",
       "      <td>The lives of two mob hitmen, a boxer, a gangst...</td>\n",
       "      <td>Quentin Tarantino</td>\n",
       "      <td>John Travolta, Uma Thurman, Samuel L. Jac...</td>\n",
       "    </tr>\n",
       "    <tr>\n",
       "      <th>...</th>\n",
       "      <td>...</td>\n",
       "      <td>...</td>\n",
       "      <td>...</td>\n",
       "      <td>...</td>\n",
       "      <td>...</td>\n",
       "      <td>...</td>\n",
       "      <td>...</td>\n",
       "      <td>...</td>\n",
       "      <td>...</td>\n",
       "      <td>...</td>\n",
       "      <td>...</td>\n",
       "      <td>...</td>\n",
       "    </tr>\n",
       "    <tr>\n",
       "      <th>6423</th>\n",
       "      <td>tt0115738</td>\n",
       "      <td>Box of Moonlight</td>\n",
       "      <td>(1996)</td>\n",
       "      <td>7.1</td>\n",
       "      <td>R</td>\n",
       "      <td>$0.72M</td>\n",
       "      <td>5,972</td>\n",
       "      <td>112 min</td>\n",
       "      <td>Comedy, Drama</td>\n",
       "      <td>An engineer finds his first gray hair, takes 6...</td>\n",
       "      <td>Tom DiCillo</td>\n",
       "      <td>John Turturro, Sam Rockwell, Catherine Ke...</td>\n",
       "    </tr>\n",
       "    <tr>\n",
       "      <th>6424</th>\n",
       "      <td>tt0086998</td>\n",
       "      <td>Breakin'</td>\n",
       "      <td>(1984)</td>\n",
       "      <td>5.8</td>\n",
       "      <td>U</td>\n",
       "      <td>$38.68M</td>\n",
       "      <td>7,102</td>\n",
       "      <td>87 min</td>\n",
       "      <td>Comedy, Drama, Music</td>\n",
       "      <td>A struggling young jazz dancer meets up with t...</td>\n",
       "      <td>Joel Silberg</td>\n",
       "      <td>Lucinda Dickey, Adolfo Quinones, Michael ...</td>\n",
       "    </tr>\n",
       "    <tr>\n",
       "      <th>6425</th>\n",
       "      <td>tt0092997</td>\n",
       "      <td>Extreme Prejudice</td>\n",
       "      <td>(1987)</td>\n",
       "      <td>6.6</td>\n",
       "      <td>A</td>\n",
       "      <td>$11.31M</td>\n",
       "      <td>8,535</td>\n",
       "      <td>105 min</td>\n",
       "      <td>Action, Crime, Drama</td>\n",
       "      <td>A Texas Ranger and a ruthless narcotics kingpi...</td>\n",
       "      <td>Walter Hill</td>\n",
       "      <td>Nick Nolte, Powers Boothe, Michael Ironsi...</td>\n",
       "    </tr>\n",
       "    <tr>\n",
       "      <th>6426</th>\n",
       "      <td>tt0120142</td>\n",
       "      <td>The Sixth Man</td>\n",
       "      <td>(1997)</td>\n",
       "      <td>5.6</td>\n",
       "      <td>PG-13</td>\n",
       "      <td>$14.71M</td>\n",
       "      <td>6,237</td>\n",
       "      <td>107 min</td>\n",
       "      <td>Comedy, Drama, Fantasy</td>\n",
       "      <td>A college athlete returns from the dead to hel...</td>\n",
       "      <td>Randall Miller</td>\n",
       "      <td>Marlon Wayans, Kadeem Hardison, David Pay...</td>\n",
       "    </tr>\n",
       "    <tr>\n",
       "      <th>6427</th>\n",
       "      <td>tt0120683</td>\n",
       "      <td>Gloria</td>\n",
       "      <td>(1999)</td>\n",
       "      <td>5.1</td>\n",
       "      <td>A</td>\n",
       "      <td>$4.16M</td>\n",
       "      <td>6,148</td>\n",
       "      <td>108 min</td>\n",
       "      <td>Crime, Drama, Thriller</td>\n",
       "      <td>After serving three years in prison covering f...</td>\n",
       "      <td>Sidney Lumet</td>\n",
       "      <td>Sharon Stone, Jean-Luke Figueroa, Jeremy ...</td>\n",
       "    </tr>\n",
       "  </tbody>\n",
       "</table>\n",
       "<p>6154 rows × 12 columns</p>\n",
       "</div>"
      ],
      "text/plain": [
       "       movie_id                movie_name    year  rating certificate  \\\n",
       "0     tt0111161  The Shawshank Redemption  (1994)     9.3           A   \n",
       "1     tt0468569           The Dark Knight  (2008)     9.0          UA   \n",
       "2     tt1375666                 Inception  (2010)     8.8          UA   \n",
       "3     tt0137523                Fight Club  (1999)     8.8           A   \n",
       "4     tt0110912              Pulp Fiction  (1994)     8.9           A   \n",
       "...         ...                       ...     ...     ...         ...   \n",
       "6423  tt0115738          Box of Moonlight  (1996)     7.1           R   \n",
       "6424  tt0086998                  Breakin'  (1984)     5.8           U   \n",
       "6425  tt0092997         Extreme Prejudice  (1987)     6.6           A   \n",
       "6426  tt0120142             The Sixth Man  (1997)     5.6       PG-13   \n",
       "6427  tt0120683                    Gloria  (1999)     5.1           A   \n",
       "\n",
       "     gross_income      votes  runtime                                  genre  \\\n",
       "0         $28.34M  2,836,049  142 min                      Drama               \n",
       "1        $534.86M  2,817,468  152 min       Action, Crime, Drama               \n",
       "2        $292.58M  2,500,792  148 min  Action, Adventure, Sci-Fi               \n",
       "3         $37.03M  2,271,737  139 min                      Drama               \n",
       "4        $107.93M  2,175,614  154 min               Crime, Drama               \n",
       "...           ...        ...      ...                                    ...   \n",
       "6423       $0.72M      5,972  112 min              Comedy, Drama               \n",
       "6424      $38.68M      7,102   87 min       Comedy, Drama, Music               \n",
       "6425      $11.31M      8,535  105 min       Action, Crime, Drama               \n",
       "6426      $14.71M      6,237  107 min     Comedy, Drama, Fantasy               \n",
       "6427       $4.16M      6,148  108 min     Crime, Drama, Thriller               \n",
       "\n",
       "                                            description          directors  \\\n",
       "0     Over the course of several years, two convicts...     Frank Darabont   \n",
       "1     When the menace known as the Joker wreaks havo...  Christopher Nolan   \n",
       "2     A thief who steals corporate secrets through t...  Christopher Nolan   \n",
       "3     An insomniac office worker and a devil-may-car...      David Fincher   \n",
       "4     The lives of two mob hitmen, a boxer, a gangst...  Quentin Tarantino   \n",
       "...                                                 ...                ...   \n",
       "6423  An engineer finds his first gray hair, takes 6...        Tom DiCillo   \n",
       "6424  A struggling young jazz dancer meets up with t...       Joel Silberg   \n",
       "6425  A Texas Ranger and a ruthless narcotics kingpi...        Walter Hill   \n",
       "6426  A college athlete returns from the dead to hel...     Randall Miller   \n",
       "6427  After serving three years in prison covering f...       Sidney Lumet   \n",
       "\n",
       "                                                  stars  \n",
       "0          Tim Robbins, Morgan Freeman, Bob Gunton, ...  \n",
       "1          Christian Bale, Heath Ledger, Aaron Eckha...  \n",
       "2          Leonardo DiCaprio, Joseph Gordon-Levitt, ...  \n",
       "3          Brad Pitt, Edward Norton, Meat Loaf, Zach...  \n",
       "4          John Travolta, Uma Thurman, Samuel L. Jac...  \n",
       "...                                                 ...  \n",
       "6423       John Turturro, Sam Rockwell, Catherine Ke...  \n",
       "6424       Lucinda Dickey, Adolfo Quinones, Michael ...  \n",
       "6425       Nick Nolte, Powers Boothe, Michael Ironsi...  \n",
       "6426       Marlon Wayans, Kadeem Hardison, David Pay...  \n",
       "6427       Sharon Stone, Jean-Luke Figueroa, Jeremy ...  \n",
       "\n",
       "[6154 rows x 12 columns]"
      ]
     },
     "execution_count": 28,
     "metadata": {},
     "output_type": "execute_result"
    }
   ],
   "source": [
    "df['stars'] = df['stars'].str.replace('Stars:', '')\n",
    "df"
   ]
  },
  {
   "cell_type": "code",
   "execution_count": 29,
   "id": "4f60751f",
   "metadata": {
    "colab": {
     "base_uri": "https://localhost:8080/"
    },
    "id": "4f60751f",
    "outputId": "4f79d1ca-fd86-4cef-d5bf-d091ca239b09"
   },
   "outputs": [
    {
     "name": "stdout",
     "output_type": "stream",
     "text": [
      "6154 :  unique values in  movie_id\n",
      "6052 :  unique values in  movie_name\n",
      "126 :  unique values in  year\n",
      "76 :  unique values in  rating\n",
      "21 :  unique values in  certificate\n",
      "3785 :  unique values in  gross_income\n",
      "5994 :  unique values in  votes\n",
      "140 :  unique values in  runtime\n",
      "356 :  unique values in  genre\n",
      "6154 :  unique values in  description\n",
      "2614 :  unique values in  directors\n",
      "6123 :  unique values in  stars\n"
     ]
    }
   ],
   "source": [
    "for i in df.columns:\n",
    "    print(format(len(df[i].unique())),\":  unique values in \",i)\n",
    "\n"
   ]
  },
  {
   "cell_type": "code",
   "execution_count": 30,
   "id": "dbc85dc9",
   "metadata": {
    "colab": {
     "base_uri": "https://localhost:8080/"
    },
    "id": "dbc85dc9",
    "outputId": "d8fd52a0-be52-4aad-8bc6-c3a8718f72ce",
    "scrolled": true
   },
   "outputs": [
    {
     "name": "stdout",
     "output_type": "stream",
     "text": [
      "the unique values in  movie_id \n",
      "\n",
      " ['tt0111161' 'tt0468569' 'tt1375666' ... 'tt0092997' 'tt0120142'\n",
      " 'tt0120683'] \n",
      "\n",
      "\n",
      "=================================\n",
      "the unique values in  movie_name \n",
      "\n",
      " ['The Shawshank Redemption' 'The Dark Knight' 'Inception' ... \"Breakin'\"\n",
      " 'Extreme Prejudice' 'The Sixth Man'] \n",
      "\n",
      "\n",
      "=================================\n",
      "the unique values in  year \n",
      "\n",
      " ['(1994)' '(2008)' '(2010)' '(1999)' '(2001)' '(2003)' '(1972)' '(2012)'\n",
      " '(2002)' '(1995)' '(2000)' '(2005)' '(2014)' '(1977)' '(1991)' '(2009)'\n",
      " '(1998)' '(2006)' '(1993)' '(1980)' '(1997)' '(1974)' '(2013)' '(1985)'\n",
      " '(1990)' '(1983)' '(1975)' '(2004)' '(1992)' '(1981)' '(2007)' '(1984)'\n",
      " '(1988)' '(1979)' '(2015)' '(1971)' '(2011)' '(1989)' '(1976)' '(1966)'\n",
      " '(1986)' '(1987)' '(I) (2008)' '(2016)' '(1996)' '(1982)' '(I) (2012)'\n",
      " '(1957)' '(I) (2013)' '(I) (2011)' '(1968)' '(1960)' '(I) (2015)'\n",
      " '(1942)' '(I) (2004)' '(1964)' '(I) (2014)' '(1954)' '(I) (2010)'\n",
      " '(1941)' '(1939)' '(1973)' '(I) (2009)' '(I) (2005)' '(I) (2007)'\n",
      " '(1958)' '(II) (2014)' '(I) (2006)' '(1978)' '(1959)' '(1967)'\n",
      " '(I) (1995)' '(1962)' '(I) (2000)' '(1963)' '(1965)' '(1969)'\n",
      " '(I) (1998)' '(1952)' '(II) (2015)' '(I) (1996)' '(I) (1987)' '(1937)'\n",
      " '(1949)' '(1961)' '(I) (1999)' '(1931)' '(1950)' '(II) (2013)' '(1951)'\n",
      " '(1948)' '(1940)' '(1953)' '(I) (2003)' '(II) (2009)' '(1955)'\n",
      " '(VI) (2015)' '(1970)' '(I) (1990)' '(1946)' '(III) (2014)' '(1956)'\n",
      " '(1930)' '(I) (2001)' '(I) (1985)' '(III) (2006)' '(III) (2015)' '(1938)'\n",
      " '(I) (1997)' '(II) (2012)' '(II) (2010)' '(I) (2002)' '(IV) (2011)'\n",
      " '(II) (2007)' '(I) (2016)' '(II) (2006)' '(I) (1992)' '(1915)'\n",
      " '(I) (1991)' '(VII) (2013)' '(I) (1981)' '(1927)' '(II) (2016)'\n",
      " '(III) (2009)' '(I) (1993)' '(II) (1996)'] \n",
      "\n",
      "\n",
      "=================================\n",
      "the unique values in  rating \n",
      "\n",
      " [9.3 9.  8.8 8.9 8.7 9.2 8.4 8.6 8.  8.5 8.2 7.9 8.3 8.1 7.2 7.8 7.6 7.7\n",
      " 7.1 7.4 7.  6.5 6.9 7.5 6.6 7.3 6.8 6.3 6.7 5.3 6.4 6.2 6.  5.8 5.7 6.1\n",
      " 5.6 5.5 4.8 4.2 5.9 5.4 3.8 5.1 4.9 5.2 5.  4.  4.3 4.6 2.4 2.8 3.4 4.5\n",
      " 1.9 4.7 2.5 3.9 3.3 4.4 3.5 2.6 2.3 4.1 3.6 3.7 2.  2.1 3.  1.5 3.1 1.3\n",
      " 2.9 2.2 2.7 1.7] \n",
      "\n",
      "\n",
      "=================================\n",
      "the unique values in  certificate \n",
      "\n",
      " ['A' 'UA' 'U' 'R' '15+' '18' '12+' '13' '16' '(Banned)' 'PG-13' 'PG' 'All'\n",
      " 'UA 16+' '7' 'G' 'UA 13+' 'NC-17' 'M/PG' 'GP' 'M'] \n",
      "\n",
      "\n",
      "=================================\n",
      "the unique values in  gross_income \n",
      "\n",
      " ['$28.34M' '$534.86M' '$292.58M' ... '$38.68M' '$11.31M' '$14.71M'] \n",
      "\n",
      "\n",
      "=================================\n",
      "the unique values in  votes \n",
      "\n",
      " ['2,836,049' '2,817,468' '2,500,792' ... '7,102' '8,535' '6,237'] \n",
      "\n",
      "\n",
      "=================================\n",
      "the unique values in  runtime \n",
      "\n",
      " ['142 min' '152 min' '148 min' '139 min' '154 min' '178 min' '136 min'\n",
      " '201 min' '175 min' '164 min' '179 min' '127 min' '143 min' '155 min'\n",
      " '140 min' '165 min' '169 min' '121 min' '118 min' '162 min' '153 min'\n",
      " '151 min' '195 min' '113 min' '130 min' '124 min' '122 min' '194 min'\n",
      " '132 min' '202 min' '138 min' '119 min' '189 min' '180 min' '137 min'\n",
      " '106 min' '111 min' '116 min' '145 min' '110 min' '98 min' '107 min'\n",
      " '126 min' '100 min' '131 min' '133 min' '103 min' '108 min' '96 min'\n",
      " '99 min' '115 min' '88 min' '120 min' '81 min' '135 min' '146 min'\n",
      " '117 min' '104 min' '92 min' '91 min' '102 min' '149 min' '170 min'\n",
      " '112 min' '101 min' '141 min' '144 min' '114 min' '161 min' '150 min'\n",
      " '90 min' '128 min' '93 min' '129 min' '166 min' '147 min' '134 min'\n",
      " '109 min' '105 min' '125 min' '156 min' '123 min' '95 min' '157 min'\n",
      " '163 min' '158 min' '89 min' '187 min' '167 min' '84 min' '94 min'\n",
      " '85 min' '172 min' '160 min' '168 min' '86 min' '97 min' '87 min'\n",
      " '183 min' '188 min' '207 min' '159 min' '76 min' '229 min' '238 min'\n",
      " '83 min' '218 min' '77 min' '181 min' '191 min' '80 min' '212 min'\n",
      " '78 min' '79 min' '74 min' '75 min' '197 min' '69 min' '64 min' '82 min'\n",
      " '224 min' '210 min' '177 min' '174 min' '220 min' '193 min' '186 min'\n",
      " '198 min' '192 min' '242 min' '171 min' '185 min' '213 min' '71 min'\n",
      " '73 min' '72 min' '219 min' '70 min' '208 min' '200 min'] \n",
      "\n",
      "\n",
      "=================================\n",
      "the unique values in  genre \n",
      "\n",
      " ['Drama            ' 'Action, Crime, Drama            '\n",
      " 'Action, Adventure, Sci-Fi            ' 'Crime, Drama            '\n",
      " 'Drama, Romance            ' 'Action, Adventure, Drama            '\n",
      " 'Action, Sci-Fi            ' 'Action, Drama, Thriller            '\n",
      " 'Crime, Drama, Mystery            ' 'Drama, Western            '\n",
      " 'Adventure, Drama, Sci-Fi            '\n",
      " 'Action, Adventure, Fantasy            '\n",
      " 'Crime, Drama, Thriller            ' 'Adventure, Drama, War            '\n",
      " 'Drama, War            ' 'Biography, Drama, History            '\n",
      " 'Mystery, Thriller            ' 'Drama, Mystery, Sci-Fi            '\n",
      " 'Action, Drama, Sci-Fi            ' 'Crime, Drama, Fantasy            '\n",
      " 'Biography, Comedy, Crime            '\n",
      " 'Action, Crime, Thriller            '\n",
      " 'Adventure, Comedy, Sci-Fi            '\n",
      " 'Biography, Crime, Drama            '\n",
      " 'Animation, Adventure, Family            '\n",
      " 'Drama, Mystery, Thriller            '\n",
      " 'Animation, Adventure, Comedy            '\n",
      " 'Action, Adventure, Comedy            ' 'Comedy, Drama            '\n",
      " 'Drama, Romance, Sci-Fi            ' 'Crime, Thriller            '\n",
      " 'Action, Adventure            ' 'Animation, Adventure, Drama            '\n",
      " 'Crime, Drama, Romance            ' 'Adventure, Fantasy            '\n",
      " 'Biography, Drama, Mystery            ' 'Drama, Horror            '\n",
      " 'Action, Drama            ' 'Comedy, Crime            '\n",
      " 'Action, Thriller            ' 'Comedy            '\n",
      " 'Drama, Sci-Fi, Thriller            ' 'Horror, Sci-Fi            '\n",
      " 'Crime, Sci-Fi            ' 'Drama, Thriller            '\n",
      " 'Adventure, Family, Fantasy            ' 'Action, Fantasy            '\n",
      " 'Comedy, Romance            ' 'Comedy, Drama, Romance            '\n",
      " 'Action, Sci-Fi, Thriller            '\n",
      " 'Action, Drama, Horror            '\n",
      " 'Action, Adventure, Thriller            '\n",
      " 'Adventure, Western            ' 'Biography, Comedy, Drama            '\n",
      " 'Biography, Drama, Music            '\n",
      " 'Action, Mystery, Thriller            '\n",
      " 'Animation, Action, Adventure            '\n",
      " 'Adventure, Drama, Fantasy            ' 'Drama, Sport            '\n",
      " 'Biography, Drama            ' 'Action, Adventure, Mystery            '\n",
      " 'Adventure, Comedy, Crime            ' 'Action, Comedy            '\n",
      " 'Drama, Fantasy, War            '\n",
      " 'Biography, Drama, Thriller            '\n",
      " 'Action, Adventure, Horror            '\n",
      " 'Mystery, Sci-Fi, Thriller            '\n",
      " 'Drama, Fantasy, Romance            '\n",
      " 'Adventure, Mystery, Sci-Fi            '\n",
      " 'Drama, Mystery, War            ' 'Crime, Mystery, Thriller            '\n",
      " 'Comedy, Drama, Fantasy            ' 'Action, Comedy, Crime            '\n",
      " 'Adventure, Sci-Fi            ' 'Adventure, Biography, Drama            '\n",
      " 'Horror, Mystery, Thriller            ' 'Sci-Fi, Thriller            '\n",
      " 'Adventure, Mystery, Thriller            '\n",
      " 'Adventure, Drama, Thriller            '\n",
      " 'Action, Crime, Mystery            ' 'Drama, Music            '\n",
      " 'Comedy, Horror            ' 'Adventure, Drama, Romance            '\n",
      " 'Action, Drama, Mystery            ' 'Drama, Romance, War            '\n",
      " 'Action, Mystery, Sci-Fi            '\n",
      " 'Action, Comedy, Horror            '\n",
      " 'Adventure, Comedy, Fantasy            '\n",
      " 'Crime, Drama, Horror            '\n",
      " 'Action, Adventure, Family            '\n",
      " 'Action, Comedy, Mystery            ' 'Action, Comedy, Drama            '\n",
      " 'Comedy, War            ' 'Drama, Thriller, War            '\n",
      " 'Action, Drama, Sport            ' 'Action, Biography, Drama            '\n",
      " 'Action, Biography, Crime            '\n",
      " 'Adventure, Comedy, Family            '\n",
      " 'Action, Adventure, Romance            '\n",
      " 'Action, Comedy, Sci-Fi            ' 'Comedy, Family            '\n",
      " 'Comedy, Fantasy            ' 'Animation, Family, Fantasy            '\n",
      " 'Action, Comedy, War            ' 'Comedy, Crime, Drama            '\n",
      " 'Action, Drama, War            ' 'Action, Adventure, Crime            '\n",
      " 'Comedy, Fantasy, Romance            ' 'Drama, Mystery            '\n",
      " 'Drama, Horror, Sci-Fi            '\n",
      " 'Horror, Sci-Fi, Thriller            '\n",
      " 'Drama, Fantasy, Mystery            '\n",
      " 'Action, Drama, History            ' 'Horror            '\n",
      " 'Action, Crime, Sci-Fi            ' 'Biography, Drama, Sport            '\n",
      " 'Drama, Horror, Musical            '\n",
      " 'Adventure, Family, Sci-Fi            '\n",
      " 'Action, Comedy, Fantasy            '\n",
      " 'Adventure, Comedy, Drama            '\n",
      " 'Fantasy, Horror, Mystery            '\n",
      " 'Biography, Drama, Romance            '\n",
      " 'Horror, Mystery, Sci-Fi            ' 'Horror, Mystery            '\n",
      " 'Mystery, Romance, Thriller            '\n",
      " 'Adventure, Drama, Family            '\n",
      " 'Drama, Musical, Romance            '\n",
      " 'Drama, Fantasy, Horror            ' 'Drama, Sci-Fi            '\n",
      " 'Action, Fantasy, Horror            '\n",
      " 'Drama, Romance, Thriller            '\n",
      " 'Action, Crime, Horror            '\n",
      " 'Drama, History, Thriller            ' 'Western            '\n",
      " 'Action, Crime, Fantasy            ' 'Comedy, Music, Romance            '\n",
      " 'Adventure, Drama, History            '\n",
      " 'Action, Fantasy, Thriller            '\n",
      " 'Action, Horror, Sci-Fi            '\n",
      " 'Fantasy, Mystery, Romance            '\n",
      " 'Crime, Mystery, Romance            '\n",
      " 'Comedy, Fantasy, Horror            ' 'Action, Horror            '\n",
      " 'Drama, Mystery, Romance            '\n",
      " 'Action, Comedy, Thriller            '\n",
      " 'Animation, Drama, Family            '\n",
      " 'Adventure, Drama, Western            ' 'Comedy, Sport            '\n",
      " 'Comedy, Horror, Romance            ' 'Adventure, Comedy            '\n",
      " 'Action, Adventure, Western            ' 'Horror, Thriller            '\n",
      " 'Action, Crime            ' 'Comedy, Crime, Mystery            '\n",
      " 'Comedy, Drama, History            '\n",
      " 'Biography, Drama, Family            '\n",
      " 'Action, Crime, Romance            '\n",
      " 'Animation, Action, Comedy            ' 'Comedy, Sci-Fi            '\n",
      " 'Comedy, Crime, Musical            '\n",
      " 'Animation, Comedy, Family            '\n",
      " 'Comedy, Musical, Romance            '\n",
      " 'Animation, Comedy, Fantasy            '\n",
      " 'Action, Biography, Comedy            ' 'Adventure, Drama            '\n",
      " 'Fantasy, Mystery, Sci-Fi            '\n",
      " 'Action, Horror, Thriller            '\n",
      " 'Adventure, Horror, Thriller            '\n",
      " 'Action, Comedy, Romance            ' 'Comedy, Music            '\n",
      " 'Action, Drama, Western            ' 'Biography, Drama, War            '\n",
      " 'Comedy, Drama, Music            ' 'Drama, Horror, Mystery            '\n",
      " 'Drama, Music, Romance            ' 'Comedy, Family, Fantasy            '\n",
      " 'Drama, History, War            ' 'Action, Drama, Fantasy            '\n",
      " 'Drama, Fantasy            ' 'Comedy, Western            '\n",
      " 'Fantasy, Horror, Thriller            '\n",
      " 'Action, Adventure, Biography            '\n",
      " 'Adventure, Drama, Mystery            '\n",
      " 'Comedy, Crime, Sport            ' 'Family, Fantasy, Musical            '\n",
      " 'Comedy, Crime, Romance            ' 'Action, Drama, Family            '\n",
      " 'Drama, Fantasy, Thriller            '\n",
      " 'Comedy, Drama, Thriller            '\n",
      " 'Action, Horror, Mystery            ' 'Crime, Drama, Sport            '\n",
      " 'Comedy, Romance, Sport            '\n",
      " 'Comedy, Mystery, Sci-Fi            ' 'Drama, Family            '\n",
      " 'Action, Thriller, Western            '\n",
      " 'Film-Noir, Mystery, Thriller            '\n",
      " 'Comedy, Drama, Family            ' 'Drama, Family, Fantasy            '\n",
      " 'Drama, Horror, Thriller            ' 'Drama, History            '\n",
      " 'Comedy, Horror, Mystery            '\n",
      " 'Comedy, Horror, Musical            '\n",
      " 'Action, Adventure, History            '\n",
      " 'Adventure, Crime, Drama            '\n",
      " 'Comedy, Drama, Musical            '\n",
      " 'Crime, Drama, Film-Noir            '\n",
      " 'Animation, Adventure, Sci-Fi            ' 'Thriller            '\n",
      " 'Comedy, Family, Romance            '\n",
      " 'Drama, Fantasy, History            '\n",
      " 'Adventure, Comedy, Musical            '\n",
      " 'Crime, Drama, Music            ' 'Action, Drama, Music            '\n",
      " 'Animation, Comedy, Crime            '\n",
      " 'Comedy, Crime, Thriller            '\n",
      " 'Comedy, Romance, Sci-Fi            '\n",
      " 'Adventure, Comedy, Music            '\n",
      " 'Comedy, Drama, Sci-Fi            '\n",
      " 'Adventure, Biography, War            '\n",
      " 'Drama, Fantasy, Music            ' 'Comedy, Drama, Mystery            '\n",
      " 'Drama, Thriller, Western            '\n",
      " 'Crime, Horror, Sci-Fi            ' 'Crime, Drama, Musical            '\n",
      " 'Animation, Action, Crime            '\n",
      " 'Action, Comedy, Sport            '\n",
      " 'Animation, Comedy, Drama            '\n",
      " 'Drama, Film-Noir, Romance            '\n",
      " 'Crime, Romance, Thriller            ' 'Comedy, Drama, Sport            '\n",
      " 'Drama, Musical, Sport            '\n",
      " 'Animation, Biography, Drama            ' 'Fantasy, Horror            '\n",
      " 'Action, Drama, Romance            ' 'Drama, Family, Musical            '\n",
      " 'Comedy, Crime, Fantasy            '\n",
      " 'Action, Fantasy, Sci-Fi            ' 'Comedy, Family, Sport            '\n",
      " 'Action, War            ' 'Comedy, Family, Music            '\n",
      " 'Comedy, Family, Sci-Fi            ' 'Drama, Music, Mystery            '\n",
      " 'Comedy, Horror, Sci-Fi            ' 'Drama, Music, Musical            '\n",
      " 'Action, Comedy, Family            '\n",
      " 'Adventure, Sci-Fi, Thriller            '\n",
      " 'Comedy, Crime, Music            ' 'Drama, History, Sport            '\n",
      " 'Drama, Musical            ' 'Comedy, Drama, War            '\n",
      " 'Crime, Fantasy, Horror            ' 'Crime, Drama, Sci-Fi            '\n",
      " 'Action            ' 'Action, Adventure, War            '\n",
      " 'Adventure, Thriller            ' 'Action, Family, Sport            '\n",
      " 'Comedy, Mystery, Thriller            '\n",
      " 'Drama, Romance, Sport            '\n",
      " 'Comedy, Horror, Thriller            '\n",
      " 'Comedy, Mystery, Romance            '\n",
      " 'Crime, Horror, Thriller            '\n",
      " 'Animation, Drama, Fantasy            '\n",
      " 'Adventure, Fantasy, Romance            '\n",
      " 'Drama, Family, Sport            ' 'Drama, Fantasy, Sport            '\n",
      " 'Comedy, Musical            ' 'Crime, Mystery, Sci-Fi            '\n",
      " 'Drama, Horror, Romance            ' 'Crime, Drama, Western            '\n",
      " 'Adventure, Drama, Horror            ' 'Crime, Drama, Family            '\n",
      " 'Fantasy, Horror, Sci-Fi            ' 'Crime, Drama, History            '\n",
      " 'Drama, History, Romance            '\n",
      " 'Adventure, Drama, Sport            '\n",
      " 'Adventure, Comedy, Mystery            '\n",
      " 'Drama, Family, Romance            '\n",
      " 'Comedy, History, Musical            '\n",
      " 'Drama, Mystery, Western            '\n",
      " 'Action, Sport, Thriller            '\n",
      " 'Adventure, Comedy, War            ' 'Romance, Sci-Fi            '\n",
      " 'Adventure, Crime, Thriller            '\n",
      " 'Drama, Romance, Western            '\n",
      " 'Adventure, Biography, Comedy            '\n",
      " 'Adventure, Fantasy, Horror            '\n",
      " 'Adventure, Horror, Sci-Fi            ' 'Comedy, Mystery            '\n",
      " 'Animation, Crime, Drama            '\n",
      " 'Comedy, Romance, Thriller            '\n",
      " 'Animation, Drama, Mystery            '\n",
      " 'Comedy, Music, Musical            '\n",
      " 'Adventure, Comedy, Romance            '\n",
      " 'Biography, Comedy, Romance            '\n",
      " 'Comedy, Drama, Horror            '\n",
      " 'Animation, Adventure, Fantasy            '\n",
      " 'Animation, Action, Drama            '\n",
      " 'Family, Music, Musical            ' 'Adventure, Horror            '\n",
      " 'Action, Sci-Fi, Sport            ' 'Drama, War, Western            '\n",
      " 'Drama, History, Music            ' 'Crime, Horror, Mystery            '\n",
      " 'Horror, Musical, Sci-Fi            ' 'Comedy, Crime, Family            '\n",
      " 'Comedy, Drama, Western            ' 'Action, Thriller, War            '\n",
      " 'Biography, Drama, Musical            '\n",
      " 'Animation, Comedy, Musical            ' 'Comedy, Thriller            '\n",
      " 'Drama, Family, History            '\n",
      " 'Adventure, Fantasy, Mystery            '\n",
      " 'Animation, Action, Sci-Fi            '\n",
      " 'Adventure, War, Western            '\n",
      " 'Biography, Drama, Western            ' 'Music            '\n",
      " 'Animation, Sci-Fi            ' 'Adventure, Family, Romance            '\n",
      " 'Adventure, Comedy, Western            '\n",
      " 'Comedy, Family, Musical            '\n",
      " 'Animation, Drama, Romance            ' 'Action, Western            '\n",
      " 'Drama, Comedy            ' 'Comedy, Fantasy, Thriller            '\n",
      " 'Drama, History, Mystery            ' 'Drama, Sci-Fi, War            '\n",
      " 'Action, Drama, Musical            '\n",
      " 'Adventure, Crime, Horror            '\n",
      " 'Action, Mystery, Romance            '\n",
      " 'Comedy, Fantasy, Musical            '\n",
      " 'Adventure, Comedy, Sport            '\n",
      " 'Action, Romance, Thriller            '\n",
      " 'Action, Comedy, Music            ' 'Adventure, Family            '\n",
      " 'Action, Horror, Romance            '\n",
      " 'Biography, Drama, Fantasy            '\n",
      " 'Crime, Thriller, War            ' 'Action, Sport            '\n",
      " 'Adventure, Comedy, History            '\n",
      " 'Action, Musical, Romance            '\n",
      " 'Drama, Fantasy, Sci-Fi            ' 'Romance, Thriller, War            '\n",
      " 'Fantasy            ' 'Comedy, Romance, Drama            '\n",
      " 'Action, Fantasy, Romance            '\n",
      " 'Romance, Comedy, Drama            '\n",
      " 'Drama, History, Western            '\n",
      " 'Drama, Music, Thriller            ' 'Romance, Drama            '\n",
      " 'Drama, History, Horror            ' 'Crime, Horror            '\n",
      " 'Drama, Sport, Thriller            ' 'Comedy, Music, War            '\n",
      " 'Comedy, Musical, Drama            ' 'War, Drama, Action            '\n",
      " 'Drama, Comedy, Crime            '] \n",
      "\n",
      "\n",
      "=================================\n",
      "the unique values in  description \n",
      "\n",
      " ['Over the course of several years, two convicts form a friendship, seeking consolation and, eventually, redemption through basic compassion.'\n",
      " 'When the menace known as the Joker wreaks havoc and chaos on the people of Gotham, Batman must accept one of the greatest psychological and physical tests of his ability to fight injustice.'\n",
      " 'A thief who steals corporate secrets through the use of dream-sharing technology is given the inverse task of planting an idea into the mind of a C.E.O., but his tragic past may doom the project and his team to disaster.'\n",
      " ...\n",
      " 'A Texas Ranger and a ruthless narcotics kingpin - they were childhood friends, now they are adversaries...'\n",
      " \"A college athlete returns from the dead to help his brother's basketball team win the NCAA title.\"\n",
      " \"After serving three years in prison covering for her gangster boyfriend, Kevin, Gloria returns to New York City for the money she was promised. Inside Kevin's base of operations, she finds 7 year old Nicky, whose family has been killed.\"] \n",
      "\n",
      "\n",
      "=================================\n",
      "the unique values in  directors \n",
      "\n",
      " ['Frank Darabont' 'Christopher Nolan' 'David Fincher' ...\n",
      " 'Anders Anderson' 'James Lapine' 'Joel Silberg'] \n",
      "\n",
      "\n",
      "=================================\n",
      "the unique values in  stars \n",
      "\n",
      " ['     Tim Robbins, Morgan Freeman, Bob Gunton, William Sadler'\n",
      " '     Christian Bale, Heath Ledger, Aaron Eckhart, Michael Caine'\n",
      " '     Leonardo DiCaprio, Joseph Gordon-Levitt, Elliot Page, Ken Watanabe'\n",
      " ...\n",
      " '     Nick Nolte, Powers Boothe, Michael Ironside, Maria Conchita Alonso'\n",
      " '     Marlon Wayans, Kadeem Hardison, David Paymer, Michael Michele'\n",
      " '     Sharon Stone, Jean-Luke Figueroa, Jeremy Northam, Cathy Moriarty'] \n",
      "\n",
      "\n",
      "=================================\n"
     ]
    }
   ],
   "source": [
    "for i in df.columns:\n",
    "    print(\"the unique values in \",i,'\\n\\n',df[i].unique(),'\\n\\n\\n=================================')"
   ]
  },
  {
   "cell_type": "code",
   "execution_count": 31,
   "id": "2b940876",
   "metadata": {
    "colab": {
     "base_uri": "https://localhost:8080/"
    },
    "id": "2b940876",
    "outputId": "1139513f-1054-42b3-9c45-3454b94b2ff4",
    "scrolled": true
   },
   "outputs": [
    {
     "name": "stdout",
     "output_type": "stream",
     "text": [
      "the value count for the column movie_id \n",
      "\n",
      " tt0111161    1\n",
      "tt0275719    1\n",
      "tt0311519    1\n",
      "tt0408524    1\n",
      "tt0186894    1\n",
      "            ..\n",
      "tt1911658    1\n",
      "tt0478134    1\n",
      "tt1289401    1\n",
      "tt0186566    1\n",
      "tt0120683    1\n",
      "Name: movie_id, Length: 6154, dtype: int64 \n",
      "\n",
      "\n",
      "=================================\n",
      "the value count for the column movie_name \n",
      "\n",
      " The Jungle Book               3\n",
      "Hamlet                        3\n",
      "Carrie                        2\n",
      "Fantastic Four                2\n",
      "King Kong                     2\n",
      "                             ..\n",
      "Along Came a Spider           1\n",
      "Killer Joe                    1\n",
      "Fool's Gold                   1\n",
      "Deuce Bigalow: Male Gigolo    1\n",
      "The Sixth Man                 1\n",
      "Name: movie_name, Length: 6052, dtype: int64 \n",
      "\n",
      "\n",
      "=================================\n",
      "the value count for the column year \n",
      "\n",
      " (2007)         252\n",
      "(2006)         246\n",
      "(2011)         240\n",
      "(2014)         234\n",
      "(2013)         232\n",
      "              ... \n",
      "(I) (1987)       1\n",
      "(II) (2009)      1\n",
      "(1937)           1\n",
      "(1948)           1\n",
      "(II) (1996)      1\n",
      "Name: year, Length: 126, dtype: int64 \n",
      "\n",
      "\n",
      "=================================\n",
      "the value count for the column rating \n",
      "\n",
      " 6.4    285\n",
      "6.6    284\n",
      "6.7    279\n",
      "6.2    266\n",
      "7.1    261\n",
      "      ... \n",
      "1.5      1\n",
      "2.1      1\n",
      "2.0      1\n",
      "9.2      1\n",
      "1.7      1\n",
      "Name: rating, Length: 76, dtype: int64 \n",
      "\n",
      "\n",
      "=================================\n",
      "the value count for the column certificate \n",
      "\n",
      " R           1626\n",
      "U           1243\n",
      "A           1117\n",
      "UA          1012\n",
      "PG-13        725\n",
      "PG           255\n",
      "18            51\n",
      "16            22\n",
      "G             20\n",
      "15+           17\n",
      "13            14\n",
      "UA 16+        11\n",
      "(Banned)      10\n",
      "7              9\n",
      "All            6\n",
      "NC-17          6\n",
      "UA 13+         4\n",
      "12+            3\n",
      "M/PG           1\n",
      "GP             1\n",
      "M              1\n",
      "Name: certificate, dtype: int64 \n",
      "\n",
      "\n",
      "=================================\n",
      "the value count for the column gross_income \n",
      "\n",
      " $0.01M      70\n",
      "$0.00M      58\n",
      "$0.02M      55\n",
      "$0.03M      39\n",
      "$0.04M      37\n",
      "            ..\n",
      "$77.23M      1\n",
      "$81.20M      1\n",
      "$51.77M      1\n",
      "$116.63M     1\n",
      "$14.71M      1\n",
      "Name: gross_income, Length: 3785, dtype: int64 \n",
      "\n",
      "\n",
      "=================================\n",
      "the value count for the column votes \n",
      "\n",
      " 8,044     3\n",
      "15,044    3\n",
      "13,822    3\n",
      "10,276    3\n",
      "7,571     3\n",
      "         ..\n",
      "77,448    1\n",
      "88,977    1\n",
      "70,583    1\n",
      "88,077    1\n",
      "6,237     1\n",
      "Name: votes, Length: 5994, dtype: int64 \n",
      "\n",
      "\n",
      "=================================\n",
      "the value count for the column runtime \n",
      "\n",
      " 97 min     180\n",
      "98 min     173\n",
      "95 min     169\n",
      "101 min    164\n",
      "100 min    160\n",
      "          ... \n",
      "207 min      1\n",
      "201 min      1\n",
      "187 min      1\n",
      "194 min      1\n",
      "200 min      1\n",
      "Name: runtime, Length: 140, dtype: int64 \n",
      "\n",
      "\n",
      "=================================\n",
      "the value count for the column genre \n",
      "\n",
      " Comedy, Drama, Romance                370\n",
      "Drama                                 237\n",
      "Comedy, Drama                         237\n",
      "Drama, Romance                        219\n",
      "Comedy, Romance                       205\n",
      "                                     ... \n",
      "Action, Adventure, War                  1\n",
      "Crime, Drama, Sci-Fi                    1\n",
      "Crime, Fantasy, Horror                  1\n",
      "Crime, Sci-Fi                           1\n",
      "Drama, Comedy, Crime                    1\n",
      "Name: genre, Length: 356, dtype: int64 \n",
      "\n",
      "\n",
      "=================================\n",
      "the value count for the column description \n",
      "\n",
      " Over the course of several years, two convicts form a friendship, seeking consolation and, eventually, redemption through basic compassion.                                                                                                     1\n",
      "Three old high school friends meet in a Michigan motel room to dissect painful memories from their past.                                                                                                                                        1\n",
      "M arrives in Helsinki only to be viciously attacked by thugs and pronounced dead by medics. He revives but with no memory of his past or his identity. He rebuilds his life from scratch, but the past inevitably catches up with him.          1\n",
      "A grizzled little league coach tries to turn his team of misfits into champs.                                                                                                                                                                   1\n",
      "A man switches plane tickets with another man who dies in that plane in a crash. The man falls in love with the deceased one's wife.                                                                                                            1\n",
      "                                                                                                                                                                                                                                               ..\n",
      "Skipper, Kowalski, Rico and Private join forces with undercover organization The North Wind to stop the villainous Dr. Octavius Brine from destroying the world as we know it.                                                                  1\n",
      "A retired military investigator works with a police detective to uncover the truth behind his son's disappearance following his return from a tour of duty in Iraq.                                                                             1\n",
      "Following a ghost invasion of Manhattan, paranormal enthusiasts Erin Gilbert and Abby Yates, nuclear engineer Jillian Holtzmann, and subway worker Patty Tolan band together to stop the otherworldly threat.                                   1\n",
      "When retired engineer Frank Corvin (Clint Eastwood) is called upon to rescue a failing satellite, he insists that his equally old teammates accompany him into space.                                                                           1\n",
      "After serving three years in prison covering for her gangster boyfriend, Kevin, Gloria returns to New York City for the money she was promised. Inside Kevin's base of operations, she finds 7 year old Nicky, whose family has been killed.    1\n",
      "Name: description, Length: 6154, dtype: int64 \n",
      "\n",
      "\n",
      "=================================\n",
      "the value count for the column directors \n",
      "\n",
      " Woody Allen         32\n",
      "Clint Eastwood      32\n",
      "Steven Spielberg    29\n",
      "Ridley Scott        23\n",
      "Martin Scorsese     21\n",
      "                    ..\n",
      "Sacha Gervasi        1\n",
      "Joan Chen            1\n",
      "Aanand L. Rai        1\n",
      "Peter Ramsey         1\n",
      "Joel Silberg         1\n",
      "Name: directors, Length: 2614, dtype: int64 \n",
      "\n",
      "\n",
      "=================================\n",
      "the value count for the column stars \n",
      "\n",
      "      William Shatner, Leonard Nimoy, DeForest Kelley, James Doohan              6\n",
      "     Keanu Reeves, Laurence Fishburne, Carrie-Anne Moss, Hugo Weaving           3\n",
      "     Sylvester Stallone, Talia Shire, Burt Young, Carl Weathers                 3\n",
      "     Renée Zellweger, Colin Firth, Hugh Grant, Gemma Jones                      2\n",
      "     Alexa PenaVega, Daryl Sabara, Antonio Banderas, Carla Gugino               2\n",
      "                                                                               ..\n",
      "     Catherine Zeta-Jones, Aaron Eckhart, Abigail Breslin, Patricia Clarkson    1\n",
      "     Adrian Grenier, Kevin Connolly, Jerry Ferrara, Kevin Dillon                1\n",
      "     Danny Trejo, Alexa PenaVega, Mel Gibson, Jessica Alba                      1\n",
      "     Morgan Freeman, Michael Wincott, Monica Potter, Dylan Baker                1\n",
      "     Sharon Stone, Jean-Luke Figueroa, Jeremy Northam, Cathy Moriarty           1\n",
      "Name: stars, Length: 6123, dtype: int64 \n",
      "\n",
      "\n",
      "=================================\n"
     ]
    }
   ],
   "source": [
    "for i in df.columns:\n",
    "    print('the value count for the column',i,'\\n\\n',df[i].value_counts(),'\\n\\n\\n=================================')\n"
   ]
  },
  {
   "cell_type": "code",
   "execution_count": null,
   "id": "waH6owtJ4BUs",
   "metadata": {
    "id": "waH6owtJ4BUs"
   },
   "outputs": [],
   "source": []
  },
  {
   "cell_type": "markdown",
   "id": "0b687d2f",
   "metadata": {
    "id": "0b687d2f"
   },
   "source": [
    "### visualization for the numeric features"
   ]
  },
  {
   "cell_type": "code",
   "execution_count": 32,
   "id": "9849f4d6",
   "metadata": {
    "colab": {
     "base_uri": "https://localhost:8080/",
     "height": 767
    },
    "id": "9849f4d6",
    "outputId": "410cfee5-9968-46d9-bcc5-1e7513362a59"
   },
   "outputs": [
    {
     "data": {
      "text/plain": [
       "Text(0.5, 1.0, 'Distribution of rating')"
      ]
     },
     "execution_count": 32,
     "metadata": {},
     "output_type": "execute_result"
    },
    {
     "data": {
      "image/png": "[encoded data removed]",
      "text/plain": [
       "<Figure size 1500x1000 with 1 Axes>"
      ]
     },
     "metadata": {},
     "output_type": "display_data"
    }
   ],
   "source": [
    "plt.figure(figsize=(15, 10))\n",
    "sns.histplot(df['rating'], bins=20, kde=True)\n",
    "plt.title('Distribution of rating')\n"
   ]
  },
  {
   "cell_type": "code",
   "execution_count": 33,
   "id": "8900d1f7",
   "metadata": {
    "colab": {
     "base_uri": "https://localhost:8080/",
     "height": 775
    },
    "id": "8900d1f7",
    "outputId": "a3ded72b-0a4c-43e3-c35c-2542d759e054"
   },
   "outputs": [
    {
     "data": {
      "text/plain": [
       "Text(0.5, 1.0, 'Distribution of Gross Income')"
      ]
     },
     "execution_count": 33,
     "metadata": {},
     "output_type": "execute_result"
    },
    {
     "data": {
      "image/png": "[encoded data removed]",
      "text/plain": [
       "<Figure size 1500x1000 with 1 Axes>"
      ]
     },
     "metadata": {},
     "output_type": "display_data"
    }
   ],
   "source": [
    "plt.figure(figsize=(15, 10))\n",
    "sns.histplot(df['gross_income'].head(20), bins=20, kde=True)\n",
    "plt.title('Distribution of Gross Income')\n"
   ]
  },
  {
   "cell_type": "code",
   "execution_count": 34,
   "id": "69244707",
   "metadata": {
    "colab": {
     "base_uri": "https://localhost:8080/",
     "height": 775
    },
    "id": "69244707",
    "outputId": "05619425-9b18-4dc6-b16f-f3ddb355feec"
   },
   "outputs": [
    {
     "data": {
      "text/plain": [
       "Text(0.5, 1.0, 'Distribution of votes')"
      ]
     },
     "execution_count": 34,
     "metadata": {},
     "output_type": "execute_result"
    },
    {
     "data": {
      "image/png": "[encoded data removed]",
      "text/plain": [
       "<Figure size 1500x1000 with 1 Axes>"
      ]
     },
     "metadata": {},
     "output_type": "display_data"
    }
   ],
   "source": [
    "plt.figure(figsize=(15, 10))\n",
    "sns.histplot(df['votes'].head(20), bins=20, kde=True)\n",
    "plt.title('Distribution of votes')\n"
   ]
  },
  {
   "cell_type": "code",
   "execution_count": null,
   "id": "7980d1e4",
   "metadata": {
    "id": "7980d1e4"
   },
   "outputs": [],
   "source": []
  },
  {
   "cell_type": "markdown",
   "id": "df4312eb",
   "metadata": {
    "id": "df4312eb"
   },
   "source": [
    "# visualization for the categorical features"
   ]
  },
  {
   "cell_type": "code",
   "execution_count": 35,
   "id": "a488960a",
   "metadata": {
    "colab": {
     "base_uri": "https://localhost:8080/",
     "height": 373
    },
    "id": "a488960a",
    "outputId": "2cb50865-90c7-4c9f-9c67-98aaee9cc296"
   },
   "outputs": [
    {
     "data": {
      "text/plain": [
       "Text(0.5, 1.0, 'Top 20 Genres')"
      ]
     },
     "execution_count": 35,
     "metadata": {},
     "output_type": "execute_result"
    },
    {
     "data": {
      "image/png": "[encoded data removed]",
      "text/plain": [
       "<Figure size 1500x500 with 1 Axes>"
      ]
     },
     "metadata": {},
     "output_type": "display_data"
    }
   ],
   "source": [
    "plt.figure(figsize=(15,5))\n",
    "sns.countplot(y='genre', data=df, order=df['genre'].value_counts().index[:20])\n",
    "plt.title('Top 20 Genres')"
   ]
  },
  {
   "cell_type": "code",
   "execution_count": 36,
   "id": "b93a745f",
   "metadata": {
    "colab": {
     "base_uri": "https://localhost:8080/",
     "height": 437
    },
    "id": "b93a745f",
    "outputId": "7bc6a719-d8de-471a-b196-158898dc7e8b"
   },
   "outputs": [
    {
     "data": {
      "text/plain": [
       "Text(0.5, 1.0, 'Certificate Distribution')"
      ]
     },
     "execution_count": 36,
     "metadata": {},
     "output_type": "execute_result"
    },
    {
     "data": {
      "image/png": "[encoded data removed]",
      "text/plain": [
       "<Figure size 1500x500 with 1 Axes>"
      ]
     },
     "metadata": {},
     "output_type": "display_data"
    }
   ],
   "source": [
    "plt.figure(figsize=(15,5))\n",
    "sns.countplot(x='certificate', data=df, order=df['certificate'].value_counts().index)\n",
    "plt.title('Certificate Distribution')"
   ]
  },
  {
   "cell_type": "code",
   "execution_count": 37,
   "id": "22023cf7",
   "metadata": {
    "colab": {
     "base_uri": "https://localhost:8080/",
     "height": 440
    },
    "id": "22023cf7",
    "outputId": "7f5a99ab-f29e-42c8-87dd-c59924e984ab"
   },
   "outputs": [
    {
     "data": {
      "text/plain": [
       "Text(0.5, 1.0, 'Top 20 Release Years')"
      ]
     },
     "execution_count": 37,
     "metadata": {},
     "output_type": "execute_result"
    },
    {
     "data": {
      "image/png": "[encoded data removed]",
      "text/plain": [
       "<Figure size 1500x500 with 1 Axes>"
      ]
     },
     "metadata": {},
     "output_type": "display_data"
    }
   ],
   "source": [
    "plt.figure(figsize=(15,5))\n",
    "sns.countplot(x='year', data=df, order=df['year'].value_counts().index[:20])\n",
    "plt.title('Top 20 Release Years')"
   ]
  },
  {
   "cell_type": "code",
   "execution_count": 38,
   "id": "5d21ac6b",
   "metadata": {
    "colab": {
     "base_uri": "https://localhost:8080/",
     "height": 443
    },
    "id": "5d21ac6b",
    "outputId": "a322b527-41fe-4a0c-a738-b326d52f8c29"
   },
   "outputs": [
    {
     "data": {
      "text/plain": [
       "Text(0.5, 1.0, 'Top 10 directors')"
      ]
     },
     "execution_count": 38,
     "metadata": {},
     "output_type": "execute_result"
    },
    {
     "data": {
      "image/png": "[encoded data removed]",
      "text/plain": [
       "<Figure size 1500x500 with 1 Axes>"
      ]
     },
     "metadata": {},
     "output_type": "display_data"
    }
   ],
   "source": [
    "plt.figure(figsize=(15,5))\n",
    "sns.countplot(x='directors', data=df, order=df['directors'].value_counts().index[:10])\n",
    "plt.title('Top 10 directors')"
   ]
  },
  {
   "cell_type": "code",
   "execution_count": null,
   "id": "fc313e1c",
   "metadata": {
    "id": "fc313e1c"
   },
   "outputs": [],
   "source": []
  },
  {
   "cell_type": "code",
   "execution_count": null,
   "id": "41a4db40",
   "metadata": {
    "id": "41a4db40"
   },
   "outputs": [],
   "source": []
  },
  {
   "cell_type": "markdown",
   "id": "4079f507",
   "metadata": {
    "id": "4079f507"
   },
   "source": [
    "## the top 10 movies with the highest rating"
   ]
  },
  {
   "cell_type": "code",
   "execution_count": 39,
   "id": "6ac6ada1",
   "metadata": {
    "colab": {
     "base_uri": "https://localhost:8080/"
    },
    "id": "6ac6ada1",
    "outputId": "1c28f9b8-5926-4421-dd73-8f62e3da9a26"
   },
   "outputs": [
    {
     "data": {
      "text/plain": [
       "movie_name\n",
       "The Shawshank Redemption                             9.3\n",
       "The Godfather                                        9.2\n",
       "The Lord of the Rings: The Return of the King        9.0\n",
       "The Godfather Part II                                9.0\n",
       "The Dark Knight                                      9.0\n",
       "12 Angry Men                                         9.0\n",
       "Schindler's List                                     9.0\n",
       "The Lord of the Rings: The Fellowship of the Ring    8.9\n",
       "Pulp Fiction                                         8.9\n",
       "The Lord of the Rings: The Two Towers                8.8\n",
       "Name: rating, dtype: float64"
      ]
     },
     "execution_count": 39,
     "metadata": {},
     "output_type": "execute_result"
    }
   ],
   "source": [
    "df.groupby('movie_name')['rating'].mean().sort_values(ascending=False).head(10)"
   ]
  },
  {
   "cell_type": "code",
   "execution_count": null,
   "id": "675727c1",
   "metadata": {
    "id": "675727c1"
   },
   "outputs": [],
   "source": []
  },
  {
   "cell_type": "code",
   "execution_count": 40,
   "id": "a9025572",
   "metadata": {
    "colab": {
     "base_uri": "https://localhost:8080/"
    },
    "id": "a9025572",
    "outputId": "755a13c9-1ef2-4e40-e944-604e22c00a74"
   },
   "outputs": [
    {
     "data": {
      "text/plain": [
       "genre\n",
       "Comedy, Drama, Romance                     370\n",
       "Comedy, Drama                              237\n",
       "Drama                                      237\n",
       "Drama, Romance                             219\n",
       "Comedy, Romance                            205\n",
       "                                          ... \n",
       "Adventure, Sci-Fi, Thriller                  1\n",
       "Adventure, Thriller                          1\n",
       "Adventure, War, Western                      1\n",
       "Adventure, Western                           1\n",
       "Adventure, Fantasy, Mystery                  1\n",
       "Name: gross_income, Length: 356, dtype: int64"
      ]
     },
     "execution_count": 40,
     "metadata": {},
     "output_type": "execute_result"
    }
   ],
   "source": [
    "df.groupby('genre')['gross_income'].count().sort_values(ascending=False)"
   ]
  },
  {
   "cell_type": "code",
   "execution_count": null,
   "id": "8b9c7333",
   "metadata": {
    "id": "8b9c7333"
   },
   "outputs": [],
   "source": []
  },
  {
   "cell_type": "markdown",
   "id": "a89e32da",
   "metadata": {
    "id": "a89e32da"
   },
   "source": [
    "# top 10 highest genre with the higest gross collection"
   ]
  },
  {
   "cell_type": "code",
   "execution_count": 41,
   "id": "499dea1f",
   "metadata": {
    "colab": {
     "base_uri": "https://localhost:8080/"
    },
    "id": "499dea1f",
    "outputId": "aadc894d-d926-408e-9bdd-b1b5e431ad92"
   },
   "outputs": [
    {
     "data": {
      "text/plain": [
       "genre\n",
       "Animation, Adventure, Comedy                16839.32\n",
       "Action, Adventure, Sci-Fi                   16553.66\n",
       "Comedy, Drama, Romance                       9157.99\n",
       "Comedy                                       8339.77\n",
       "Comedy, Romance                              8262.74\n",
       "Action, Adventure, Fantasy                   7033.48\n",
       "Action, Adventure, Comedy                    6417.64\n",
       "Action, Comedy, Crime                        5305.86\n",
       "Action, Adventure, Drama                     5080.92\n",
       "Action, Adventure, Thriller                  5053.52\n",
       "Name: gross_income, dtype: float64"
      ]
     },
     "execution_count": 41,
     "metadata": {},
     "output_type": "execute_result"
    }
   ],
   "source": [
    "df['gross_income'] = pd.to_numeric(df['gross_income'].replace('[\\$,M]', '', regex=True), errors='coerce')\n",
    "genre_gross_income = df.groupby('genre')['gross_income'].sum()\n",
    "\n",
    "highest_gross_genre = genre_gross_income.sort_values(ascending=False).head(10)\n",
    "highest_gross_genre\n"
   ]
  },
  {
   "cell_type": "markdown",
   "id": "5a6de625",
   "metadata": {
    "id": "5a6de625"
   },
   "source": [
    "# top 10 movies with the highest votes"
   ]
  },
  {
   "cell_type": "code",
   "execution_count": 42,
   "id": "7b4d0c7c",
   "metadata": {
    "colab": {
     "base_uri": "https://localhost:8080/"
    },
    "id": "7b4d0c7c",
    "outputId": "c45e2336-1967-4e4a-cc09-fce3f12e8052"
   },
   "outputs": [
    {
     "name": "stdout",
     "output_type": "stream",
     "text": [
      "                                           movie_name    votes\n",
      "0                            The Shawshank Redemption  2836049\n",
      "1                                     The Dark Knight  2817468\n",
      "2                                           Inception  2500792\n",
      "3                                          Fight Club  2271737\n",
      "5                                        Forrest Gump  2210634\n",
      "4                                        Pulp Fiction  2175614\n",
      "17                                       Interstellar  2032157\n",
      "7                                          The Matrix  2015563\n",
      "9                                       The Godfather  1976569\n",
      "6   The Lord of the Rings: The Fellowship of the Ring  1969274\n"
     ]
    }
   ],
   "source": [
    "df['votes'] = pd.to_numeric(df['votes'].replace('[,]', '', regex=True), errors='coerce')\n",
    "top_votes_movies = df.sort_values(by='votes', ascending=False).head(10)\n",
    "\n",
    "print(top_votes_movies[['movie_name', 'votes']])\n"
   ]
  },
  {
   "cell_type": "markdown",
   "id": "4ec9db73",
   "metadata": {
    "id": "4ec9db73"
   },
   "source": [
    "# top 5 certificate movies which collected the highest gross"
   ]
  },
  {
   "cell_type": "code",
   "execution_count": 43,
   "id": "07b926ba",
   "metadata": {
    "colab": {
     "base_uri": "https://localhost:8080/"
    },
    "id": "07b926ba",
    "outputId": "77d31be5-1fb6-4821-deba-b6de9091cd68"
   },
   "outputs": [
    {
     "data": {
      "text/plain": [
       "certificate\n",
       "U        72985.90\n",
       "UA       71440.33\n",
       "A        49605.32\n",
       "R        14310.99\n",
       "PG-13    14157.37\n",
       "Name: gross_income, dtype: float64"
      ]
     },
     "execution_count": 43,
     "metadata": {},
     "output_type": "execute_result"
    }
   ],
   "source": [
    "df['gross_income'] = pd.to_numeric(df['gross_income'].replace('[\\$,M]', '', regex=True), errors='coerce')\n",
    "certificate_gross_income = df.groupby('certificate')['gross_income'].sum()\n",
    "top_certificates = certificate_gross_income.sort_values(ascending=False).head(5)\n",
    "top_certificates\n"
   ]
  },
  {
   "cell_type": "markdown",
   "id": "889aeba9",
   "metadata": {
    "id": "889aeba9"
   },
   "source": [
    "# top 5 directors with highest gross"
   ]
  },
  {
   "cell_type": "code",
   "execution_count": 44,
   "id": "ae17879a",
   "metadata": {
    "colab": {
     "base_uri": "https://localhost:8080/"
    },
    "id": "ae17879a",
    "outputId": "f9afaa97-c973-4132-8253-cfc3a2c5f41f"
   },
   "outputs": [
    {
     "data": {
      "text/plain": [
       "directors\n",
       "Steven Spielberg    4284.47\n",
       "Michael Bay         2196.34\n",
       "Peter Jackson       2134.38\n",
       "Robert Zemeckis     2035.84\n",
       "James Cameron       1948.98\n",
       "Name: gross_income, dtype: float64"
      ]
     },
     "execution_count": 44,
     "metadata": {},
     "output_type": "execute_result"
    }
   ],
   "source": [
    "df['gross_income'] = pd.to_numeric(df['gross_income'].replace('[\\$,M]', '', regex=True), errors='coerce')\n",
    "director_gross_income = df.groupby('directors')['gross_income'].sum()\n",
    "top_directors = director_gross_income.sort_values(ascending=False).head(5)\n",
    "top_directors\n"
   ]
  },
  {
   "cell_type": "code",
   "execution_count": null,
   "id": "c40c49d7",
   "metadata": {
    "id": "c40c49d7"
   },
   "outputs": [],
   "source": []
  },
  {
   "cell_type": "code",
   "execution_count": 45,
   "id": "c8856c52",
   "metadata": {
    "id": "c8856c52"
   },
   "outputs": [],
   "source": [
    "df1=df.copy()"
   ]
  },
  {
   "cell_type": "code",
   "execution_count": 46,
   "id": "d928a88b",
   "metadata": {
    "colab": {
     "base_uri": "https://localhost:8080/",
     "height": 449
    },
    "id": "d928a88b",
    "outputId": "6d383617-b2b4-4eea-c20e-e42115d33362"
   },
   "outputs": [
    {
     "data": {
      "text/html": [
       "<div>\n",
       "<style scoped>\n",
       "    .dataframe tbody tr th:only-of-type {\n",
       "        vertical-align: middle;\n",
       "    }\n",
       "\n",
       "    .dataframe tbody tr th {\n",
       "        vertical-align: top;\n",
       "    }\n",
       "\n",
       "    .dataframe thead th {\n",
       "        text-align: right;\n",
       "    }\n",
       "</style>\n",
       "<table border=\"1\" class=\"dataframe\">\n",
       "  <thead>\n",
       "    <tr style=\"text-align: right;\">\n",
       "      <th></th>\n",
       "      <th>movie_id</th>\n",
       "      <th>movie_name</th>\n",
       "      <th>year</th>\n",
       "      <th>rating</th>\n",
       "      <th>certificate</th>\n",
       "      <th>gross_income</th>\n",
       "      <th>votes</th>\n",
       "      <th>runtime</th>\n",
       "      <th>genre</th>\n",
       "      <th>description</th>\n",
       "      <th>directors</th>\n",
       "      <th>stars</th>\n",
       "    </tr>\n",
       "  </thead>\n",
       "  <tbody>\n",
       "    <tr>\n",
       "      <th>0</th>\n",
       "      <td>tt0111161</td>\n",
       "      <td>The Shawshank Redemption</td>\n",
       "      <td>(1994)</td>\n",
       "      <td>9.3</td>\n",
       "      <td>A</td>\n",
       "      <td>28.34</td>\n",
       "      <td>2836049</td>\n",
       "      <td>142 min</td>\n",
       "      <td>Drama</td>\n",
       "      <td>Over the course of several years, two convicts...</td>\n",
       "      <td>Frank Darabont</td>\n",
       "      <td>Tim Robbins, Morgan Freeman, Bob Gunton, ...</td>\n",
       "    </tr>\n",
       "    <tr>\n",
       "      <th>1</th>\n",
       "      <td>tt0468569</td>\n",
       "      <td>The Dark Knight</td>\n",
       "      <td>(2008)</td>\n",
       "      <td>9.0</td>\n",
       "      <td>UA</td>\n",
       "      <td>534.86</td>\n",
       "      <td>2817468</td>\n",
       "      <td>152 min</td>\n",
       "      <td>Action, Crime, Drama</td>\n",
       "      <td>When the menace known as the Joker wreaks havo...</td>\n",
       "      <td>Christopher Nolan</td>\n",
       "      <td>Christian Bale, Heath Ledger, Aaron Eckha...</td>\n",
       "    </tr>\n",
       "    <tr>\n",
       "      <th>2</th>\n",
       "      <td>tt1375666</td>\n",
       "      <td>Inception</td>\n",
       "      <td>(2010)</td>\n",
       "      <td>8.8</td>\n",
       "      <td>UA</td>\n",
       "      <td>292.58</td>\n",
       "      <td>2500792</td>\n",
       "      <td>148 min</td>\n",
       "      <td>Action, Adventure, Sci-Fi</td>\n",
       "      <td>A thief who steals corporate secrets through t...</td>\n",
       "      <td>Christopher Nolan</td>\n",
       "      <td>Leonardo DiCaprio, Joseph Gordon-Levitt, ...</td>\n",
       "    </tr>\n",
       "    <tr>\n",
       "      <th>3</th>\n",
       "      <td>tt0137523</td>\n",
       "      <td>Fight Club</td>\n",
       "      <td>(1999)</td>\n",
       "      <td>8.8</td>\n",
       "      <td>A</td>\n",
       "      <td>37.03</td>\n",
       "      <td>2271737</td>\n",
       "      <td>139 min</td>\n",
       "      <td>Drama</td>\n",
       "      <td>An insomniac office worker and a devil-may-car...</td>\n",
       "      <td>David Fincher</td>\n",
       "      <td>Brad Pitt, Edward Norton, Meat Loaf, Zach...</td>\n",
       "    </tr>\n",
       "    <tr>\n",
       "      <th>4</th>\n",
       "      <td>tt0110912</td>\n",
       "      <td>Pulp Fiction</td>\n",
       "      <td>(1994)</td>\n",
       "      <td>8.9</td>\n",
       "      <td>A</td>\n",
       "      <td>107.93</td>\n",
       "      <td>2175614</td>\n",
       "      <td>154 min</td>\n",
       "      <td>Crime, Drama</td>\n",
       "      <td>The lives of two mob hitmen, a boxer, a gangst...</td>\n",
       "      <td>Quentin Tarantino</td>\n",
       "      <td>John Travolta, Uma Thurman, Samuel L. Jac...</td>\n",
       "    </tr>\n",
       "  </tbody>\n",
       "</table>\n",
       "</div>"
      ],
      "text/plain": [
       "    movie_id                movie_name    year  rating certificate  \\\n",
       "0  tt0111161  The Shawshank Redemption  (1994)     9.3           A   \n",
       "1  tt0468569           The Dark Knight  (2008)     9.0          UA   \n",
       "2  tt1375666                 Inception  (2010)     8.8          UA   \n",
       "3  tt0137523                Fight Club  (1999)     8.8           A   \n",
       "4  tt0110912              Pulp Fiction  (1994)     8.9           A   \n",
       "\n",
       "   gross_income    votes  runtime                                  genre  \\\n",
       "0         28.34  2836049  142 min                      Drama               \n",
       "1        534.86  2817468  152 min       Action, Crime, Drama               \n",
       "2        292.58  2500792  148 min  Action, Adventure, Sci-Fi               \n",
       "3         37.03  2271737  139 min                      Drama               \n",
       "4        107.93  2175614  154 min               Crime, Drama               \n",
       "\n",
       "                                         description          directors  \\\n",
       "0  Over the course of several years, two convicts...     Frank Darabont   \n",
       "1  When the menace known as the Joker wreaks havo...  Christopher Nolan   \n",
       "2  A thief who steals corporate secrets through t...  Christopher Nolan   \n",
       "3  An insomniac office worker and a devil-may-car...      David Fincher   \n",
       "4  The lives of two mob hitmen, a boxer, a gangst...  Quentin Tarantino   \n",
       "\n",
       "                                               stars  \n",
       "0       Tim Robbins, Morgan Freeman, Bob Gunton, ...  \n",
       "1       Christian Bale, Heath Ledger, Aaron Eckha...  \n",
       "2       Leonardo DiCaprio, Joseph Gordon-Levitt, ...  \n",
       "3       Brad Pitt, Edward Norton, Meat Loaf, Zach...  \n",
       "4       John Travolta, Uma Thurman, Samuel L. Jac...  "
      ]
     },
     "execution_count": 46,
     "metadata": {},
     "output_type": "execute_result"
    }
   ],
   "source": [
    "df1.head()"
   ]
  },
  {
   "cell_type": "code",
   "execution_count": 47,
   "id": "66646a7f",
   "metadata": {
    "id": "66646a7f"
   },
   "outputs": [],
   "source": [
    "stars_split = df1['stars'].str.split(',', expand=True)"
   ]
  },
  {
   "cell_type": "code",
   "execution_count": 48,
   "id": "448c340d",
   "metadata": {
    "id": "448c340d"
   },
   "outputs": [],
   "source": [
    "stars_split.columns = [f'Star_{i+1}' for i in range(stars_split.shape[1])]"
   ]
  },
  {
   "cell_type": "code",
   "execution_count": 49,
   "id": "2ea74145",
   "metadata": {
    "id": "2ea74145"
   },
   "outputs": [],
   "source": [
    "df1 = pd.concat([df1, stars_split], axis=1)"
   ]
  },
  {
   "cell_type": "code",
   "execution_count": 50,
   "id": "fb890eb7",
   "metadata": {
    "colab": {
     "base_uri": "https://localhost:8080/",
     "height": 660
    },
    "id": "fb890eb7",
    "outputId": "eec1d9d2-cafd-4cb7-d922-e7605b1bb57a"
   },
   "outputs": [
    {
     "data": {
      "text/html": [
       "<div>\n",
       "<style scoped>\n",
       "    .dataframe tbody tr th:only-of-type {\n",
       "        vertical-align: middle;\n",
       "    }\n",
       "\n",
       "    .dataframe tbody tr th {\n",
       "        vertical-align: top;\n",
       "    }\n",
       "\n",
       "    .dataframe thead th {\n",
       "        text-align: right;\n",
       "    }\n",
       "</style>\n",
       "<table border=\"1\" class=\"dataframe\">\n",
       "  <thead>\n",
       "    <tr style=\"text-align: right;\">\n",
       "      <th></th>\n",
       "      <th>movie_id</th>\n",
       "      <th>movie_name</th>\n",
       "      <th>year</th>\n",
       "      <th>rating</th>\n",
       "      <th>certificate</th>\n",
       "      <th>gross_income</th>\n",
       "      <th>votes</th>\n",
       "      <th>runtime</th>\n",
       "      <th>genre</th>\n",
       "      <th>description</th>\n",
       "      <th>directors</th>\n",
       "      <th>stars</th>\n",
       "      <th>Star_1</th>\n",
       "      <th>Star_2</th>\n",
       "      <th>Star_3</th>\n",
       "      <th>Star_4</th>\n",
       "    </tr>\n",
       "  </thead>\n",
       "  <tbody>\n",
       "    <tr>\n",
       "      <th>0</th>\n",
       "      <td>tt0111161</td>\n",
       "      <td>The Shawshank Redemption</td>\n",
       "      <td>(1994)</td>\n",
       "      <td>9.3</td>\n",
       "      <td>A</td>\n",
       "      <td>28.34</td>\n",
       "      <td>2836049</td>\n",
       "      <td>142 min</td>\n",
       "      <td>Drama</td>\n",
       "      <td>Over the course of several years, two convicts...</td>\n",
       "      <td>Frank Darabont</td>\n",
       "      <td>Tim Robbins, Morgan Freeman, Bob Gunton, ...</td>\n",
       "      <td>Tim Robbins</td>\n",
       "      <td>Morgan Freeman</td>\n",
       "      <td>Bob Gunton</td>\n",
       "      <td>William Sadler</td>\n",
       "    </tr>\n",
       "    <tr>\n",
       "      <th>1</th>\n",
       "      <td>tt0468569</td>\n",
       "      <td>The Dark Knight</td>\n",
       "      <td>(2008)</td>\n",
       "      <td>9.0</td>\n",
       "      <td>UA</td>\n",
       "      <td>534.86</td>\n",
       "      <td>2817468</td>\n",
       "      <td>152 min</td>\n",
       "      <td>Action, Crime, Drama</td>\n",
       "      <td>When the menace known as the Joker wreaks havo...</td>\n",
       "      <td>Christopher Nolan</td>\n",
       "      <td>Christian Bale, Heath Ledger, Aaron Eckha...</td>\n",
       "      <td>Christian Bale</td>\n",
       "      <td>Heath Ledger</td>\n",
       "      <td>Aaron Eckhart</td>\n",
       "      <td>Michael Caine</td>\n",
       "    </tr>\n",
       "    <tr>\n",
       "      <th>2</th>\n",
       "      <td>tt1375666</td>\n",
       "      <td>Inception</td>\n",
       "      <td>(2010)</td>\n",
       "      <td>8.8</td>\n",
       "      <td>UA</td>\n",
       "      <td>292.58</td>\n",
       "      <td>2500792</td>\n",
       "      <td>148 min</td>\n",
       "      <td>Action, Adventure, Sci-Fi</td>\n",
       "      <td>A thief who steals corporate secrets through t...</td>\n",
       "      <td>Christopher Nolan</td>\n",
       "      <td>Leonardo DiCaprio, Joseph Gordon-Levitt, ...</td>\n",
       "      <td>Leonardo DiCaprio</td>\n",
       "      <td>Joseph Gordon-Levitt</td>\n",
       "      <td>Elliot Page</td>\n",
       "      <td>Ken Watanabe</td>\n",
       "    </tr>\n",
       "    <tr>\n",
       "      <th>3</th>\n",
       "      <td>tt0137523</td>\n",
       "      <td>Fight Club</td>\n",
       "      <td>(1999)</td>\n",
       "      <td>8.8</td>\n",
       "      <td>A</td>\n",
       "      <td>37.03</td>\n",
       "      <td>2271737</td>\n",
       "      <td>139 min</td>\n",
       "      <td>Drama</td>\n",
       "      <td>An insomniac office worker and a devil-may-car...</td>\n",
       "      <td>David Fincher</td>\n",
       "      <td>Brad Pitt, Edward Norton, Meat Loaf, Zach...</td>\n",
       "      <td>Brad Pitt</td>\n",
       "      <td>Edward Norton</td>\n",
       "      <td>Meat Loaf</td>\n",
       "      <td>Zach Grenier</td>\n",
       "    </tr>\n",
       "    <tr>\n",
       "      <th>4</th>\n",
       "      <td>tt0110912</td>\n",
       "      <td>Pulp Fiction</td>\n",
       "      <td>(1994)</td>\n",
       "      <td>8.9</td>\n",
       "      <td>A</td>\n",
       "      <td>107.93</td>\n",
       "      <td>2175614</td>\n",
       "      <td>154 min</td>\n",
       "      <td>Crime, Drama</td>\n",
       "      <td>The lives of two mob hitmen, a boxer, a gangst...</td>\n",
       "      <td>Quentin Tarantino</td>\n",
       "      <td>John Travolta, Uma Thurman, Samuel L. Jac...</td>\n",
       "      <td>John Travolta</td>\n",
       "      <td>Uma Thurman</td>\n",
       "      <td>Samuel L. Jackson</td>\n",
       "      <td>Bruce Willis</td>\n",
       "    </tr>\n",
       "  </tbody>\n",
       "</table>\n",
       "</div>"
      ],
      "text/plain": [
       "    movie_id                movie_name    year  rating certificate  \\\n",
       "0  tt0111161  The Shawshank Redemption  (1994)     9.3           A   \n",
       "1  tt0468569           The Dark Knight  (2008)     9.0          UA   \n",
       "2  tt1375666                 Inception  (2010)     8.8          UA   \n",
       "3  tt0137523                Fight Club  (1999)     8.8           A   \n",
       "4  tt0110912              Pulp Fiction  (1994)     8.9           A   \n",
       "\n",
       "   gross_income    votes  runtime                                  genre  \\\n",
       "0         28.34  2836049  142 min                      Drama               \n",
       "1        534.86  2817468  152 min       Action, Crime, Drama               \n",
       "2        292.58  2500792  148 min  Action, Adventure, Sci-Fi               \n",
       "3         37.03  2271737  139 min                      Drama               \n",
       "4        107.93  2175614  154 min               Crime, Drama               \n",
       "\n",
       "                                         description          directors  \\\n",
       "0  Over the course of several years, two convicts...     Frank Darabont   \n",
       "1  When the menace known as the Joker wreaks havo...  Christopher Nolan   \n",
       "2  A thief who steals corporate secrets through t...  Christopher Nolan   \n",
       "3  An insomniac office worker and a devil-may-car...      David Fincher   \n",
       "4  The lives of two mob hitmen, a boxer, a gangst...  Quentin Tarantino   \n",
       "\n",
       "                                               stars                  Star_1  \\\n",
       "0       Tim Robbins, Morgan Freeman, Bob Gunton, ...             Tim Robbins   \n",
       "1       Christian Bale, Heath Ledger, Aaron Eckha...          Christian Bale   \n",
       "2       Leonardo DiCaprio, Joseph Gordon-Levitt, ...       Leonardo DiCaprio   \n",
       "3       Brad Pitt, Edward Norton, Meat Loaf, Zach...               Brad Pitt   \n",
       "4       John Travolta, Uma Thurman, Samuel L. Jac...           John Travolta   \n",
       "\n",
       "                  Star_2              Star_3           Star_4  \n",
       "0         Morgan Freeman          Bob Gunton   William Sadler  \n",
       "1           Heath Ledger       Aaron Eckhart    Michael Caine  \n",
       "2   Joseph Gordon-Levitt         Elliot Page     Ken Watanabe  \n",
       "3          Edward Norton           Meat Loaf     Zach Grenier  \n",
       "4            Uma Thurman   Samuel L. Jackson     Bruce Willis  "
      ]
     },
     "execution_count": 50,
     "metadata": {},
     "output_type": "execute_result"
    }
   ],
   "source": [
    "df1.head()"
   ]
  },
  {
   "cell_type": "code",
   "execution_count": 51,
   "id": "a2191488",
   "metadata": {
    "id": "a2191488"
   },
   "outputs": [],
   "source": [
    "df1=df1.drop('stars',axis=1)"
   ]
  },
  {
   "cell_type": "code",
   "execution_count": 52,
   "id": "71c26602",
   "metadata": {
    "colab": {
     "base_uri": "https://localhost:8080/",
     "height": 1000
    },
    "id": "71c26602",
    "outputId": "bf9c9b56-7a89-4773-f623-6c9a9c186533"
   },
   "outputs": [
    {
     "data": {
      "text/html": [
       "<div>\n",
       "<style scoped>\n",
       "    .dataframe tbody tr th:only-of-type {\n",
       "        vertical-align: middle;\n",
       "    }\n",
       "\n",
       "    .dataframe tbody tr th {\n",
       "        vertical-align: top;\n",
       "    }\n",
       "\n",
       "    .dataframe thead th {\n",
       "        text-align: right;\n",
       "    }\n",
       "</style>\n",
       "<table border=\"1\" class=\"dataframe\">\n",
       "  <thead>\n",
       "    <tr style=\"text-align: right;\">\n",
       "      <th></th>\n",
       "      <th>movie_id</th>\n",
       "      <th>movie_name</th>\n",
       "      <th>year</th>\n",
       "      <th>rating</th>\n",
       "      <th>certificate</th>\n",
       "      <th>gross_income</th>\n",
       "      <th>votes</th>\n",
       "      <th>runtime</th>\n",
       "      <th>genre</th>\n",
       "      <th>description</th>\n",
       "      <th>directors</th>\n",
       "      <th>Star_1</th>\n",
       "      <th>Star_2</th>\n",
       "      <th>Star_3</th>\n",
       "      <th>Star_4</th>\n",
       "    </tr>\n",
       "  </thead>\n",
       "  <tbody>\n",
       "    <tr>\n",
       "      <th>0</th>\n",
       "      <td>tt0111161</td>\n",
       "      <td>The Shawshank Redemption</td>\n",
       "      <td>(1994)</td>\n",
       "      <td>9.3</td>\n",
       "      <td>A</td>\n",
       "      <td>28.34</td>\n",
       "      <td>2836049</td>\n",
       "      <td>142 min</td>\n",
       "      <td>Drama</td>\n",
       "      <td>Over the course of several years, two convicts...</td>\n",
       "      <td>Frank Darabont</td>\n",
       "      <td>Tim Robbins</td>\n",
       "      <td>Morgan Freeman</td>\n",
       "      <td>Bob Gunton</td>\n",
       "      <td>William Sadler</td>\n",
       "    </tr>\n",
       "    <tr>\n",
       "      <th>1</th>\n",
       "      <td>tt0468569</td>\n",
       "      <td>The Dark Knight</td>\n",
       "      <td>(2008)</td>\n",
       "      <td>9.0</td>\n",
       "      <td>UA</td>\n",
       "      <td>534.86</td>\n",
       "      <td>2817468</td>\n",
       "      <td>152 min</td>\n",
       "      <td>Action, Crime, Drama</td>\n",
       "      <td>When the menace known as the Joker wreaks havo...</td>\n",
       "      <td>Christopher Nolan</td>\n",
       "      <td>Christian Bale</td>\n",
       "      <td>Heath Ledger</td>\n",
       "      <td>Aaron Eckhart</td>\n",
       "      <td>Michael Caine</td>\n",
       "    </tr>\n",
       "    <tr>\n",
       "      <th>2</th>\n",
       "      <td>tt1375666</td>\n",
       "      <td>Inception</td>\n",
       "      <td>(2010)</td>\n",
       "      <td>8.8</td>\n",
       "      <td>UA</td>\n",
       "      <td>292.58</td>\n",
       "      <td>2500792</td>\n",
       "      <td>148 min</td>\n",
       "      <td>Action, Adventure, Sci-Fi</td>\n",
       "      <td>A thief who steals corporate secrets through t...</td>\n",
       "      <td>Christopher Nolan</td>\n",
       "      <td>Leonardo DiCaprio</td>\n",
       "      <td>Joseph Gordon-Levitt</td>\n",
       "      <td>Elliot Page</td>\n",
       "      <td>Ken Watanabe</td>\n",
       "    </tr>\n",
       "    <tr>\n",
       "      <th>3</th>\n",
       "      <td>tt0137523</td>\n",
       "      <td>Fight Club</td>\n",
       "      <td>(1999)</td>\n",
       "      <td>8.8</td>\n",
       "      <td>A</td>\n",
       "      <td>37.03</td>\n",
       "      <td>2271737</td>\n",
       "      <td>139 min</td>\n",
       "      <td>Drama</td>\n",
       "      <td>An insomniac office worker and a devil-may-car...</td>\n",
       "      <td>David Fincher</td>\n",
       "      <td>Brad Pitt</td>\n",
       "      <td>Edward Norton</td>\n",
       "      <td>Meat Loaf</td>\n",
       "      <td>Zach Grenier</td>\n",
       "    </tr>\n",
       "    <tr>\n",
       "      <th>4</th>\n",
       "      <td>tt0110912</td>\n",
       "      <td>Pulp Fiction</td>\n",
       "      <td>(1994)</td>\n",
       "      <td>8.9</td>\n",
       "      <td>A</td>\n",
       "      <td>107.93</td>\n",
       "      <td>2175614</td>\n",
       "      <td>154 min</td>\n",
       "      <td>Crime, Drama</td>\n",
       "      <td>The lives of two mob hitmen, a boxer, a gangst...</td>\n",
       "      <td>Quentin Tarantino</td>\n",
       "      <td>John Travolta</td>\n",
       "      <td>Uma Thurman</td>\n",
       "      <td>Samuel L. Jackson</td>\n",
       "      <td>Bruce Willis</td>\n",
       "    </tr>\n",
       "    <tr>\n",
       "      <th>...</th>\n",
       "      <td>...</td>\n",
       "      <td>...</td>\n",
       "      <td>...</td>\n",
       "      <td>...</td>\n",
       "      <td>...</td>\n",
       "      <td>...</td>\n",
       "      <td>...</td>\n",
       "      <td>...</td>\n",
       "      <td>...</td>\n",
       "      <td>...</td>\n",
       "      <td>...</td>\n",
       "      <td>...</td>\n",
       "      <td>...</td>\n",
       "      <td>...</td>\n",
       "      <td>...</td>\n",
       "    </tr>\n",
       "    <tr>\n",
       "      <th>6423</th>\n",
       "      <td>tt0115738</td>\n",
       "      <td>Box of Moonlight</td>\n",
       "      <td>(1996)</td>\n",
       "      <td>7.1</td>\n",
       "      <td>R</td>\n",
       "      <td>0.72</td>\n",
       "      <td>5972</td>\n",
       "      <td>112 min</td>\n",
       "      <td>Comedy, Drama</td>\n",
       "      <td>An engineer finds his first gray hair, takes 6...</td>\n",
       "      <td>Tom DiCillo</td>\n",
       "      <td>John Turturro</td>\n",
       "      <td>Sam Rockwell</td>\n",
       "      <td>Catherine Keener</td>\n",
       "      <td>Lisa Blount</td>\n",
       "    </tr>\n",
       "    <tr>\n",
       "      <th>6424</th>\n",
       "      <td>tt0086998</td>\n",
       "      <td>Breakin'</td>\n",
       "      <td>(1984)</td>\n",
       "      <td>5.8</td>\n",
       "      <td>U</td>\n",
       "      <td>38.68</td>\n",
       "      <td>7102</td>\n",
       "      <td>87 min</td>\n",
       "      <td>Comedy, Drama, Music</td>\n",
       "      <td>A struggling young jazz dancer meets up with t...</td>\n",
       "      <td>Joel Silberg</td>\n",
       "      <td>Lucinda Dickey</td>\n",
       "      <td>Adolfo Quinones</td>\n",
       "      <td>Michael Chambers</td>\n",
       "      <td>Ben Lokey</td>\n",
       "    </tr>\n",
       "    <tr>\n",
       "      <th>6425</th>\n",
       "      <td>tt0092997</td>\n",
       "      <td>Extreme Prejudice</td>\n",
       "      <td>(1987)</td>\n",
       "      <td>6.6</td>\n",
       "      <td>A</td>\n",
       "      <td>11.31</td>\n",
       "      <td>8535</td>\n",
       "      <td>105 min</td>\n",
       "      <td>Action, Crime, Drama</td>\n",
       "      <td>A Texas Ranger and a ruthless narcotics kingpi...</td>\n",
       "      <td>Walter Hill</td>\n",
       "      <td>Nick Nolte</td>\n",
       "      <td>Powers Boothe</td>\n",
       "      <td>Michael Ironside</td>\n",
       "      <td>Maria Conchita Alonso</td>\n",
       "    </tr>\n",
       "    <tr>\n",
       "      <th>6426</th>\n",
       "      <td>tt0120142</td>\n",
       "      <td>The Sixth Man</td>\n",
       "      <td>(1997)</td>\n",
       "      <td>5.6</td>\n",
       "      <td>PG-13</td>\n",
       "      <td>14.71</td>\n",
       "      <td>6237</td>\n",
       "      <td>107 min</td>\n",
       "      <td>Comedy, Drama, Fantasy</td>\n",
       "      <td>A college athlete returns from the dead to hel...</td>\n",
       "      <td>Randall Miller</td>\n",
       "      <td>Marlon Wayans</td>\n",
       "      <td>Kadeem Hardison</td>\n",
       "      <td>David Paymer</td>\n",
       "      <td>Michael Michele</td>\n",
       "    </tr>\n",
       "    <tr>\n",
       "      <th>6427</th>\n",
       "      <td>tt0120683</td>\n",
       "      <td>Gloria</td>\n",
       "      <td>(1999)</td>\n",
       "      <td>5.1</td>\n",
       "      <td>A</td>\n",
       "      <td>4.16</td>\n",
       "      <td>6148</td>\n",
       "      <td>108 min</td>\n",
       "      <td>Crime, Drama, Thriller</td>\n",
       "      <td>After serving three years in prison covering f...</td>\n",
       "      <td>Sidney Lumet</td>\n",
       "      <td>Sharon Stone</td>\n",
       "      <td>Jean-Luke Figueroa</td>\n",
       "      <td>Jeremy Northam</td>\n",
       "      <td>Cathy Moriarty</td>\n",
       "    </tr>\n",
       "  </tbody>\n",
       "</table>\n",
       "<p>6154 rows × 15 columns</p>\n",
       "</div>"
      ],
      "text/plain": [
       "       movie_id                movie_name    year  rating certificate  \\\n",
       "0     tt0111161  The Shawshank Redemption  (1994)     9.3           A   \n",
       "1     tt0468569           The Dark Knight  (2008)     9.0          UA   \n",
       "2     tt1375666                 Inception  (2010)     8.8          UA   \n",
       "3     tt0137523                Fight Club  (1999)     8.8           A   \n",
       "4     tt0110912              Pulp Fiction  (1994)     8.9           A   \n",
       "...         ...                       ...     ...     ...         ...   \n",
       "6423  tt0115738          Box of Moonlight  (1996)     7.1           R   \n",
       "6424  tt0086998                  Breakin'  (1984)     5.8           U   \n",
       "6425  tt0092997         Extreme Prejudice  (1987)     6.6           A   \n",
       "6426  tt0120142             The Sixth Man  (1997)     5.6       PG-13   \n",
       "6427  tt0120683                    Gloria  (1999)     5.1           A   \n",
       "\n",
       "      gross_income    votes  runtime                                  genre  \\\n",
       "0            28.34  2836049  142 min                      Drama               \n",
       "1           534.86  2817468  152 min       Action, Crime, Drama               \n",
       "2           292.58  2500792  148 min  Action, Adventure, Sci-Fi               \n",
       "3            37.03  2271737  139 min                      Drama               \n",
       "4           107.93  2175614  154 min               Crime, Drama               \n",
       "...            ...      ...      ...                                    ...   \n",
       "6423          0.72     5972  112 min              Comedy, Drama               \n",
       "6424         38.68     7102   87 min       Comedy, Drama, Music               \n",
       "6425         11.31     8535  105 min       Action, Crime, Drama               \n",
       "6426         14.71     6237  107 min     Comedy, Drama, Fantasy               \n",
       "6427          4.16     6148  108 min     Crime, Drama, Thriller               \n",
       "\n",
       "                                            description          directors  \\\n",
       "0     Over the course of several years, two convicts...     Frank Darabont   \n",
       "1     When the menace known as the Joker wreaks havo...  Christopher Nolan   \n",
       "2     A thief who steals corporate secrets through t...  Christopher Nolan   \n",
       "3     An insomniac office worker and a devil-may-car...      David Fincher   \n",
       "4     The lives of two mob hitmen, a boxer, a gangst...  Quentin Tarantino   \n",
       "...                                                 ...                ...   \n",
       "6423  An engineer finds his first gray hair, takes 6...        Tom DiCillo   \n",
       "6424  A struggling young jazz dancer meets up with t...       Joel Silberg   \n",
       "6425  A Texas Ranger and a ruthless narcotics kingpi...        Walter Hill   \n",
       "6426  A college athlete returns from the dead to hel...     Randall Miller   \n",
       "6427  After serving three years in prison covering f...       Sidney Lumet   \n",
       "\n",
       "                      Star_1                 Star_2              Star_3  \\\n",
       "0                Tim Robbins         Morgan Freeman          Bob Gunton   \n",
       "1             Christian Bale           Heath Ledger       Aaron Eckhart   \n",
       "2          Leonardo DiCaprio   Joseph Gordon-Levitt         Elliot Page   \n",
       "3                  Brad Pitt          Edward Norton           Meat Loaf   \n",
       "4              John Travolta            Uma Thurman   Samuel L. Jackson   \n",
       "...                      ...                    ...                 ...   \n",
       "6423           John Turturro           Sam Rockwell    Catherine Keener   \n",
       "6424          Lucinda Dickey        Adolfo Quinones    Michael Chambers   \n",
       "6425              Nick Nolte          Powers Boothe    Michael Ironside   \n",
       "6426           Marlon Wayans        Kadeem Hardison        David Paymer   \n",
       "6427            Sharon Stone     Jean-Luke Figueroa      Jeremy Northam   \n",
       "\n",
       "                      Star_4  \n",
       "0             William Sadler  \n",
       "1              Michael Caine  \n",
       "2               Ken Watanabe  \n",
       "3               Zach Grenier  \n",
       "4               Bruce Willis  \n",
       "...                      ...  \n",
       "6423             Lisa Blount  \n",
       "6424               Ben Lokey  \n",
       "6425   Maria Conchita Alonso  \n",
       "6426         Michael Michele  \n",
       "6427          Cathy Moriarty  \n",
       "\n",
       "[6154 rows x 15 columns]"
      ]
     },
     "execution_count": 52,
     "metadata": {},
     "output_type": "execute_result"
    }
   ],
   "source": [
    "df1"
   ]
  },
  {
   "cell_type": "code",
   "execution_count": 53,
   "id": "acce3140",
   "metadata": {
    "colab": {
     "base_uri": "https://localhost:8080/"
    },
    "id": "acce3140",
    "outputId": "c796a3fc-219b-473f-9e41-894b69dcd2f3"
   },
   "outputs": [
    {
     "data": {
      "text/plain": [
       "array(['tt0111161', 'The Shawshank Redemption', '(1994)', 9.3, 'A', 28.34,\n",
       "       2836049, '142 min', 'Drama            ',\n",
       "       'Over the course of several years, two convicts form a friendship, seeking consolation and, eventually, redemption through basic compassion.',\n",
       "       'Frank Darabont', '     Tim Robbins', ' Morgan Freeman',\n",
       "       ' Bob Gunton', ' William Sadler'], dtype=object)"
      ]
     },
     "execution_count": 53,
     "metadata": {},
     "output_type": "execute_result"
    }
   ],
   "source": [
    "df1.values[0]"
   ]
  },
  {
   "cell_type": "markdown",
   "id": "9b20107c",
   "metadata": {},
   "source": [
    "# Vectorization"
   ]
  },
  {
   "cell_type": "code",
   "execution_count": 54,
   "id": "5415ce33",
   "metadata": {
    "colab": {
     "base_uri": "https://localhost:8080/",
     "height": 449
    },
    "id": "5415ce33",
    "outputId": "1ed8b923-1393-473e-f616-bbdd08d830af"
   },
   "outputs": [
    {
     "data": {
      "text/html": [
       "<div>\n",
       "<style scoped>\n",
       "    .dataframe tbody tr th:only-of-type {\n",
       "        vertical-align: middle;\n",
       "    }\n",
       "\n",
       "    .dataframe tbody tr th {\n",
       "        vertical-align: top;\n",
       "    }\n",
       "\n",
       "    .dataframe thead th {\n",
       "        text-align: right;\n",
       "    }\n",
       "</style>\n",
       "<table border=\"1\" class=\"dataframe\">\n",
       "  <thead>\n",
       "    <tr style=\"text-align: right;\">\n",
       "      <th></th>\n",
       "      <th>movie_id</th>\n",
       "      <th>movie_name</th>\n",
       "      <th>year</th>\n",
       "      <th>rating</th>\n",
       "      <th>certificate</th>\n",
       "      <th>gross_income</th>\n",
       "      <th>votes</th>\n",
       "      <th>runtime</th>\n",
       "      <th>genre</th>\n",
       "      <th>description</th>\n",
       "      <th>directors</th>\n",
       "      <th>stars</th>\n",
       "    </tr>\n",
       "  </thead>\n",
       "  <tbody>\n",
       "    <tr>\n",
       "      <th>0</th>\n",
       "      <td>tt0111161</td>\n",
       "      <td>The Shawshank Redemption</td>\n",
       "      <td>(1994)</td>\n",
       "      <td>9.3</td>\n",
       "      <td>A</td>\n",
       "      <td>28.34</td>\n",
       "      <td>2836049</td>\n",
       "      <td>142 min</td>\n",
       "      <td>Drama</td>\n",
       "      <td>Over the course of several years, two convicts...</td>\n",
       "      <td>Frank Darabont</td>\n",
       "      <td>Tim Robbins, Morgan Freeman, Bob Gunton, ...</td>\n",
       "    </tr>\n",
       "    <tr>\n",
       "      <th>1</th>\n",
       "      <td>tt0468569</td>\n",
       "      <td>The Dark Knight</td>\n",
       "      <td>(2008)</td>\n",
       "      <td>9.0</td>\n",
       "      <td>UA</td>\n",
       "      <td>534.86</td>\n",
       "      <td>2817468</td>\n",
       "      <td>152 min</td>\n",
       "      <td>Action, Crime, Drama</td>\n",
       "      <td>When the menace known as the Joker wreaks havo...</td>\n",
       "      <td>Christopher Nolan</td>\n",
       "      <td>Christian Bale, Heath Ledger, Aaron Eckha...</td>\n",
       "    </tr>\n",
       "    <tr>\n",
       "      <th>2</th>\n",
       "      <td>tt1375666</td>\n",
       "      <td>Inception</td>\n",
       "      <td>(2010)</td>\n",
       "      <td>8.8</td>\n",
       "      <td>UA</td>\n",
       "      <td>292.58</td>\n",
       "      <td>2500792</td>\n",
       "      <td>148 min</td>\n",
       "      <td>Action, Adventure, Sci-Fi</td>\n",
       "      <td>A thief who steals corporate secrets through t...</td>\n",
       "      <td>Christopher Nolan</td>\n",
       "      <td>Leonardo DiCaprio, Joseph Gordon-Levitt, ...</td>\n",
       "    </tr>\n",
       "    <tr>\n",
       "      <th>3</th>\n",
       "      <td>tt0137523</td>\n",
       "      <td>Fight Club</td>\n",
       "      <td>(1999)</td>\n",
       "      <td>8.8</td>\n",
       "      <td>A</td>\n",
       "      <td>37.03</td>\n",
       "      <td>2271737</td>\n",
       "      <td>139 min</td>\n",
       "      <td>Drama</td>\n",
       "      <td>An insomniac office worker and a devil-may-car...</td>\n",
       "      <td>David Fincher</td>\n",
       "      <td>Brad Pitt, Edward Norton, Meat Loaf, Zach...</td>\n",
       "    </tr>\n",
       "    <tr>\n",
       "      <th>4</th>\n",
       "      <td>tt0110912</td>\n",
       "      <td>Pulp Fiction</td>\n",
       "      <td>(1994)</td>\n",
       "      <td>8.9</td>\n",
       "      <td>A</td>\n",
       "      <td>107.93</td>\n",
       "      <td>2175614</td>\n",
       "      <td>154 min</td>\n",
       "      <td>Crime, Drama</td>\n",
       "      <td>The lives of two mob hitmen, a boxer, a gangst...</td>\n",
       "      <td>Quentin Tarantino</td>\n",
       "      <td>John Travolta, Uma Thurman, Samuel L. Jac...</td>\n",
       "    </tr>\n",
       "  </tbody>\n",
       "</table>\n",
       "</div>"
      ],
      "text/plain": [
       "    movie_id                movie_name    year  rating certificate  \\\n",
       "0  tt0111161  The Shawshank Redemption  (1994)     9.3           A   \n",
       "1  tt0468569           The Dark Knight  (2008)     9.0          UA   \n",
       "2  tt1375666                 Inception  (2010)     8.8          UA   \n",
       "3  tt0137523                Fight Club  (1999)     8.8           A   \n",
       "4  tt0110912              Pulp Fiction  (1994)     8.9           A   \n",
       "\n",
       "   gross_income    votes  runtime                                  genre  \\\n",
       "0         28.34  2836049  142 min                      Drama               \n",
       "1        534.86  2817468  152 min       Action, Crime, Drama               \n",
       "2        292.58  2500792  148 min  Action, Adventure, Sci-Fi               \n",
       "3         37.03  2271737  139 min                      Drama               \n",
       "4        107.93  2175614  154 min               Crime, Drama               \n",
       "\n",
       "                                         description          directors  \\\n",
       "0  Over the course of several years, two convicts...     Frank Darabont   \n",
       "1  When the menace known as the Joker wreaks havo...  Christopher Nolan   \n",
       "2  A thief who steals corporate secrets through t...  Christopher Nolan   \n",
       "3  An insomniac office worker and a devil-may-car...      David Fincher   \n",
       "4  The lives of two mob hitmen, a boxer, a gangst...  Quentin Tarantino   \n",
       "\n",
       "                                               stars  \n",
       "0       Tim Robbins, Morgan Freeman, Bob Gunton, ...  \n",
       "1       Christian Bale, Heath Ledger, Aaron Eckha...  \n",
       "2       Leonardo DiCaprio, Joseph Gordon-Levitt, ...  \n",
       "3       Brad Pitt, Edward Norton, Meat Loaf, Zach...  \n",
       "4       John Travolta, Uma Thurman, Samuel L. Jac...  "
      ]
     },
     "execution_count": 54,
     "metadata": {},
     "output_type": "execute_result"
    }
   ],
   "source": [
    "df2=df.copy()\n",
    "df2.head()"
   ]
  },
  {
   "cell_type": "code",
   "execution_count": 55,
   "id": "17cdf51f",
   "metadata": {
    "id": "17cdf51f"
   },
   "outputs": [],
   "source": [
    "df2=df2.drop(['year','rating','gross_income','votes','runtime'],axis=1)"
   ]
  },
  {
   "cell_type": "code",
   "execution_count": 56,
   "id": "y4EwHhQ3HjyT",
   "metadata": {
    "colab": {
     "base_uri": "https://localhost:8080/",
     "height": 293
    },
    "id": "y4EwHhQ3HjyT",
    "outputId": "6a806366-a0fb-4b6b-9cba-394f1b6ff113"
   },
   "outputs": [
    {
     "data": {
      "text/html": [
       "<div>\n",
       "<style scoped>\n",
       "    .dataframe tbody tr th:only-of-type {\n",
       "        vertical-align: middle;\n",
       "    }\n",
       "\n",
       "    .dataframe tbody tr th {\n",
       "        vertical-align: top;\n",
       "    }\n",
       "\n",
       "    .dataframe thead th {\n",
       "        text-align: right;\n",
       "    }\n",
       "</style>\n",
       "<table border=\"1\" class=\"dataframe\">\n",
       "  <thead>\n",
       "    <tr style=\"text-align: right;\">\n",
       "      <th></th>\n",
       "      <th>movie_id</th>\n",
       "      <th>movie_name</th>\n",
       "      <th>certificate</th>\n",
       "      <th>genre</th>\n",
       "      <th>description</th>\n",
       "      <th>directors</th>\n",
       "      <th>stars</th>\n",
       "    </tr>\n",
       "  </thead>\n",
       "  <tbody>\n",
       "    <tr>\n",
       "      <th>0</th>\n",
       "      <td>tt0111161</td>\n",
       "      <td>The Shawshank Redemption</td>\n",
       "      <td>A</td>\n",
       "      <td>Drama</td>\n",
       "      <td>Over the course of several years, two convicts...</td>\n",
       "      <td>Frank Darabont</td>\n",
       "      <td>Tim Robbins, Morgan Freeman, Bob Gunton, ...</td>\n",
       "    </tr>\n",
       "    <tr>\n",
       "      <th>1</th>\n",
       "      <td>tt0468569</td>\n",
       "      <td>The Dark Knight</td>\n",
       "      <td>UA</td>\n",
       "      <td>Action, Crime, Drama</td>\n",
       "      <td>When the menace known as the Joker wreaks havo...</td>\n",
       "      <td>Christopher Nolan</td>\n",
       "      <td>Christian Bale, Heath Ledger, Aaron Eckha...</td>\n",
       "    </tr>\n",
       "    <tr>\n",
       "      <th>2</th>\n",
       "      <td>tt1375666</td>\n",
       "      <td>Inception</td>\n",
       "      <td>UA</td>\n",
       "      <td>Action, Adventure, Sci-Fi</td>\n",
       "      <td>A thief who steals corporate secrets through t...</td>\n",
       "      <td>Christopher Nolan</td>\n",
       "      <td>Leonardo DiCaprio, Joseph Gordon-Levitt, ...</td>\n",
       "    </tr>\n",
       "    <tr>\n",
       "      <th>3</th>\n",
       "      <td>tt0137523</td>\n",
       "      <td>Fight Club</td>\n",
       "      <td>A</td>\n",
       "      <td>Drama</td>\n",
       "      <td>An insomniac office worker and a devil-may-car...</td>\n",
       "      <td>David Fincher</td>\n",
       "      <td>Brad Pitt, Edward Norton, Meat Loaf, Zach...</td>\n",
       "    </tr>\n",
       "    <tr>\n",
       "      <th>4</th>\n",
       "      <td>tt0110912</td>\n",
       "      <td>Pulp Fiction</td>\n",
       "      <td>A</td>\n",
       "      <td>Crime, Drama</td>\n",
       "      <td>The lives of two mob hitmen, a boxer, a gangst...</td>\n",
       "      <td>Quentin Tarantino</td>\n",
       "      <td>John Travolta, Uma Thurman, Samuel L. Jac...</td>\n",
       "    </tr>\n",
       "  </tbody>\n",
       "</table>\n",
       "</div>"
      ],
      "text/plain": [
       "    movie_id                movie_name certificate  \\\n",
       "0  tt0111161  The Shawshank Redemption           A   \n",
       "1  tt0468569           The Dark Knight          UA   \n",
       "2  tt1375666                 Inception          UA   \n",
       "3  tt0137523                Fight Club           A   \n",
       "4  tt0110912              Pulp Fiction           A   \n",
       "\n",
       "                                   genre  \\\n",
       "0                      Drama               \n",
       "1       Action, Crime, Drama               \n",
       "2  Action, Adventure, Sci-Fi               \n",
       "3                      Drama               \n",
       "4               Crime, Drama               \n",
       "\n",
       "                                         description          directors  \\\n",
       "0  Over the course of several years, two convicts...     Frank Darabont   \n",
       "1  When the menace known as the Joker wreaks havo...  Christopher Nolan   \n",
       "2  A thief who steals corporate secrets through t...  Christopher Nolan   \n",
       "3  An insomniac office worker and a devil-may-car...      David Fincher   \n",
       "4  The lives of two mob hitmen, a boxer, a gangst...  Quentin Tarantino   \n",
       "\n",
       "                                               stars  \n",
       "0       Tim Robbins, Morgan Freeman, Bob Gunton, ...  \n",
       "1       Christian Bale, Heath Ledger, Aaron Eckha...  \n",
       "2       Leonardo DiCaprio, Joseph Gordon-Levitt, ...  \n",
       "3       Brad Pitt, Edward Norton, Meat Loaf, Zach...  \n",
       "4       John Travolta, Uma Thurman, Samuel L. Jac...  "
      ]
     },
     "execution_count": 56,
     "metadata": {},
     "output_type": "execute_result"
    }
   ],
   "source": [
    "df2.head()"
   ]
  },
  {
   "cell_type": "code",
   "execution_count": 57,
   "id": "ndmdnRk_1syv",
   "metadata": {
    "id": "ndmdnRk_1syv"
   },
   "outputs": [],
   "source": [
    "#Converting description column into list and separating each word\n",
    "df2['description']=df2['description'].apply(lambda x:x.split())"
   ]
  },
  {
   "cell_type": "code",
   "execution_count": 58,
   "id": "1bPST5vD1s1e",
   "metadata": {
    "colab": {
     "base_uri": "https://localhost:8080/",
     "height": 293
    },
    "id": "1bPST5vD1s1e",
    "outputId": "eedf1b12-c5f6-428d-b503-4ca7f071cdd2"
   },
   "outputs": [
    {
     "data": {
      "text/html": [
       "<div>\n",
       "<style scoped>\n",
       "    .dataframe tbody tr th:only-of-type {\n",
       "        vertical-align: middle;\n",
       "    }\n",
       "\n",
       "    .dataframe tbody tr th {\n",
       "        vertical-align: top;\n",
       "    }\n",
       "\n",
       "    .dataframe thead th {\n",
       "        text-align: right;\n",
       "    }\n",
       "</style>\n",
       "<table border=\"1\" class=\"dataframe\">\n",
       "  <thead>\n",
       "    <tr style=\"text-align: right;\">\n",
       "      <th></th>\n",
       "      <th>movie_id</th>\n",
       "      <th>movie_name</th>\n",
       "      <th>certificate</th>\n",
       "      <th>genre</th>\n",
       "      <th>description</th>\n",
       "      <th>directors</th>\n",
       "      <th>stars</th>\n",
       "    </tr>\n",
       "  </thead>\n",
       "  <tbody>\n",
       "    <tr>\n",
       "      <th>0</th>\n",
       "      <td>tt0111161</td>\n",
       "      <td>The Shawshank Redemption</td>\n",
       "      <td>A</td>\n",
       "      <td>Drama</td>\n",
       "      <td>[Over, the, course, of, several, years,, two, ...</td>\n",
       "      <td>Frank Darabont</td>\n",
       "      <td>Tim Robbins, Morgan Freeman, Bob Gunton, ...</td>\n",
       "    </tr>\n",
       "    <tr>\n",
       "      <th>1</th>\n",
       "      <td>tt0468569</td>\n",
       "      <td>The Dark Knight</td>\n",
       "      <td>UA</td>\n",
       "      <td>Action, Crime, Drama</td>\n",
       "      <td>[When, the, menace, known, as, the, Joker, wre...</td>\n",
       "      <td>Christopher Nolan</td>\n",
       "      <td>Christian Bale, Heath Ledger, Aaron Eckha...</td>\n",
       "    </tr>\n",
       "    <tr>\n",
       "      <th>2</th>\n",
       "      <td>tt1375666</td>\n",
       "      <td>Inception</td>\n",
       "      <td>UA</td>\n",
       "      <td>Action, Adventure, Sci-Fi</td>\n",
       "      <td>[A, thief, who, steals, corporate, secrets, th...</td>\n",
       "      <td>Christopher Nolan</td>\n",
       "      <td>Leonardo DiCaprio, Joseph Gordon-Levitt, ...</td>\n",
       "    </tr>\n",
       "    <tr>\n",
       "      <th>3</th>\n",
       "      <td>tt0137523</td>\n",
       "      <td>Fight Club</td>\n",
       "      <td>A</td>\n",
       "      <td>Drama</td>\n",
       "      <td>[An, insomniac, office, worker, and, a, devil-...</td>\n",
       "      <td>David Fincher</td>\n",
       "      <td>Brad Pitt, Edward Norton, Meat Loaf, Zach...</td>\n",
       "    </tr>\n",
       "    <tr>\n",
       "      <th>4</th>\n",
       "      <td>tt0110912</td>\n",
       "      <td>Pulp Fiction</td>\n",
       "      <td>A</td>\n",
       "      <td>Crime, Drama</td>\n",
       "      <td>[The, lives, of, two, mob, hitmen,, a, boxer,,...</td>\n",
       "      <td>Quentin Tarantino</td>\n",
       "      <td>John Travolta, Uma Thurman, Samuel L. Jac...</td>\n",
       "    </tr>\n",
       "  </tbody>\n",
       "</table>\n",
       "</div>"
      ],
      "text/plain": [
       "    movie_id                movie_name certificate  \\\n",
       "0  tt0111161  The Shawshank Redemption           A   \n",
       "1  tt0468569           The Dark Knight          UA   \n",
       "2  tt1375666                 Inception          UA   \n",
       "3  tt0137523                Fight Club           A   \n",
       "4  tt0110912              Pulp Fiction           A   \n",
       "\n",
       "                                   genre  \\\n",
       "0                      Drama               \n",
       "1       Action, Crime, Drama               \n",
       "2  Action, Adventure, Sci-Fi               \n",
       "3                      Drama               \n",
       "4               Crime, Drama               \n",
       "\n",
       "                                         description          directors  \\\n",
       "0  [Over, the, course, of, several, years,, two, ...     Frank Darabont   \n",
       "1  [When, the, menace, known, as, the, Joker, wre...  Christopher Nolan   \n",
       "2  [A, thief, who, steals, corporate, secrets, th...  Christopher Nolan   \n",
       "3  [An, insomniac, office, worker, and, a, devil-...      David Fincher   \n",
       "4  [The, lives, of, two, mob, hitmen,, a, boxer,,...  Quentin Tarantino   \n",
       "\n",
       "                                               stars  \n",
       "0       Tim Robbins, Morgan Freeman, Bob Gunton, ...  \n",
       "1       Christian Bale, Heath Ledger, Aaron Eckha...  \n",
       "2       Leonardo DiCaprio, Joseph Gordon-Levitt, ...  \n",
       "3       Brad Pitt, Edward Norton, Meat Loaf, Zach...  \n",
       "4       John Travolta, Uma Thurman, Samuel L. Jac...  "
      ]
     },
     "execution_count": 58,
     "metadata": {},
     "output_type": "execute_result"
    }
   ],
   "source": [
    "df2.head()"
   ]
  },
  {
   "cell_type": "code",
   "execution_count": 59,
   "id": "3GIJ2xMBG39G",
   "metadata": {
    "colab": {
     "base_uri": "https://localhost:8080/",
     "height": 293
    },
    "id": "3GIJ2xMBG39G",
    "outputId": "423733a8-7c13-490d-9436-af30a8191f2e"
   },
   "outputs": [
    {
     "data": {
      "text/html": [
       "<div>\n",
       "<style scoped>\n",
       "    .dataframe tbody tr th:only-of-type {\n",
       "        vertical-align: middle;\n",
       "    }\n",
       "\n",
       "    .dataframe tbody tr th {\n",
       "        vertical-align: top;\n",
       "    }\n",
       "\n",
       "    .dataframe thead th {\n",
       "        text-align: right;\n",
       "    }\n",
       "</style>\n",
       "<table border=\"1\" class=\"dataframe\">\n",
       "  <thead>\n",
       "    <tr style=\"text-align: right;\">\n",
       "      <th></th>\n",
       "      <th>movie_id</th>\n",
       "      <th>movie_name</th>\n",
       "      <th>certificate</th>\n",
       "      <th>genre</th>\n",
       "      <th>description</th>\n",
       "      <th>directors</th>\n",
       "      <th>stars</th>\n",
       "    </tr>\n",
       "  </thead>\n",
       "  <tbody>\n",
       "    <tr>\n",
       "      <th>0</th>\n",
       "      <td>tt0111161</td>\n",
       "      <td>The Shawshank Redemption</td>\n",
       "      <td>[A]</td>\n",
       "      <td>[Drama]</td>\n",
       "      <td>[Over, the, course, of, several, years,, two, ...</td>\n",
       "      <td>[FrankDarabont]</td>\n",
       "      <td>[TimRobbins, MorganFreeman, BobGunton, William...</td>\n",
       "    </tr>\n",
       "    <tr>\n",
       "      <th>1</th>\n",
       "      <td>tt0468569</td>\n",
       "      <td>The Dark Knight</td>\n",
       "      <td>[UA]</td>\n",
       "      <td>[Action, Crime, Drama]</td>\n",
       "      <td>[When, the, menace, known, as, the, Joker, wre...</td>\n",
       "      <td>[ChristopherNolan]</td>\n",
       "      <td>[ChristianBale, HeathLedger, AaronEckhart, Mic...</td>\n",
       "    </tr>\n",
       "    <tr>\n",
       "      <th>2</th>\n",
       "      <td>tt1375666</td>\n",
       "      <td>Inception</td>\n",
       "      <td>[UA]</td>\n",
       "      <td>[Action, Adventure, Sci-Fi]</td>\n",
       "      <td>[A, thief, who, steals, corporate, secrets, th...</td>\n",
       "      <td>[ChristopherNolan]</td>\n",
       "      <td>[LeonardoDiCaprio, JosephGordon-Levitt, Elliot...</td>\n",
       "    </tr>\n",
       "    <tr>\n",
       "      <th>3</th>\n",
       "      <td>tt0137523</td>\n",
       "      <td>Fight Club</td>\n",
       "      <td>[A]</td>\n",
       "      <td>[Drama]</td>\n",
       "      <td>[An, insomniac, office, worker, and, a, devil-...</td>\n",
       "      <td>[DavidFincher]</td>\n",
       "      <td>[BradPitt, EdwardNorton, MeatLoaf, ZachGrenier]</td>\n",
       "    </tr>\n",
       "    <tr>\n",
       "      <th>4</th>\n",
       "      <td>tt0110912</td>\n",
       "      <td>Pulp Fiction</td>\n",
       "      <td>[A]</td>\n",
       "      <td>[Crime, Drama]</td>\n",
       "      <td>[The, lives, of, two, mob, hitmen,, a, boxer,,...</td>\n",
       "      <td>[QuentinTarantino]</td>\n",
       "      <td>[JohnTravolta, UmaThurman, SamuelL.Jackson, Br...</td>\n",
       "    </tr>\n",
       "  </tbody>\n",
       "</table>\n",
       "</div>"
      ],
      "text/plain": [
       "    movie_id                movie_name certificate  \\\n",
       "0  tt0111161  The Shawshank Redemption         [A]   \n",
       "1  tt0468569           The Dark Knight        [UA]   \n",
       "2  tt1375666                 Inception        [UA]   \n",
       "3  tt0137523                Fight Club         [A]   \n",
       "4  tt0110912              Pulp Fiction         [A]   \n",
       "\n",
       "                         genre  \\\n",
       "0                      [Drama]   \n",
       "1       [Action, Crime, Drama]   \n",
       "2  [Action, Adventure, Sci-Fi]   \n",
       "3                      [Drama]   \n",
       "4               [Crime, Drama]   \n",
       "\n",
       "                                         description           directors  \\\n",
       "0  [Over, the, course, of, several, years,, two, ...     [FrankDarabont]   \n",
       "1  [When, the, menace, known, as, the, Joker, wre...  [ChristopherNolan]   \n",
       "2  [A, thief, who, steals, corporate, secrets, th...  [ChristopherNolan]   \n",
       "3  [An, insomniac, office, worker, and, a, devil-...      [DavidFincher]   \n",
       "4  [The, lives, of, two, mob, hitmen,, a, boxer,,...  [QuentinTarantino]   \n",
       "\n",
       "                                               stars  \n",
       "0  [TimRobbins, MorganFreeman, BobGunton, William...  \n",
       "1  [ChristianBale, HeathLedger, AaronEckhart, Mic...  \n",
       "2  [LeonardoDiCaprio, JosephGordon-Levitt, Elliot...  \n",
       "3    [BradPitt, EdwardNorton, MeatLoaf, ZachGrenier]  \n",
       "4  [JohnTravolta, UmaThurman, SamuelL.Jackson, Br...  "
      ]
     },
     "execution_count": 59,
     "metadata": {},
     "output_type": "execute_result"
    }
   ],
   "source": [
    "#Converting all column into list\n",
    "df2['directors'] = df2['directors'].apply(lambda x: x.replace(\" \", \"\").split(','))\n",
    "df2['stars'] = df2['stars'].apply(lambda x: x.replace(\" \", \"\").split(','))\n",
    "df2['genre'] = df2['genre'].apply(lambda x: x.replace(\" \", \"\").split(','))\n",
    "df2['certificate'] = df2['certificate'].apply(lambda x: x.replace(\" \", \"\").split(','))\n",
    "df2.head()\n"
   ]
  },
  {
   "cell_type": "markdown",
   "id": "0uRJbz2-_q1I",
   "metadata": {
    "id": "0uRJbz2-_q1I"
   },
   "source": [
    "# creating a  new columns df2[''overall]. which combines the values from the certificate,genre,description,directors,stars"
   ]
  },
  {
   "cell_type": "code",
   "execution_count": 60,
   "id": "Wm6CYYh41s9h",
   "metadata": {
    "colab": {
     "base_uri": "https://localhost:8080/",
     "height": 345
    },
    "id": "Wm6CYYh41s9h",
    "outputId": "b7a97a06-eebd-4161-8003-647c60341598"
   },
   "outputs": [
    {
     "data": {
      "text/html": [
       "<div>\n",
       "<style scoped>\n",
       "    .dataframe tbody tr th:only-of-type {\n",
       "        vertical-align: middle;\n",
       "    }\n",
       "\n",
       "    .dataframe tbody tr th {\n",
       "        vertical-align: top;\n",
       "    }\n",
       "\n",
       "    .dataframe thead th {\n",
       "        text-align: right;\n",
       "    }\n",
       "</style>\n",
       "<table border=\"1\" class=\"dataframe\">\n",
       "  <thead>\n",
       "    <tr style=\"text-align: right;\">\n",
       "      <th></th>\n",
       "      <th>movie_id</th>\n",
       "      <th>movie_name</th>\n",
       "      <th>certificate</th>\n",
       "      <th>genre</th>\n",
       "      <th>description</th>\n",
       "      <th>directors</th>\n",
       "      <th>stars</th>\n",
       "      <th>overall</th>\n",
       "    </tr>\n",
       "  </thead>\n",
       "  <tbody>\n",
       "    <tr>\n",
       "      <th>0</th>\n",
       "      <td>tt0111161</td>\n",
       "      <td>The Shawshank Redemption</td>\n",
       "      <td>[A]</td>\n",
       "      <td>[Drama]</td>\n",
       "      <td>[Over, the, course, of, several, years,, two, ...</td>\n",
       "      <td>[FrankDarabont]</td>\n",
       "      <td>[TimRobbins, MorganFreeman, BobGunton, William...</td>\n",
       "      <td>[Over, the, course, of, several, years,, two, ...</td>\n",
       "    </tr>\n",
       "    <tr>\n",
       "      <th>1</th>\n",
       "      <td>tt0468569</td>\n",
       "      <td>The Dark Knight</td>\n",
       "      <td>[UA]</td>\n",
       "      <td>[Action, Crime, Drama]</td>\n",
       "      <td>[When, the, menace, known, as, the, Joker, wre...</td>\n",
       "      <td>[ChristopherNolan]</td>\n",
       "      <td>[ChristianBale, HeathLedger, AaronEckhart, Mic...</td>\n",
       "      <td>[When, the, menace, known, as, the, Joker, wre...</td>\n",
       "    </tr>\n",
       "    <tr>\n",
       "      <th>2</th>\n",
       "      <td>tt1375666</td>\n",
       "      <td>Inception</td>\n",
       "      <td>[UA]</td>\n",
       "      <td>[Action, Adventure, Sci-Fi]</td>\n",
       "      <td>[A, thief, who, steals, corporate, secrets, th...</td>\n",
       "      <td>[ChristopherNolan]</td>\n",
       "      <td>[LeonardoDiCaprio, JosephGordon-Levitt, Elliot...</td>\n",
       "      <td>[A, thief, who, steals, corporate, secrets, th...</td>\n",
       "    </tr>\n",
       "    <tr>\n",
       "      <th>3</th>\n",
       "      <td>tt0137523</td>\n",
       "      <td>Fight Club</td>\n",
       "      <td>[A]</td>\n",
       "      <td>[Drama]</td>\n",
       "      <td>[An, insomniac, office, worker, and, a, devil-...</td>\n",
       "      <td>[DavidFincher]</td>\n",
       "      <td>[BradPitt, EdwardNorton, MeatLoaf, ZachGrenier]</td>\n",
       "      <td>[An, insomniac, office, worker, and, a, devil-...</td>\n",
       "    </tr>\n",
       "    <tr>\n",
       "      <th>4</th>\n",
       "      <td>tt0110912</td>\n",
       "      <td>Pulp Fiction</td>\n",
       "      <td>[A]</td>\n",
       "      <td>[Crime, Drama]</td>\n",
       "      <td>[The, lives, of, two, mob, hitmen,, a, boxer,,...</td>\n",
       "      <td>[QuentinTarantino]</td>\n",
       "      <td>[JohnTravolta, UmaThurman, SamuelL.Jackson, Br...</td>\n",
       "      <td>[The, lives, of, two, mob, hitmen,, a, boxer,,...</td>\n",
       "    </tr>\n",
       "  </tbody>\n",
       "</table>\n",
       "</div>"
      ],
      "text/plain": [
       "    movie_id                movie_name certificate  \\\n",
       "0  tt0111161  The Shawshank Redemption         [A]   \n",
       "1  tt0468569           The Dark Knight        [UA]   \n",
       "2  tt1375666                 Inception        [UA]   \n",
       "3  tt0137523                Fight Club         [A]   \n",
       "4  tt0110912              Pulp Fiction         [A]   \n",
       "\n",
       "                         genre  \\\n",
       "0                      [Drama]   \n",
       "1       [Action, Crime, Drama]   \n",
       "2  [Action, Adventure, Sci-Fi]   \n",
       "3                      [Drama]   \n",
       "4               [Crime, Drama]   \n",
       "\n",
       "                                         description           directors  \\\n",
       "0  [Over, the, course, of, several, years,, two, ...     [FrankDarabont]   \n",
       "1  [When, the, menace, known, as, the, Joker, wre...  [ChristopherNolan]   \n",
       "2  [A, thief, who, steals, corporate, secrets, th...  [ChristopherNolan]   \n",
       "3  [An, insomniac, office, worker, and, a, devil-...      [DavidFincher]   \n",
       "4  [The, lives, of, two, mob, hitmen,, a, boxer,,...  [QuentinTarantino]   \n",
       "\n",
       "                                               stars  \\\n",
       "0  [TimRobbins, MorganFreeman, BobGunton, William...   \n",
       "1  [ChristianBale, HeathLedger, AaronEckhart, Mic...   \n",
       "2  [LeonardoDiCaprio, JosephGordon-Levitt, Elliot...   \n",
       "3    [BradPitt, EdwardNorton, MeatLoaf, ZachGrenier]   \n",
       "4  [JohnTravolta, UmaThurman, SamuelL.Jackson, Br...   \n",
       "\n",
       "                                             overall  \n",
       "0  [Over, the, course, of, several, years,, two, ...  \n",
       "1  [When, the, menace, known, as, the, Joker, wre...  \n",
       "2  [A, thief, who, steals, corporate, secrets, th...  \n",
       "3  [An, insomniac, office, worker, and, a, devil-...  \n",
       "4  [The, lives, of, two, mob, hitmen,, a, boxer,,...  "
      ]
     },
     "execution_count": 60,
     "metadata": {},
     "output_type": "execute_result"
    }
   ],
   "source": [
    "df2['overall']=df2['description'] + df2['genre'] + df2['certificate'] + df2['stars'] + df2['directors']\n",
    "df2.head()"
   ]
  },
  {
   "cell_type": "code",
   "execution_count": null,
   "id": "Wi4m6B4N1tAY",
   "metadata": {
    "id": "Wi4m6B4N1tAY"
   },
   "outputs": [],
   "source": []
  },
  {
   "cell_type": "markdown",
   "id": "F4hXUxb_KBLS",
   "metadata": {
    "id": "F4hXUxb_KBLS"
   },
   "source": [
    "create a new data frame which contain only the movie_name and the new column 'overall'\n"
   ]
  },
  {
   "cell_type": "code",
   "execution_count": 61,
   "id": "cNZlxCa11tDM",
   "metadata": {
    "colab": {
     "base_uri": "https://localhost:8080/",
     "height": 423
    },
    "id": "cNZlxCa11tDM",
    "outputId": "32260a93-d903-464b-8fa8-13d31528d35e"
   },
   "outputs": [
    {
     "data": {
      "text/html": [
       "<div>\n",
       "<style scoped>\n",
       "    .dataframe tbody tr th:only-of-type {\n",
       "        vertical-align: middle;\n",
       "    }\n",
       "\n",
       "    .dataframe tbody tr th {\n",
       "        vertical-align: top;\n",
       "    }\n",
       "\n",
       "    .dataframe thead th {\n",
       "        text-align: right;\n",
       "    }\n",
       "</style>\n",
       "<table border=\"1\" class=\"dataframe\">\n",
       "  <thead>\n",
       "    <tr style=\"text-align: right;\">\n",
       "      <th></th>\n",
       "      <th>movie_id</th>\n",
       "      <th>movie_name</th>\n",
       "      <th>overall</th>\n",
       "    </tr>\n",
       "  </thead>\n",
       "  <tbody>\n",
       "    <tr>\n",
       "      <th>0</th>\n",
       "      <td>tt0111161</td>\n",
       "      <td>The Shawshank Redemption</td>\n",
       "      <td>[Over, the, course, of, several, years,, two, ...</td>\n",
       "    </tr>\n",
       "    <tr>\n",
       "      <th>1</th>\n",
       "      <td>tt0468569</td>\n",
       "      <td>The Dark Knight</td>\n",
       "      <td>[When, the, menace, known, as, the, Joker, wre...</td>\n",
       "    </tr>\n",
       "    <tr>\n",
       "      <th>2</th>\n",
       "      <td>tt1375666</td>\n",
       "      <td>Inception</td>\n",
       "      <td>[A, thief, who, steals, corporate, secrets, th...</td>\n",
       "    </tr>\n",
       "    <tr>\n",
       "      <th>3</th>\n",
       "      <td>tt0137523</td>\n",
       "      <td>Fight Club</td>\n",
       "      <td>[An, insomniac, office, worker, and, a, devil-...</td>\n",
       "    </tr>\n",
       "    <tr>\n",
       "      <th>4</th>\n",
       "      <td>tt0110912</td>\n",
       "      <td>Pulp Fiction</td>\n",
       "      <td>[The, lives, of, two, mob, hitmen,, a, boxer,,...</td>\n",
       "    </tr>\n",
       "    <tr>\n",
       "      <th>...</th>\n",
       "      <td>...</td>\n",
       "      <td>...</td>\n",
       "      <td>...</td>\n",
       "    </tr>\n",
       "    <tr>\n",
       "      <th>6423</th>\n",
       "      <td>tt0115738</td>\n",
       "      <td>Box of Moonlight</td>\n",
       "      <td>[An, engineer, finds, his, first, gray, hair,,...</td>\n",
       "    </tr>\n",
       "    <tr>\n",
       "      <th>6424</th>\n",
       "      <td>tt0086998</td>\n",
       "      <td>Breakin'</td>\n",
       "      <td>[A, struggling, young, jazz, dancer, meets, up...</td>\n",
       "    </tr>\n",
       "    <tr>\n",
       "      <th>6425</th>\n",
       "      <td>tt0092997</td>\n",
       "      <td>Extreme Prejudice</td>\n",
       "      <td>[A, Texas, Ranger, and, a, ruthless, narcotics...</td>\n",
       "    </tr>\n",
       "    <tr>\n",
       "      <th>6426</th>\n",
       "      <td>tt0120142</td>\n",
       "      <td>The Sixth Man</td>\n",
       "      <td>[A, college, athlete, returns, from, the, dead...</td>\n",
       "    </tr>\n",
       "    <tr>\n",
       "      <th>6427</th>\n",
       "      <td>tt0120683</td>\n",
       "      <td>Gloria</td>\n",
       "      <td>[After, serving, three, years, in, prison, cov...</td>\n",
       "    </tr>\n",
       "  </tbody>\n",
       "</table>\n",
       "<p>6154 rows × 3 columns</p>\n",
       "</div>"
      ],
      "text/plain": [
       "       movie_id                movie_name  \\\n",
       "0     tt0111161  The Shawshank Redemption   \n",
       "1     tt0468569           The Dark Knight   \n",
       "2     tt1375666                 Inception   \n",
       "3     tt0137523                Fight Club   \n",
       "4     tt0110912              Pulp Fiction   \n",
       "...         ...                       ...   \n",
       "6423  tt0115738          Box of Moonlight   \n",
       "6424  tt0086998                  Breakin'   \n",
       "6425  tt0092997         Extreme Prejudice   \n",
       "6426  tt0120142             The Sixth Man   \n",
       "6427  tt0120683                    Gloria   \n",
       "\n",
       "                                                overall  \n",
       "0     [Over, the, course, of, several, years,, two, ...  \n",
       "1     [When, the, menace, known, as, the, Joker, wre...  \n",
       "2     [A, thief, who, steals, corporate, secrets, th...  \n",
       "3     [An, insomniac, office, worker, and, a, devil-...  \n",
       "4     [The, lives, of, two, mob, hitmen,, a, boxer,,...  \n",
       "...                                                 ...  \n",
       "6423  [An, engineer, finds, his, first, gray, hair,,...  \n",
       "6424  [A, struggling, young, jazz, dancer, meets, up...  \n",
       "6425  [A, Texas, Ranger, and, a, ruthless, narcotics...  \n",
       "6426  [A, college, athlete, returns, from, the, dead...  \n",
       "6427  [After, serving, three, years, in, prison, cov...  \n",
       "\n",
       "[6154 rows x 3 columns]"
      ]
     },
     "execution_count": 61,
     "metadata": {},
     "output_type": "execute_result"
    }
   ],
   "source": [
    "df3=df2[['movie_id','movie_name','overall']]\n",
    "df3"
   ]
  },
  {
   "cell_type": "code",
   "execution_count": 62,
   "id": "pcUHAGgq1tGE",
   "metadata": {
    "id": "pcUHAGgq1tGE"
   },
   "outputs": [],
   "source": [
    "#convert the 'overall' list into string\n",
    "df3[\"overall\"] = df3[\"overall\"].apply(lambda x: ' '.join(x))"
   ]
  },
  {
   "cell_type": "code",
   "execution_count": 63,
   "id": "a2uIUqOa1tIn",
   "metadata": {
    "colab": {
     "base_uri": "https://localhost:8080/",
     "height": 206
    },
    "id": "a2uIUqOa1tIn",
    "outputId": "92927bc7-64ac-44bf-f6c8-1a88b07f27aa"
   },
   "outputs": [
    {
     "data": {
      "text/html": [
       "<div>\n",
       "<style scoped>\n",
       "    .dataframe tbody tr th:only-of-type {\n",
       "        vertical-align: middle;\n",
       "    }\n",
       "\n",
       "    .dataframe tbody tr th {\n",
       "        vertical-align: top;\n",
       "    }\n",
       "\n",
       "    .dataframe thead th {\n",
       "        text-align: right;\n",
       "    }\n",
       "</style>\n",
       "<table border=\"1\" class=\"dataframe\">\n",
       "  <thead>\n",
       "    <tr style=\"text-align: right;\">\n",
       "      <th></th>\n",
       "      <th>movie_id</th>\n",
       "      <th>movie_name</th>\n",
       "      <th>overall</th>\n",
       "    </tr>\n",
       "  </thead>\n",
       "  <tbody>\n",
       "    <tr>\n",
       "      <th>0</th>\n",
       "      <td>tt0111161</td>\n",
       "      <td>The Shawshank Redemption</td>\n",
       "      <td>Over the course of several years, two convicts...</td>\n",
       "    </tr>\n",
       "    <tr>\n",
       "      <th>1</th>\n",
       "      <td>tt0468569</td>\n",
       "      <td>The Dark Knight</td>\n",
       "      <td>When the menace known as the Joker wreaks havo...</td>\n",
       "    </tr>\n",
       "    <tr>\n",
       "      <th>2</th>\n",
       "      <td>tt1375666</td>\n",
       "      <td>Inception</td>\n",
       "      <td>A thief who steals corporate secrets through t...</td>\n",
       "    </tr>\n",
       "    <tr>\n",
       "      <th>3</th>\n",
       "      <td>tt0137523</td>\n",
       "      <td>Fight Club</td>\n",
       "      <td>An insomniac office worker and a devil-may-car...</td>\n",
       "    </tr>\n",
       "    <tr>\n",
       "      <th>4</th>\n",
       "      <td>tt0110912</td>\n",
       "      <td>Pulp Fiction</td>\n",
       "      <td>The lives of two mob hitmen, a boxer, a gangst...</td>\n",
       "    </tr>\n",
       "  </tbody>\n",
       "</table>\n",
       "</div>"
      ],
      "text/plain": [
       "    movie_id                movie_name  \\\n",
       "0  tt0111161  The Shawshank Redemption   \n",
       "1  tt0468569           The Dark Knight   \n",
       "2  tt1375666                 Inception   \n",
       "3  tt0137523                Fight Club   \n",
       "4  tt0110912              Pulp Fiction   \n",
       "\n",
       "                                             overall  \n",
       "0  Over the course of several years, two convicts...  \n",
       "1  When the menace known as the Joker wreaks havo...  \n",
       "2  A thief who steals corporate secrets through t...  \n",
       "3  An insomniac office worker and a devil-may-car...  \n",
       "4  The lives of two mob hitmen, a boxer, a gangst...  "
      ]
     },
     "execution_count": 63,
     "metadata": {},
     "output_type": "execute_result"
    }
   ],
   "source": [
    "df3.head()"
   ]
  },
  {
   "cell_type": "code",
   "execution_count": 64,
   "id": "hjXV0KlY1tLY",
   "metadata": {
    "id": "hjXV0KlY1tLY"
   },
   "outputs": [],
   "source": [
    "#convert 'overall' into lower case\n",
    "df3[\"overalls\"] = df3[\"overall\"].apply(lambda x: x.lower())"
   ]
  },
  {
   "cell_type": "code",
   "execution_count": 65,
   "id": "Swo1cTq01tN-",
   "metadata": {
    "colab": {
     "base_uri": "https://localhost:8080/",
     "height": 206
    },
    "id": "Swo1cTq01tN-",
    "outputId": "8d9d278b-1829-4cc0-dc1c-0262048c864c"
   },
   "outputs": [
    {
     "data": {
      "text/html": [
       "<div>\n",
       "<style scoped>\n",
       "    .dataframe tbody tr th:only-of-type {\n",
       "        vertical-align: middle;\n",
       "    }\n",
       "\n",
       "    .dataframe tbody tr th {\n",
       "        vertical-align: top;\n",
       "    }\n",
       "\n",
       "    .dataframe thead th {\n",
       "        text-align: right;\n",
       "    }\n",
       "</style>\n",
       "<table border=\"1\" class=\"dataframe\">\n",
       "  <thead>\n",
       "    <tr style=\"text-align: right;\">\n",
       "      <th></th>\n",
       "      <th>movie_id</th>\n",
       "      <th>movie_name</th>\n",
       "      <th>overall</th>\n",
       "      <th>overalls</th>\n",
       "    </tr>\n",
       "  </thead>\n",
       "  <tbody>\n",
       "    <tr>\n",
       "      <th>0</th>\n",
       "      <td>tt0111161</td>\n",
       "      <td>The Shawshank Redemption</td>\n",
       "      <td>Over the course of several years, two convicts...</td>\n",
       "      <td>over the course of several years, two convicts...</td>\n",
       "    </tr>\n",
       "    <tr>\n",
       "      <th>1</th>\n",
       "      <td>tt0468569</td>\n",
       "      <td>The Dark Knight</td>\n",
       "      <td>When the menace known as the Joker wreaks havo...</td>\n",
       "      <td>when the menace known as the joker wreaks havo...</td>\n",
       "    </tr>\n",
       "    <tr>\n",
       "      <th>2</th>\n",
       "      <td>tt1375666</td>\n",
       "      <td>Inception</td>\n",
       "      <td>A thief who steals corporate secrets through t...</td>\n",
       "      <td>a thief who steals corporate secrets through t...</td>\n",
       "    </tr>\n",
       "    <tr>\n",
       "      <th>3</th>\n",
       "      <td>tt0137523</td>\n",
       "      <td>Fight Club</td>\n",
       "      <td>An insomniac office worker and a devil-may-car...</td>\n",
       "      <td>an insomniac office worker and a devil-may-car...</td>\n",
       "    </tr>\n",
       "    <tr>\n",
       "      <th>4</th>\n",
       "      <td>tt0110912</td>\n",
       "      <td>Pulp Fiction</td>\n",
       "      <td>The lives of two mob hitmen, a boxer, a gangst...</td>\n",
       "      <td>the lives of two mob hitmen, a boxer, a gangst...</td>\n",
       "    </tr>\n",
       "  </tbody>\n",
       "</table>\n",
       "</div>"
      ],
      "text/plain": [
       "    movie_id                movie_name  \\\n",
       "0  tt0111161  The Shawshank Redemption   \n",
       "1  tt0468569           The Dark Knight   \n",
       "2  tt1375666                 Inception   \n",
       "3  tt0137523                Fight Club   \n",
       "4  tt0110912              Pulp Fiction   \n",
       "\n",
       "                                             overall  \\\n",
       "0  Over the course of several years, two convicts...   \n",
       "1  When the menace known as the Joker wreaks havo...   \n",
       "2  A thief who steals corporate secrets through t...   \n",
       "3  An insomniac office worker and a devil-may-car...   \n",
       "4  The lives of two mob hitmen, a boxer, a gangst...   \n",
       "\n",
       "                                            overalls  \n",
       "0  over the course of several years, two convicts...  \n",
       "1  when the menace known as the joker wreaks havo...  \n",
       "2  a thief who steals corporate secrets through t...  \n",
       "3  an insomniac office worker and a devil-may-car...  \n",
       "4  the lives of two mob hitmen, a boxer, a gangst...  "
      ]
     },
     "execution_count": 65,
     "metadata": {},
     "output_type": "execute_result"
    }
   ],
   "source": [
    "df3.head()"
   ]
  },
  {
   "cell_type": "code",
   "execution_count": 66,
   "id": "IdadBSp61tQ5",
   "metadata": {
    "id": "IdadBSp61tQ5"
   },
   "outputs": [],
   "source": [
    "df3 = df3.drop('overall', axis=1)"
   ]
  },
  {
   "cell_type": "code",
   "execution_count": 67,
   "id": "S2Td24Y41tT1",
   "metadata": {
    "colab": {
     "base_uri": "https://localhost:8080/",
     "height": 206
    },
    "id": "S2Td24Y41tT1",
    "outputId": "62fe0e3d-e393-4f45-f1d1-944b3fbeb1d6"
   },
   "outputs": [
    {
     "data": {
      "text/html": [
       "<div>\n",
       "<style scoped>\n",
       "    .dataframe tbody tr th:only-of-type {\n",
       "        vertical-align: middle;\n",
       "    }\n",
       "\n",
       "    .dataframe tbody tr th {\n",
       "        vertical-align: top;\n",
       "    }\n",
       "\n",
       "    .dataframe thead th {\n",
       "        text-align: right;\n",
       "    }\n",
       "</style>\n",
       "<table border=\"1\" class=\"dataframe\">\n",
       "  <thead>\n",
       "    <tr style=\"text-align: right;\">\n",
       "      <th></th>\n",
       "      <th>movie_id</th>\n",
       "      <th>movie_name</th>\n",
       "      <th>overalls</th>\n",
       "    </tr>\n",
       "  </thead>\n",
       "  <tbody>\n",
       "    <tr>\n",
       "      <th>0</th>\n",
       "      <td>tt0111161</td>\n",
       "      <td>The Shawshank Redemption</td>\n",
       "      <td>over the course of several years, two convicts...</td>\n",
       "    </tr>\n",
       "    <tr>\n",
       "      <th>1</th>\n",
       "      <td>tt0468569</td>\n",
       "      <td>The Dark Knight</td>\n",
       "      <td>when the menace known as the joker wreaks havo...</td>\n",
       "    </tr>\n",
       "    <tr>\n",
       "      <th>2</th>\n",
       "      <td>tt1375666</td>\n",
       "      <td>Inception</td>\n",
       "      <td>a thief who steals corporate secrets through t...</td>\n",
       "    </tr>\n",
       "    <tr>\n",
       "      <th>3</th>\n",
       "      <td>tt0137523</td>\n",
       "      <td>Fight Club</td>\n",
       "      <td>an insomniac office worker and a devil-may-car...</td>\n",
       "    </tr>\n",
       "    <tr>\n",
       "      <th>4</th>\n",
       "      <td>tt0110912</td>\n",
       "      <td>Pulp Fiction</td>\n",
       "      <td>the lives of two mob hitmen, a boxer, a gangst...</td>\n",
       "    </tr>\n",
       "  </tbody>\n",
       "</table>\n",
       "</div>"
      ],
      "text/plain": [
       "    movie_id                movie_name  \\\n",
       "0  tt0111161  The Shawshank Redemption   \n",
       "1  tt0468569           The Dark Knight   \n",
       "2  tt1375666                 Inception   \n",
       "3  tt0137523                Fight Club   \n",
       "4  tt0110912              Pulp Fiction   \n",
       "\n",
       "                                            overalls  \n",
       "0  over the course of several years, two convicts...  \n",
       "1  when the menace known as the joker wreaks havo...  \n",
       "2  a thief who steals corporate secrets through t...  \n",
       "3  an insomniac office worker and a devil-may-car...  \n",
       "4  the lives of two mob hitmen, a boxer, a gangst...  "
      ]
     },
     "execution_count": 67,
     "metadata": {},
     "output_type": "execute_result"
    }
   ],
   "source": [
    "df3.head()"
   ]
  },
  {
   "cell_type": "code",
   "execution_count": null,
   "id": "pzmN69kr1tW_",
   "metadata": {
    "id": "pzmN69kr1tW_"
   },
   "outputs": [],
   "source": []
  },
  {
   "cell_type": "markdown",
   "id": "EpyVSqntNMqE",
   "metadata": {
    "id": "EpyVSqntNMqE"
   },
   "source": [
    "converting the repeated words into a specific name if loved and loving and lover etc they consider as love"
   ]
  },
  {
   "cell_type": "code",
   "execution_count": 68,
   "id": "A9eTcvL71tey",
   "metadata": {
    "colab": {
     "base_uri": "https://localhost:8080/"
    },
    "id": "A9eTcvL71tey",
    "outputId": "0f490e80-b413-4f86-eb32-847afdf2988e"
   },
   "outputs": [
    {
     "name": "stderr",
     "output_type": "stream",
     "text": [
      "[nltk_data] Downloading package punkt to\n",
      "[nltk_data]     C:\\Users\\HP\\AppData\\Roaming\\nltk_data...\n",
      "[nltk_data]   Package punkt is already up-to-date!\n"
     ]
    },
    {
     "data": {
      "text/plain": [
       "True"
      ]
     },
     "execution_count": 68,
     "metadata": {},
     "output_type": "execute_result"
    }
   ],
   "source": [
    "import nltk\n",
    "from nltk.stem import PorterStemmer\n",
    "nltk.download('punkt')\n",
    "\n"
   ]
  },
  {
   "cell_type": "code",
   "execution_count": 69,
   "id": "M6xZ6Uy31tig",
   "metadata": {
    "id": "M6xZ6Uy31tig"
   },
   "outputs": [],
   "source": [
    "#creating instance of porterstemmer\n",
    "ps = PorterStemmer()"
   ]
  },
  {
   "cell_type": "code",
   "execution_count": 70,
   "id": "ReCdjnzu1tkm",
   "metadata": {
    "id": "ReCdjnzu1tkm"
   },
   "outputs": [],
   "source": [
    "df3[\"overalls\"] = df3[\"overalls\"].apply(lambda text: \" \".join([ps.stem(word) for word in nltk.word_tokenize(text)]))\n"
   ]
  },
  {
   "cell_type": "code",
   "execution_count": 71,
   "id": "oIemkl6T1tnL",
   "metadata": {
    "colab": {
     "base_uri": "https://localhost:8080/",
     "height": 52
    },
    "id": "oIemkl6T1tnL",
    "outputId": "a50192fd-ee40-46be-97e3-f7b778316b94"
   },
   "outputs": [
    {
     "data": {
      "text/plain": [
       "'over the cours of sever year , two convict form a friendship , seek consol and , eventu , redempt through basic compass . drama a timrobbin morganfreeman bobgunton williamsadl frankdarabont'"
      ]
     },
     "execution_count": 71,
     "metadata": {},
     "output_type": "execute_result"
    }
   ],
   "source": [
    "df3['overalls'][0]"
   ]
  },
  {
   "cell_type": "code",
   "execution_count": 109,
   "id": "40V_u_kN1tq4",
   "metadata": {
    "id": "40V_u_kN1tq4"
   },
   "outputs": [],
   "source": [
    "from sklearn.feature_extraction.text import CountVectorizer"
   ]
  },
  {
   "cell_type": "code",
   "execution_count": 110,
   "id": "nQU8a2EJ1u0r",
   "metadata": {
    "id": "nQU8a2EJ1u0r"
   },
   "outputs": [],
   "source": [
    "cv= CountVectorizer(stop_words='english', max_features=5000)"
   ]
  },
  {
   "cell_type": "code",
   "execution_count": 111,
   "id": "eQQIbjT-1u3f",
   "metadata": {
    "colab": {
     "base_uri": "https://localhost:8080/"
    },
    "id": "eQQIbjT-1u3f",
    "outputId": "1c4c48e4-5297-40b8-85c3-115b938b381b"
   },
   "outputs": [
    {
     "data": {
      "text/plain": [
       "(6154, 5000)"
      ]
     },
     "execution_count": 111,
     "metadata": {},
     "output_type": "execute_result"
    }
   ],
   "source": [
    "cv.fit_transform(df3[\"overalls\"]).toarray().shape"
   ]
  },
  {
   "cell_type": "code",
   "execution_count": 112,
   "id": "ilHW7GTb1u6f",
   "metadata": {
    "colab": {
     "base_uri": "https://localhost:8080/"
    },
    "id": "ilHW7GTb1u6f",
    "outputId": "0435cc55-100a-48ac-bbcf-dda0ed22bac5"
   },
   "outputs": [
    {
     "data": {
      "text/plain": [
       "array([[0, 0, 0, ..., 0, 0, 0],\n",
       "       [0, 0, 0, ..., 0, 0, 0],\n",
       "       [0, 0, 0, ..., 0, 0, 0],\n",
       "       ...,\n",
       "       [0, 0, 0, ..., 0, 0, 0],\n",
       "       [0, 0, 0, ..., 0, 0, 0],\n",
       "       [0, 0, 0, ..., 0, 0, 0]], dtype=int64)"
      ]
     },
     "execution_count": 112,
     "metadata": {},
     "output_type": "execute_result"
    }
   ],
   "source": [
    "vectors=cv.fit_transform(df3['overalls']).toarray() #converting into numpy array\n",
    "vectors"
   ]
  },
  {
   "cell_type": "code",
   "execution_count": 113,
   "id": "J4IrnWZR1u9G",
   "metadata": {
    "colab": {
     "base_uri": "https://localhost:8080/"
    },
    "id": "J4IrnWZR1u9G",
    "outputId": "a868060e-ff7c-484f-a768-79cffe5e3a3d"
   },
   "outputs": [
    {
     "data": {
      "text/plain": [
       "array([0, 0, 0, ..., 0, 0, 0], dtype=int64)"
      ]
     },
     "execution_count": 113,
     "metadata": {},
     "output_type": "execute_result"
    }
   ],
   "source": [
    "vectors[0]"
   ]
  },
  {
   "cell_type": "code",
   "execution_count": 114,
   "id": "DQ6mtnuc1u_y",
   "metadata": {
    "id": "DQ6mtnuc1u_y"
   },
   "outputs": [],
   "source": [
    "#cosine similarity\n",
    "from sklearn.metrics.pairwise import cosine_similarity"
   ]
  },
  {
   "cell_type": "code",
   "execution_count": 115,
   "id": "vn7QbuAz1vC_",
   "metadata": {
    "colab": {
     "base_uri": "https://localhost:8080/"
    },
    "id": "vn7QbuAz1vC_",
    "outputId": "2cf07bc4-e099-48d1-ee17-e4729774e6b9"
   },
   "outputs": [
    {
     "data": {
      "text/plain": [
       "array([[1.        , 0.05439283, 0.        , ..., 0.07161149, 0.06537205,\n",
       "        0.14064217],\n",
       "       [0.05439283, 1.        , 0.17069719, ..., 0.15191091, 0.09245003,\n",
       "        0.06629935],\n",
       "       [0.        , 0.17069719, 1.        , ..., 0.04494666, 0.12309149,\n",
       "        0.        ],\n",
       "       ...,\n",
       "       [0.07161149, 0.15191091, 0.04494666, ..., 1.        , 0.06085806,\n",
       "        0.08728716],\n",
       "       [0.06537205, 0.09245003, 0.12309149, ..., 0.06085806, 1.        ,\n",
       "        0.07968191],\n",
       "       [0.14064217, 0.06629935, 0.        , ..., 0.08728716, 0.07968191,\n",
       "        1.        ]])"
      ]
     },
     "execution_count": 115,
     "metadata": {},
     "output_type": "execute_result"
    }
   ],
   "source": [
    "cosine_similarity(vectors) # it checks similarity between vectors"
   ]
  },
  {
   "cell_type": "code",
   "execution_count": 116,
   "id": "3thIfVq11vFZ",
   "metadata": {
    "colab": {
     "base_uri": "https://localhost:8080/"
    },
    "id": "3thIfVq11vFZ",
    "outputId": "320681c7-7220-46ad-e780-81ac45a9c0e8"
   },
   "outputs": [
    {
     "data": {
      "text/plain": [
       "(6154, 6154)"
      ]
     },
     "execution_count": 116,
     "metadata": {},
     "output_type": "execute_result"
    }
   ],
   "source": [
    "cosine_similarity(vectors).shape"
   ]
  },
  {
   "cell_type": "code",
   "execution_count": 117,
   "id": "nCL5iLNr1vHp",
   "metadata": {
    "id": "nCL5iLNr1vHp"
   },
   "outputs": [],
   "source": [
    "similarity = cosine_similarity(vectors)"
   ]
  },
  {
   "cell_type": "code",
   "execution_count": 118,
   "id": "APqwmTot1vKU",
   "metadata": {
    "colab": {
     "base_uri": "https://localhost:8080/"
    },
    "id": "APqwmTot1vKU",
    "outputId": "5121535d-54e2-4e74-f02b-5c4fe987c84a"
   },
   "outputs": [
    {
     "data": {
      "text/plain": [
       "[(5774, 0.269069117598525),\n",
       " (6028, 0.2631174057921088),\n",
       " (5481, 0.24019223070763074),\n",
       " (1931, 0.2313259727864961),\n",
       " (5600, 0.2313259727864961)]"
      ]
     },
     "execution_count": 118,
     "metadata": {},
     "output_type": "execute_result"
    }
   ],
   "source": [
    "sorted(list (enumerate(similarity[0])), reverse=True ,key=lambda x: x[1])[1:6] #it will display top 5 \n",
    "                                                                               #5 movie names"
   ]
  },
  {
   "cell_type": "code",
   "execution_count": 119,
   "id": "2hI414y11vNC",
   "metadata": {
    "id": "2hI414y11vNC"
   },
   "outputs": [],
   "source": [
    "def recommend(movie):\n",
    "\n",
    "  movie_index= df3[df3[\"movie_name\"]== movie].index[0] #index of movir_name\n",
    "  distances= similarity[movie_index]\n",
    "  movies_list = sorted(list (enumerate(distances)), reverse=True ,key=lambda x: x[1])[1:6]\n",
    "\n",
    "  for i in movies_list:\n",
    "    print(df3.iloc[i[0]].movie_name)\n"
   ]
  },
  {
   "cell_type": "code",
   "execution_count": 120,
   "id": "2bd4bef0",
   "metadata": {},
   "outputs": [
    {
     "data": {
      "text/html": [
       "<div>\n",
       "<style scoped>\n",
       "    .dataframe tbody tr th:only-of-type {\n",
       "        vertical-align: middle;\n",
       "    }\n",
       "\n",
       "    .dataframe tbody tr th {\n",
       "        vertical-align: top;\n",
       "    }\n",
       "\n",
       "    .dataframe thead th {\n",
       "        text-align: right;\n",
       "    }\n",
       "</style>\n",
       "<table border=\"1\" class=\"dataframe\">\n",
       "  <thead>\n",
       "    <tr style=\"text-align: right;\">\n",
       "      <th></th>\n",
       "      <th>movie_id</th>\n",
       "      <th>movie_name</th>\n",
       "      <th>overalls</th>\n",
       "    </tr>\n",
       "  </thead>\n",
       "  <tbody>\n",
       "    <tr>\n",
       "      <th>0</th>\n",
       "      <td>tt0111161</td>\n",
       "      <td>The Shawshank Redemption</td>\n",
       "      <td>over the cours of sever year , two convict for...</td>\n",
       "    </tr>\n",
       "    <tr>\n",
       "      <th>1</th>\n",
       "      <td>tt0468569</td>\n",
       "      <td>The Dark Knight</td>\n",
       "      <td>when the menac known as the joker wreak havoc ...</td>\n",
       "    </tr>\n",
       "    <tr>\n",
       "      <th>2</th>\n",
       "      <td>tt1375666</td>\n",
       "      <td>Inception</td>\n",
       "      <td>a thief who steal corpor secret through the us...</td>\n",
       "    </tr>\n",
       "    <tr>\n",
       "      <th>3</th>\n",
       "      <td>tt0137523</td>\n",
       "      <td>Fight Club</td>\n",
       "      <td>an insomniac offic worker and a devil-may-car ...</td>\n",
       "    </tr>\n",
       "    <tr>\n",
       "      <th>4</th>\n",
       "      <td>tt0110912</td>\n",
       "      <td>Pulp Fiction</td>\n",
       "      <td>the live of two mob hitmen , a boxer , a gangs...</td>\n",
       "    </tr>\n",
       "  </tbody>\n",
       "</table>\n",
       "</div>"
      ],
      "text/plain": [
       "    movie_id                movie_name  \\\n",
       "0  tt0111161  The Shawshank Redemption   \n",
       "1  tt0468569           The Dark Knight   \n",
       "2  tt1375666                 Inception   \n",
       "3  tt0137523                Fight Club   \n",
       "4  tt0110912              Pulp Fiction   \n",
       "\n",
       "                                            overalls  \n",
       "0  over the cours of sever year , two convict for...  \n",
       "1  when the menac known as the joker wreak havoc ...  \n",
       "2  a thief who steal corpor secret through the us...  \n",
       "3  an insomniac offic worker and a devil-may-car ...  \n",
       "4  the live of two mob hitmen , a boxer , a gangs...  "
      ]
     },
     "execution_count": 120,
     "metadata": {},
     "output_type": "execute_result"
    }
   ],
   "source": [
    "df3.head()"
   ]
  },
  {
   "cell_type": "code",
   "execution_count": 121,
   "id": "Ts0GciY4ihyL",
   "metadata": {
    "id": "Ts0GciY4ihyL"
   },
   "outputs": [
    {
     "name": "stdout",
     "output_type": "stream",
     "text": [
      "Batman Begins\n",
      "The Dark Knight Rises\n",
      "Dabangg 2\n",
      "Harry Brown\n",
      "Bãhubali: The Beginning\n"
     ]
    }
   ],
   "source": [
    "#Checking Recommendation for movie\n",
    "recommend('The Dark Knight')"
   ]
  },
  {
   "cell_type": "code",
   "execution_count": 85,
   "id": "d526510a",
   "metadata": {},
   "outputs": [],
   "source": [
    "# the dark knight batman begins and the dark knight rises are directed by christoper nolan\n",
    "# the above movies belong to genre superhero,drama,action or crime"
   ]
  },
  {
   "cell_type": "code",
   "execution_count": null,
   "id": "800b9626",
   "metadata": {},
   "outputs": [],
   "source": []
  },
  {
   "cell_type": "code",
   "execution_count": null,
   "id": "0882e0ac",
   "metadata": {},
   "outputs": [],
   "source": []
  },
  {
   "cell_type": "code",
   "execution_count": null,
   "id": "955cefda",
   "metadata": {},
   "outputs": [],
   "source": []
  },
  {
   "cell_type": "code",
   "execution_count": null,
   "id": "cb7ecfa5",
   "metadata": {},
   "outputs": [],
   "source": []
  },
  {
   "cell_type": "code",
   "execution_count": 86,
   "id": "4438944d",
   "metadata": {},
   "outputs": [],
   "source": [
    "#data = df3.copy()"
   ]
  },
  {
   "cell_type": "code",
   "execution_count": 87,
   "id": "139c50b2",
   "metadata": {},
   "outputs": [],
   "source": [
    "#data"
   ]
  },
  {
   "cell_type": "code",
   "execution_count": 88,
   "id": "0916c59c",
   "metadata": {},
   "outputs": [],
   "source": [
    "#data.head(1)['overalls']"
   ]
  },
  {
   "cell_type": "code",
   "execution_count": 89,
   "id": "c62efd12",
   "metadata": {},
   "outputs": [],
   "source": [
    "#TF-IDF means term frequency -Inverse Document Frequency"
   ]
  },
  {
   "cell_type": "code",
   "execution_count": 90,
   "id": "ec22c1bb",
   "metadata": {},
   "outputs": [],
   "source": [
    "#from sklearn.feature_extraction.text import TfidfVectorizer"
   ]
  },
  {
   "cell_type": "code",
   "execution_count": 91,
   "id": "e200470d",
   "metadata": {},
   "outputs": [],
   "source": [
    "#tfv = TfidfVectorizer(min_df=3,max_features=None,\n",
    "                    #strip_accents='unicode',analyzer= 'word',token_pattern=r'\\w{1,}',\n",
    "                     #ngram_range=(1,3),\n",
    "                     #stop_words='english')"
   ]
  },
  {
   "cell_type": "code",
   "execution_count": 92,
   "id": "09dcfd7d",
   "metadata": {},
   "outputs": [],
   "source": [
    "#tfv_matrix = tfv.fit_transform(data['overalls'])"
   ]
  },
  {
   "cell_type": "code",
   "execution_count": 93,
   "id": "1fdec09e",
   "metadata": {},
   "outputs": [],
   "source": [
    "#tfv_matrix.shape"
   ]
  },
  {
   "cell_type": "code",
   "execution_count": 94,
   "id": "32594c2a",
   "metadata": {},
   "outputs": [],
   "source": [
    "#tfv_matrix"
   ]
  },
  {
   "cell_type": "code",
   "execution_count": 95,
   "id": "1e3bb5df",
   "metadata": {},
   "outputs": [],
   "source": [
    "#from sklearn.metrics.pairwise import sigmoid_kernel\n",
    "#sig = sigmoid_kernel(tfv_matrix,tfv_matrix)  # it computes text document similarity"
   ]
  },
  {
   "cell_type": "code",
   "execution_count": 96,
   "id": "c85988a9",
   "metadata": {},
   "outputs": [],
   "source": [
    "#sig.shape"
   ]
  },
  {
   "cell_type": "code",
   "execution_count": 97,
   "id": "7af41248",
   "metadata": {},
   "outputs": [],
   "source": [
    "#sig[0] # checking first document"
   ]
  },
  {
   "cell_type": "code",
   "execution_count": 98,
   "id": "7f2335f6",
   "metadata": {},
   "outputs": [],
   "source": [
    "# this creates mapping between movie name with there corrresponding index\n",
    "#indices = pd.Series(data.index,index = data['movie_name']).drop_duplicates()"
   ]
  },
  {
   "cell_type": "code",
   "execution_count": 99,
   "id": "73ef5582",
   "metadata": {},
   "outputs": [],
   "source": [
    "#indices"
   ]
  },
  {
   "cell_type": "code",
   "execution_count": 100,
   "id": "e2770e6f",
   "metadata": {},
   "outputs": [],
   "source": [
    "#def Giv_rec(title,sig = sig):\n",
    "    #idx = indices[title]  #gets index of movie name\n",
    "    \n",
    "    #sig_scores = list(enumerate(sig[idx]))  #it will enumerate sigmoid kernel score for movie \n",
    "    \n",
    "    #sig_scores = sorted(sig_scores,key = lambda x:x[1],reverse = True)\n",
    "    \n",
    "    #sig_scores = sig_scores[1:6]\n",
    "    \n",
    "    #movie_indices = [i[0] for i in sig_scores]\n",
    "    \n",
    "    #return data['movie_name'].iloc[movie_indices]\n",
    "    "
   ]
  },
  {
   "cell_type": "code",
   "execution_count": 101,
   "id": "593c471c",
   "metadata": {},
   "outputs": [],
   "source": [
    "#Giv_rec('The Shawshank Redemption',sig)"
   ]
  },
  {
   "cell_type": "code",
   "execution_count": null,
   "id": "2fb2dcd7",
   "metadata": {},
   "outputs": [],
   "source": []
  },
  {
   "cell_type": "code",
   "execution_count": 102,
   "id": "eb862f52",
   "metadata": {},
   "outputs": [],
   "source": [
    "import pickle"
   ]
  },
  {
   "cell_type": "code",
   "execution_count": 103,
   "id": "1f95ee2d",
   "metadata": {},
   "outputs": [],
   "source": [
    "#pickle.dump(df3,open('movie.pkl','wb'))  #it will convert in binary form for environment"
   ]
  },
  {
   "cell_type": "code",
   "execution_count": 104,
   "id": "23c8ad80",
   "metadata": {},
   "outputs": [],
   "source": [
    "pickle.dump(df3.to_dict(),open('movie_dict.pkl','wb'))  # wb means write binary"
   ]
  },
  {
   "cell_type": "code",
   "execution_count": 122,
   "id": "88d7fdd5",
   "metadata": {},
   "outputs": [],
   "source": [
    "pickle.dump(similarity,open('similarity2.pkl','wb'))"
   ]
  },
  {
   "cell_type": "code",
   "execution_count": 106,
   "id": "021b8a40",
   "metadata": {},
   "outputs": [],
   "source": [
    "import numpy as np\n",
    "\n",
    "np.save('similarity.npy', similarity)\n"
   ]
  },
  {
   "cell_type": "code",
   "execution_count": 107,
   "id": "902fa2b6",
   "metadata": {},
   "outputs": [],
   "source": [
    "#import pickle\n",
    "#import gzip\n",
    "\n",
    "#with gzip.open('similarity1.pkl.gz', 'wb') as f:\n",
    "   # pickle.dump(similarity, f)\n"
   ]
  },
  {
   "cell_type": "code",
   "execution_count": 108,
   "id": "25f93204",
   "metadata": {},
   "outputs": [],
   "source": [
    "#from scipy.sparse import csr_matrix\n",
    "\n",
    "#sparse_similarity = csr_matrix(similarity)\n",
    "#with open('sparse_similarity.pkl', 'wb') as f:\n",
    "    #pickle.dump(sparse_similarity, f)\n"
   ]
  },
  {
   "cell_type": "code",
   "execution_count": 123,
   "id": "361c579e",
   "metadata": {},
   "outputs": [],
   "source": [
    "import os\n",
    "import bz2"
   ]
  },
  {
   "cell_type": "code",
   "execution_count": 124,
   "id": "804bdef3",
   "metadata": {},
   "outputs": [
    {
     "name": "stdout",
     "output_type": "stream",
     "text": [
      "302973891\n"
     ]
    }
   ],
   "source": [
    "ofile = open(\"BinaryData\",'wb')\n",
    "pickle.dump(similarity, ofile)\n",
    "ofile.close()\n",
    " \n",
    "print(os.path.getsize(\"BinaryData\"))"
   ]
  },
  {
   "cell_type": "code",
   "execution_count": 125,
   "id": "db1caad3",
   "metadata": {},
   "outputs": [
    {
     "name": "stdout",
     "output_type": "stream",
     "text": [
      "40541648\n"
     ]
    }
   ],
   "source": [
    "ofile = bz2.BZ2File(\"BinaryData\",'wb')\n",
    "pickle.dump(similarity,ofile)\n",
    "ofile.close()\n",
    " \n",
    "print(os.path.getsize(\"BinaryData\"))"
   ]
  },
  {
   "cell_type": "code",
   "execution_count": 126,
   "id": "0270c490",
   "metadata": {},
   "outputs": [],
   "source": [
    "ofile = open(\"BinaryData\",'wb')"
   ]
  },
  {
   "cell_type": "code",
   "execution_count": 129,
   "id": "c421874f",
   "metadata": {},
   "outputs": [],
   "source": [
    "import gzip\n",
    "import pickle\n",
    "\n",
    "with gzip.open('compressed_similarity.pkl.gz', 'wb') as f:\n",
    "    pickle.dump(similarity, f, protocol=pickle.HIGHEST_PROTOCOL)\n",
    "\n",
    "    "
   ]
  },
  {
   "cell_type": "code",
   "execution_count": null,
   "id": "749170bd",
   "metadata": {},
   "outputs": [],
   "source": []
  }
 ],
 "metadata": {
  "colab": {
   "provenance": []
  },
  "kernelspec": {
   "display_name": "Python 3 (ipykernel)",
   "language": "python",
   "name": "python3"
  },
  "language_info": {
   "codemirror_mode": {
    "name": "ipython",
    "version": 3
   },
   "file_extension": ".py",
   "mimetype": "text/x-python",
   "name": "python",
   "nbconvert_exporter": "python",
   "pygments_lexer": "ipython3",
   "version": "3.10.9"
  }
 },
 "nbformat": 4,
 "nbformat_minor": 5
}
